{
  "nbformat": 4,
  "nbformat_minor": 0,
  "metadata": {
    "colab": {
      "name": "Untitled2.ipynb",
      "provenance": [],
      "authorship_tag": "ABX9TyMsw+N6rWNdkgyVU7Fg9jv8",
      "include_colab_link": true
    },
    "kernelspec": {
      "name": "python3",
      "display_name": "Python 3"
    },
    "language_info": {
      "name": "python"
    }
  },
  "cells": [
    {
      "cell_type": "markdown",
      "metadata": {
        "id": "view-in-github",
        "colab_type": "text"
      },
      "source": [
        "<a href=\"https://colab.research.google.com/github/ArasHEsLaM1/machine_learning_with_python_jadi/blob/main/AUD_USD.ipynb\" target=\"_parent\"><img src=\"https://colab.research.google.com/assets/colab-badge.svg\" alt=\"Open In Colab\"/></a>"
      ]
    },
    {
      "cell_type": "code",
      "execution_count": 3,
      "metadata": {
        "id": "t-98RpfyjcVW",
        "outputId": "db75de92-9ed7-485f-c25c-7b19c17917cb",
        "colab": {
          "base_uri": "https://localhost:8080/"
        }
      },
      "outputs": [
        {
          "output_type": "stream",
          "name": "stdout",
          "text": [
            "Looking in indexes: https://pypi.org/simple, https://us-python.pkg.dev/colab-wheels/public/simple/\n",
            "Requirement already satisfied: yfinance in /usr/local/lib/python3.7/dist-packages (0.1.74)\n",
            "Requirement already satisfied: requests>=2.26 in /usr/local/lib/python3.7/dist-packages (from yfinance) (2.28.1)\n",
            "Requirement already satisfied: pandas>=0.24.0 in /usr/local/lib/python3.7/dist-packages (from yfinance) (1.3.5)\n",
            "Requirement already satisfied: multitasking>=0.0.7 in /usr/local/lib/python3.7/dist-packages (from yfinance) (0.0.11)\n",
            "Requirement already satisfied: lxml>=4.5.1 in /usr/local/lib/python3.7/dist-packages (from yfinance) (4.9.1)\n",
            "Requirement already satisfied: numpy>=1.15 in /usr/local/lib/python3.7/dist-packages (from yfinance) (1.21.6)\n",
            "Requirement already satisfied: python-dateutil>=2.7.3 in /usr/local/lib/python3.7/dist-packages (from pandas>=0.24.0->yfinance) (2.8.2)\n",
            "Requirement already satisfied: pytz>=2017.3 in /usr/local/lib/python3.7/dist-packages (from pandas>=0.24.0->yfinance) (2022.1)\n",
            "Requirement already satisfied: six>=1.5 in /usr/local/lib/python3.7/dist-packages (from python-dateutil>=2.7.3->pandas>=0.24.0->yfinance) (1.15.0)\n",
            "Requirement already satisfied: charset-normalizer<3,>=2 in /usr/local/lib/python3.7/dist-packages (from requests>=2.26->yfinance) (2.1.0)\n",
            "Requirement already satisfied: certifi>=2017.4.17 in /usr/local/lib/python3.7/dist-packages (from requests>=2.26->yfinance) (2022.6.15)\n",
            "Requirement already satisfied: urllib3<1.27,>=1.21.1 in /usr/local/lib/python3.7/dist-packages (from requests>=2.26->yfinance) (1.24.3)\n",
            "Requirement already satisfied: idna<4,>=2.5 in /usr/local/lib/python3.7/dist-packages (from requests>=2.26->yfinance) (2.10)\n"
          ]
        }
      ],
      "source": [
        "%pip install yfinance\n",
        "import numpy as np\n",
        "import pandas as pd\n",
        "import matplotlib.pyplot as plt\n",
        "from sklearn.preprocessing import MinMaxScaler \n",
        "import time\n",
        "from keras.models import Sequential,load_model\n",
        "from keras.layers  import Dropout,LSTM,Dense\n",
        "from keras.callbacks import EarlyStopping\n",
        "import yfinance as yf\n"
      ]
    },
    {
      "cell_type": "code",
      "source": [
        "basic_data= yf.download(\"AUDUSD=X\",start='2010-09-29',end='2021-09-29')\n"
      ],
      "metadata": {
        "colab": {
          "base_uri": "https://localhost:8080/"
        },
        "id": "Wla8CCoolECu",
        "outputId": "30168577-6314-4da7-894c-c2ed4d4eb7da"
      },
      "execution_count": 4,
      "outputs": [
        {
          "output_type": "stream",
          "name": "stdout",
          "text": [
            "\r[*********************100%***********************]  1 of 1 completed\n"
          ]
        }
      ]
    },
    {
      "cell_type": "code",
      "source": [
        "basic_data.head(5)"
      ],
      "metadata": {
        "colab": {
          "base_uri": "https://localhost:8080/",
          "height": 237
        },
        "id": "sf6IqB9Yle_5",
        "outputId": "c3d6c3ca-a4c1-4a2e-a493-ef93d03145f5"
      },
      "execution_count": 5,
      "outputs": [
        {
          "output_type": "execute_result",
          "data": {
            "text/plain": [
              "                Open      High       Low     Close  Adj Close  Volume\n",
              "Date                                                                 \n",
              "2010-09-29  0.967024  0.972857  0.965997  0.967118   0.967118       0\n",
              "2010-09-30  0.969368  0.973331  0.963206  0.969368   0.969368       0\n",
              "2010-10-01  0.964785  0.974374  0.963762  0.964413   0.964413       0\n",
              "2010-10-04  0.971628  0.972195  0.965437  0.971723   0.971723       0\n",
              "2010-10-05  0.967305  0.970403  0.954472  0.967024   0.967024       0"
            ],
            "text/html": [
              "\n",
              "  <div id=\"df-1aa1764a-060b-4574-8d2e-b3d7ddbc58b4\">\n",
              "    <div class=\"colab-df-container\">\n",
              "      <div>\n",
              "<style scoped>\n",
              "    .dataframe tbody tr th:only-of-type {\n",
              "        vertical-align: middle;\n",
              "    }\n",
              "\n",
              "    .dataframe tbody tr th {\n",
              "        vertical-align: top;\n",
              "    }\n",
              "\n",
              "    .dataframe thead th {\n",
              "        text-align: right;\n",
              "    }\n",
              "</style>\n",
              "<table border=\"1\" class=\"dataframe\">\n",
              "  <thead>\n",
              "    <tr style=\"text-align: right;\">\n",
              "      <th></th>\n",
              "      <th>Open</th>\n",
              "      <th>High</th>\n",
              "      <th>Low</th>\n",
              "      <th>Close</th>\n",
              "      <th>Adj Close</th>\n",
              "      <th>Volume</th>\n",
              "    </tr>\n",
              "    <tr>\n",
              "      <th>Date</th>\n",
              "      <th></th>\n",
              "      <th></th>\n",
              "      <th></th>\n",
              "      <th></th>\n",
              "      <th></th>\n",
              "      <th></th>\n",
              "    </tr>\n",
              "  </thead>\n",
              "  <tbody>\n",
              "    <tr>\n",
              "      <th>2010-09-29</th>\n",
              "      <td>0.967024</td>\n",
              "      <td>0.972857</td>\n",
              "      <td>0.965997</td>\n",
              "      <td>0.967118</td>\n",
              "      <td>0.967118</td>\n",
              "      <td>0</td>\n",
              "    </tr>\n",
              "    <tr>\n",
              "      <th>2010-09-30</th>\n",
              "      <td>0.969368</td>\n",
              "      <td>0.973331</td>\n",
              "      <td>0.963206</td>\n",
              "      <td>0.969368</td>\n",
              "      <td>0.969368</td>\n",
              "      <td>0</td>\n",
              "    </tr>\n",
              "    <tr>\n",
              "      <th>2010-10-01</th>\n",
              "      <td>0.964785</td>\n",
              "      <td>0.974374</td>\n",
              "      <td>0.963762</td>\n",
              "      <td>0.964413</td>\n",
              "      <td>0.964413</td>\n",
              "      <td>0</td>\n",
              "    </tr>\n",
              "    <tr>\n",
              "      <th>2010-10-04</th>\n",
              "      <td>0.971628</td>\n",
              "      <td>0.972195</td>\n",
              "      <td>0.965437</td>\n",
              "      <td>0.971723</td>\n",
              "      <td>0.971723</td>\n",
              "      <td>0</td>\n",
              "    </tr>\n",
              "    <tr>\n",
              "      <th>2010-10-05</th>\n",
              "      <td>0.967305</td>\n",
              "      <td>0.970403</td>\n",
              "      <td>0.954472</td>\n",
              "      <td>0.967024</td>\n",
              "      <td>0.967024</td>\n",
              "      <td>0</td>\n",
              "    </tr>\n",
              "  </tbody>\n",
              "</table>\n",
              "</div>\n",
              "      <button class=\"colab-df-convert\" onclick=\"convertToInteractive('df-1aa1764a-060b-4574-8d2e-b3d7ddbc58b4')\"\n",
              "              title=\"Convert this dataframe to an interactive table.\"\n",
              "              style=\"display:none;\">\n",
              "        \n",
              "  <svg xmlns=\"http://www.w3.org/2000/svg\" height=\"24px\"viewBox=\"0 0 24 24\"\n",
              "       width=\"24px\">\n",
              "    <path d=\"M0 0h24v24H0V0z\" fill=\"none\"/>\n",
              "    <path d=\"M18.56 5.44l.94 2.06.94-2.06 2.06-.94-2.06-.94-.94-2.06-.94 2.06-2.06.94zm-11 1L8.5 8.5l.94-2.06 2.06-.94-2.06-.94L8.5 2.5l-.94 2.06-2.06.94zm10 10l.94 2.06.94-2.06 2.06-.94-2.06-.94-.94-2.06-.94 2.06-2.06.94z\"/><path d=\"M17.41 7.96l-1.37-1.37c-.4-.4-.92-.59-1.43-.59-.52 0-1.04.2-1.43.59L10.3 9.45l-7.72 7.72c-.78.78-.78 2.05 0 2.83L4 21.41c.39.39.9.59 1.41.59.51 0 1.02-.2 1.41-.59l7.78-7.78 2.81-2.81c.8-.78.8-2.07 0-2.86zM5.41 20L4 18.59l7.72-7.72 1.47 1.35L5.41 20z\"/>\n",
              "  </svg>\n",
              "      </button>\n",
              "      \n",
              "  <style>\n",
              "    .colab-df-container {\n",
              "      display:flex;\n",
              "      flex-wrap:wrap;\n",
              "      gap: 12px;\n",
              "    }\n",
              "\n",
              "    .colab-df-convert {\n",
              "      background-color: #E8F0FE;\n",
              "      border: none;\n",
              "      border-radius: 50%;\n",
              "      cursor: pointer;\n",
              "      display: none;\n",
              "      fill: #1967D2;\n",
              "      height: 32px;\n",
              "      padding: 0 0 0 0;\n",
              "      width: 32px;\n",
              "    }\n",
              "\n",
              "    .colab-df-convert:hover {\n",
              "      background-color: #E2EBFA;\n",
              "      box-shadow: 0px 1px 2px rgba(60, 64, 67, 0.3), 0px 1px 3px 1px rgba(60, 64, 67, 0.15);\n",
              "      fill: #174EA6;\n",
              "    }\n",
              "\n",
              "    [theme=dark] .colab-df-convert {\n",
              "      background-color: #3B4455;\n",
              "      fill: #D2E3FC;\n",
              "    }\n",
              "\n",
              "    [theme=dark] .colab-df-convert:hover {\n",
              "      background-color: #434B5C;\n",
              "      box-shadow: 0px 1px 3px 1px rgba(0, 0, 0, 0.15);\n",
              "      filter: drop-shadow(0px 1px 2px rgba(0, 0, 0, 0.3));\n",
              "      fill: #FFFFFF;\n",
              "    }\n",
              "  </style>\n",
              "\n",
              "      <script>\n",
              "        const buttonEl =\n",
              "          document.querySelector('#df-1aa1764a-060b-4574-8d2e-b3d7ddbc58b4 button.colab-df-convert');\n",
              "        buttonEl.style.display =\n",
              "          google.colab.kernel.accessAllowed ? 'block' : 'none';\n",
              "\n",
              "        async function convertToInteractive(key) {\n",
              "          const element = document.querySelector('#df-1aa1764a-060b-4574-8d2e-b3d7ddbc58b4');\n",
              "          const dataTable =\n",
              "            await google.colab.kernel.invokeFunction('convertToInteractive',\n",
              "                                                     [key], {});\n",
              "          if (!dataTable) return;\n",
              "\n",
              "          const docLinkHtml = 'Like what you see? Visit the ' +\n",
              "            '<a target=\"_blank\" href=https://colab.research.google.com/notebooks/data_table.ipynb>data table notebook</a>'\n",
              "            + ' to learn more about interactive tables.';\n",
              "          element.innerHTML = '';\n",
              "          dataTable['output_type'] = 'display_data';\n",
              "          await google.colab.output.renderOutput(dataTable, element);\n",
              "          const docLink = document.createElement('div');\n",
              "          docLink.innerHTML = docLinkHtml;\n",
              "          element.appendChild(docLink);\n",
              "        }\n",
              "      </script>\n",
              "    </div>\n",
              "  </div>\n",
              "  "
            ]
          },
          "metadata": {},
          "execution_count": 5
        }
      ]
    },
    {
      "cell_type": "code",
      "source": [
        "basic_data.shape"
      ],
      "metadata": {
        "colab": {
          "base_uri": "https://localhost:8080/"
        },
        "id": "-lODjIZPlheP",
        "outputId": "4751a3ed-e4a6-44b8-c747-f9d49036be52"
      },
      "execution_count": 6,
      "outputs": [
        {
          "output_type": "execute_result",
          "data": {
            "text/plain": [
              "(2865, 6)"
            ]
          },
          "metadata": {},
          "execution_count": 6
        }
      ]
    },
    {
      "cell_type": "code",
      "source": [
        "df=pd.DataFrame(basic_data)"
      ],
      "metadata": {
        "id": "_Cs1RneQltcu"
      },
      "execution_count": 7,
      "outputs": []
    },
    {
      "cell_type": "code",
      "source": [
        "df_close=df.reset_index()['Close']"
      ],
      "metadata": {
        "id": "561QBW5Wx071"
      },
      "execution_count": 8,
      "outputs": []
    },
    {
      "cell_type": "code",
      "source": [
        "df_close.shape\n"
      ],
      "metadata": {
        "colab": {
          "base_uri": "https://localhost:8080/"
        },
        "id": "uCR9xaasyIKl",
        "outputId": "c2e63ac4-adee-41b4-8c1e-1b75cf0a613b"
      },
      "execution_count": 9,
      "outputs": [
        {
          "output_type": "execute_result",
          "data": {
            "text/plain": [
              "(2865,)"
            ]
          },
          "metadata": {},
          "execution_count": 9
        }
      ]
    },
    {
      "cell_type": "code",
      "source": [
        "plt.figure(figsize=(20,9))\n",
        "plt.plot(df_close)"
      ],
      "metadata": {
        "colab": {
          "base_uri": "https://localhost:8080/",
          "height": 554
        },
        "id": "qUEa10w-yNok",
        "outputId": "eee31925-4f71-4e8e-c039-489a5c9f4066"
      },
      "execution_count": 26,
      "outputs": [
        {
          "output_type": "execute_result",
          "data": {
            "text/plain": [
              "[<matplotlib.lines.Line2D at 0x7fc8df93ca10>]"
            ]
          },
          "metadata": {},
          "execution_count": 26
        },
        {
          "output_type": "display_data",
          "data": {
            "text/plain": [
              "<Figure size 1440x648 with 1 Axes>"
            ],
            "image/png": "[encoded data removed]"
          },
          "metadata": {
            "needs_background": "light"
          }
        }
      ]
    },
    {
      "cell_type": "code",
      "source": [
        "scaler=MinMaxScaler(feature_range=(0,1))\n",
        "df_close=scaler.fit_transform(np.array(df_close).reshape(-1,1))\n",
        "df_close.shape\n",
        "df_close"
      ],
      "metadata": {
        "id": "6JTnR1Gd60V8",
        "colab": {
          "base_uri": "https://localhost:8080/"
        },
        "outputId": "1fb4722c-a815-4f0f-f356-d5f94be1c35b"
      },
      "execution_count": 11,
      "outputs": [
        {
          "output_type": "execute_result",
          "data": {
            "text/plain": [
              "array([[0.74229534],\n",
              "       [0.74654701],\n",
              "       [0.73718418],\n",
              "       ...,\n",
              "       [0.28783064],\n",
              "       [0.29056676],\n",
              "       [0.28370297]])"
            ]
          },
          "metadata": {},
          "execution_count": 11
        }
      ]
    },
    {
      "cell_type": "code",
      "source": [
        "trainig_size=int(len(df_close)*0.8)\n",
        "testing_size=len(df_close)-trainig_size\n",
        "train_data,test_data=df_close[0:trainig_size,:],df_close[trainig_size:len(df_close),:1]\n",
        "trainig_size,testing_size"
      ],
      "metadata": {
        "id": "SIk7dhnV7qwj",
        "colab": {
          "base_uri": "https://localhost:8080/"
        },
        "outputId": "ed70bc43-517a-4bfb-a9b0-d690b2b4d0e3"
      },
      "execution_count": 12,
      "outputs": [
        {
          "output_type": "execute_result",
          "data": {
            "text/plain": [
              "(2292, 573)"
            ]
          },
          "metadata": {},
          "execution_count": 12
        }
      ]
    },
    {
      "cell_type": "code",
      "source": [
        "#Convert an array of values into a dataset matrix\n",
        "def create_dataset(dataset,time_step=1):\n",
        "  dataX,dataY=[],[]\n",
        "  for i in range(len(dataset)-time_step-1):\n",
        "    a=dataset[i:(i+time_step),0]    #i=0, 0,1,2,3,-----99,100\n",
        "    dataX.append(a)\n",
        "    dataY.append(dataset[i+ time_step,0])\n",
        "  return np.array(dataX),np.array(dataY)"
      ],
      "metadata": {
        "id": "XS20RBNR6PD7"
      },
      "execution_count": 13,
      "outputs": []
    },
    {
      "cell_type": "code",
      "source": [
        "time_step=100\n",
        "x_train,y_train=create_dataset(train_data,time_step)\n",
        "x_test,y_test=create_dataset(test_data,time_step)\n"
      ],
      "metadata": {
        "id": "O0KBcIKj-Fxs"
      },
      "execution_count": 14,
      "outputs": []
    },
    {
      "cell_type": "code",
      "source": [
        "x_train\n"
      ],
      "metadata": {
        "colab": {
          "base_uri": "https://localhost:8080/"
        },
        "id": "wpj5Gk4ZFc1h",
        "outputId": "77c215a2-d474-4ea5-d937-b9e9bdfe4a62"
      },
      "execution_count": 15,
      "outputs": [
        {
          "output_type": "execute_result",
          "data": {
            "text/plain": [
              "array([[0.74229534, 0.74654701, 0.73718418, ..., 0.80707896, 0.80743915,\n",
              "        0.80840642],\n",
              "       [0.74654701, 0.73718418, 0.75099692, ..., 0.80743915, 0.80840642,\n",
              "        0.79934172],\n",
              "       [0.73718418, 0.75099692, 0.74211851, ..., 0.80840642, 0.79934172,\n",
              "        0.81015377],\n",
              "       ...,\n",
              "       [0.26763042, 0.27044505, 0.27419969, ..., 0.23033463, 0.23236186,\n",
              "        0.24090542],\n",
              "       [0.27044505, 0.27419969, 0.2655997 , ..., 0.23236186, 0.24090542,\n",
              "        0.24510653],\n",
              "       [0.27419969, 0.2655997 , 0.2569648 , ..., 0.24090542, 0.24510653,\n",
              "        0.24067284]])"
            ]
          },
          "metadata": {},
          "execution_count": 15
        }
      ]
    },
    {
      "cell_type": "code",
      "source": [
        "x_train.shape\n",
        "#(number of records,time_step)"
      ],
      "metadata": {
        "colab": {
          "base_uri": "https://localhost:8080/"
        },
        "id": "_nq7wPL1Fe8h",
        "outputId": "e03c0299-904a-4691-fb3c-b716d621d998"
      },
      "execution_count": 16,
      "outputs": [
        {
          "output_type": "execute_result",
          "data": {
            "text/plain": [
              "(2191, 100)"
            ]
          },
          "metadata": {},
          "execution_count": 16
        }
      ]
    },
    {
      "cell_type": "code",
      "source": [
        "#CREATE A LSTM MODEL"
      ],
      "metadata": {
        "id": "LQJJ-Vl0GFGf"
      },
      "execution_count": 17,
      "outputs": []
    },
    {
      "cell_type": "code",
      "source": [
        "#RESHAPE INPUT TO BE [samples,time steps,feature] which is required for LSTM\n",
        "x_train=x_train.reshape(x_train.shape[0],x_train.shape[1],1)    #last one for convert into 3D model\n",
        "x_test= x_test.reshape(x_test.shape[0],x_test.shape[1],1)"
      ],
      "metadata": {
        "id": "bfWlgcVIGppZ"
      },
      "execution_count": 18,
      "outputs": []
    },
    {
      "cell_type": "code",
      "source": [
        "#CREAT LSTM MODEL CELL\n",
        "model=Sequential()\n",
        "model.add(LSTM(50,return_sequences=True,input_shape=(100,1))) #100 for time steps  LSTM LAYER 1\n",
        "model.add(LSTM(50,return_sequences=True))                                         #LSTM LAYER 2\n",
        "model.add(LSTM(50))                                                               #LSTM LAYER 3\n",
        "model.add(Dense(1))\n",
        "model.compile(loss='mean_squared_error',optimizer='adam')   #LOSS FUNCRION ALGORITHM=MSE , OPTIMIZER ALGORITHM =ADAM"
      ],
      "metadata": {
        "id": "JKAKE45uILkp"
      },
      "execution_count": 19,
      "outputs": []
    },
    {
      "cell_type": "code",
      "source": [
        "model.fit(x_train,y_train,validation_data=(x_test,y_test),epochs=200,batch_size=64,verbose=1)"
      ],
      "metadata": {
        "colab": {
          "base_uri": "https://localhost:8080/"
        },
        "id": "J16_jw3sKknA",
        "outputId": "f030ddae-eb60-4d32-9982-6e4be469f27c"
      },
      "execution_count": 20,
      "outputs": [
        {
          "output_type": "stream",
          "name": "stdout",
          "text": [
            "Epoch 1/200\n",
            "35/35 [==============================] - 15s 273ms/step - loss: 0.0413 - val_loss: 0.0012\n",
            "Epoch 2/200\n",
            "35/35 [==============================] - 6s 184ms/step - loss: 0.0018 - val_loss: 8.6989e-04\n",
            "Epoch 3/200\n",
            "35/35 [==============================] - 6s 183ms/step - loss: 0.0010 - val_loss: 8.1505e-04\n",
            "Epoch 4/200\n",
            "35/35 [==============================] - 6s 186ms/step - loss: 9.4762e-04 - val_loss: 7.7663e-04\n",
            "Epoch 5/200\n",
            "35/35 [==============================] - 6s 184ms/step - loss: 9.1137e-04 - val_loss: 7.8080e-04\n",
            "Epoch 6/200\n",
            "35/35 [==============================] - 6s 183ms/step - loss: 8.9518e-04 - val_loss: 7.7873e-04\n",
            "Epoch 7/200\n",
            "35/35 [==============================] - 7s 205ms/step - loss: 9.5023e-04 - val_loss: 7.5750e-04\n",
            "Epoch 8/200\n",
            "35/35 [==============================] - 6s 185ms/step - loss: 8.6855e-04 - val_loss: 7.1756e-04\n",
            "Epoch 9/200\n",
            "35/35 [==============================] - 6s 183ms/step - loss: 8.2860e-04 - val_loss: 7.0031e-04\n",
            "Epoch 10/200\n",
            "35/35 [==============================] - 7s 187ms/step - loss: 8.9162e-04 - val_loss: 7.7227e-04\n",
            "Epoch 11/200\n",
            "35/35 [==============================] - 7s 188ms/step - loss: 9.1449e-04 - val_loss: 6.7560e-04\n",
            "Epoch 12/200\n",
            "35/35 [==============================] - 7s 186ms/step - loss: 8.8473e-04 - val_loss: 6.7559e-04\n",
            "Epoch 13/200\n",
            "35/35 [==============================] - 7s 214ms/step - loss: 7.5731e-04 - val_loss: 6.6015e-04\n",
            "Epoch 14/200\n",
            "35/35 [==============================] - 6s 183ms/step - loss: 7.6554e-04 - val_loss: 6.5626e-04\n",
            "Epoch 15/200\n",
            "35/35 [==============================] - 6s 185ms/step - loss: 7.6004e-04 - val_loss: 6.8549e-04\n",
            "Epoch 16/200\n",
            "35/35 [==============================] - 6s 184ms/step - loss: 7.9511e-04 - val_loss: 6.1072e-04\n",
            "Epoch 17/200\n",
            "35/35 [==============================] - 6s 185ms/step - loss: 6.8539e-04 - val_loss: 6.0904e-04\n",
            "Epoch 18/200\n",
            "35/35 [==============================] - 7s 186ms/step - loss: 6.6741e-04 - val_loss: 5.8368e-04\n",
            "Epoch 19/200\n",
            "35/35 [==============================] - 6s 185ms/step - loss: 6.5754e-04 - val_loss: 6.0271e-04\n",
            "Epoch 20/200\n",
            "35/35 [==============================] - 6s 185ms/step - loss: 7.7330e-04 - val_loss: 5.7882e-04\n",
            "Epoch 21/200\n",
            "35/35 [==============================] - 7s 187ms/step - loss: 6.3268e-04 - val_loss: 5.6147e-04\n",
            "Epoch 22/200\n",
            "35/35 [==============================] - 6s 185ms/step - loss: 6.1408e-04 - val_loss: 5.3489e-04\n",
            "Epoch 23/200\n",
            "35/35 [==============================] - 6s 185ms/step - loss: 6.1471e-04 - val_loss: 5.2805e-04\n",
            "Epoch 24/200\n",
            "35/35 [==============================] - 6s 184ms/step - loss: 6.2692e-04 - val_loss: 5.2177e-04\n",
            "Epoch 25/200\n",
            "35/35 [==============================] - 7s 186ms/step - loss: 5.5508e-04 - val_loss: 5.1483e-04\n",
            "Epoch 26/200\n",
            "35/35 [==============================] - 6s 184ms/step - loss: 6.6845e-04 - val_loss: 5.9772e-04\n",
            "Epoch 27/200\n",
            "35/35 [==============================] - 6s 185ms/step - loss: 5.8223e-04 - val_loss: 4.9732e-04\n",
            "Epoch 28/200\n",
            "35/35 [==============================] - 6s 185ms/step - loss: 5.2394e-04 - val_loss: 4.8778e-04\n",
            "Epoch 29/200\n",
            "35/35 [==============================] - 6s 185ms/step - loss: 5.0492e-04 - val_loss: 4.7493e-04\n",
            "Epoch 30/200\n",
            "35/35 [==============================] - 6s 184ms/step - loss: 5.5544e-04 - val_loss: 5.9600e-04\n",
            "Epoch 31/200\n",
            "35/35 [==============================] - 6s 185ms/step - loss: 5.7706e-04 - val_loss: 4.9329e-04\n",
            "Epoch 32/200\n",
            "35/35 [==============================] - 7s 187ms/step - loss: 4.7542e-04 - val_loss: 5.3923e-04\n",
            "Epoch 33/200\n",
            "35/35 [==============================] - 6s 185ms/step - loss: 4.5342e-04 - val_loss: 4.5361e-04\n",
            "Epoch 34/200\n",
            "35/35 [==============================] - 8s 219ms/step - loss: 4.6849e-04 - val_loss: 4.4911e-04\n",
            "Epoch 35/200\n",
            "35/35 [==============================] - 7s 187ms/step - loss: 4.1483e-04 - val_loss: 4.4512e-04\n",
            "Epoch 36/200\n",
            "35/35 [==============================] - 6s 185ms/step - loss: 4.1308e-04 - val_loss: 4.4060e-04\n",
            "Epoch 37/200\n",
            "35/35 [==============================] - 6s 185ms/step - loss: 4.2379e-04 - val_loss: 4.4494e-04\n",
            "Epoch 38/200\n",
            "35/35 [==============================] - 6s 186ms/step - loss: 4.0599e-04 - val_loss: 4.2054e-04\n",
            "Epoch 39/200\n",
            "35/35 [==============================] - 6s 185ms/step - loss: 3.7259e-04 - val_loss: 4.4758e-04\n",
            "Epoch 40/200\n",
            "35/35 [==============================] - 6s 184ms/step - loss: 3.6756e-04 - val_loss: 4.1611e-04\n",
            "Epoch 41/200\n",
            "35/35 [==============================] - 7s 186ms/step - loss: 4.7188e-04 - val_loss: 4.2483e-04\n",
            "Epoch 42/200\n",
            "35/35 [==============================] - 6s 183ms/step - loss: 4.2864e-04 - val_loss: 4.0242e-04\n",
            "Epoch 43/200\n",
            "35/35 [==============================] - 6s 184ms/step - loss: 4.4511e-04 - val_loss: 4.6362e-04\n",
            "Epoch 44/200\n",
            "35/35 [==============================] - 6s 184ms/step - loss: 4.0257e-04 - val_loss: 4.3911e-04\n",
            "Epoch 45/200\n",
            "35/35 [==============================] - 6s 185ms/step - loss: 3.5046e-04 - val_loss: 3.8865e-04\n",
            "Epoch 46/200\n",
            "35/35 [==============================] - 6s 184ms/step - loss: 3.5915e-04 - val_loss: 3.8071e-04\n",
            "Epoch 47/200\n",
            "35/35 [==============================] - 6s 185ms/step - loss: 3.2990e-04 - val_loss: 3.9932e-04\n",
            "Epoch 48/200\n",
            "35/35 [==============================] - 6s 185ms/step - loss: 3.5400e-04 - val_loss: 3.7509e-04\n",
            "Epoch 49/200\n",
            "35/35 [==============================] - 7s 189ms/step - loss: 3.4088e-04 - val_loss: 3.8067e-04\n",
            "Epoch 50/200\n",
            "35/35 [==============================] - 6s 184ms/step - loss: 3.1889e-04 - val_loss: 3.7243e-04\n",
            "Epoch 51/200\n",
            "35/35 [==============================] - 6s 184ms/step - loss: 3.1411e-04 - val_loss: 3.8444e-04\n",
            "Epoch 52/200\n",
            "35/35 [==============================] - 7s 188ms/step - loss: 3.2807e-04 - val_loss: 4.5414e-04\n",
            "Epoch 53/200\n",
            "35/35 [==============================] - 6s 184ms/step - loss: 3.0711e-04 - val_loss: 3.5067e-04\n",
            "Epoch 54/200\n",
            "35/35 [==============================] - 6s 185ms/step - loss: 2.9088e-04 - val_loss: 3.5678e-04\n",
            "Epoch 55/200\n",
            "35/35 [==============================] - 8s 216ms/step - loss: 2.9266e-04 - val_loss: 3.3940e-04\n",
            "Epoch 56/200\n",
            "35/35 [==============================] - 6s 185ms/step - loss: 3.4719e-04 - val_loss: 3.3745e-04\n",
            "Epoch 57/200\n",
            "35/35 [==============================] - 6s 185ms/step - loss: 2.7909e-04 - val_loss: 3.3793e-04\n",
            "Epoch 58/200\n",
            "35/35 [==============================] - 6s 186ms/step - loss: 3.3820e-04 - val_loss: 3.6060e-04\n",
            "Epoch 59/200\n",
            "35/35 [==============================] - 6s 185ms/step - loss: 3.0048e-04 - val_loss: 3.2643e-04\n",
            "Epoch 60/200\n",
            "35/35 [==============================] - 6s 185ms/step - loss: 2.8165e-04 - val_loss: 3.2248e-04\n",
            "Epoch 61/200\n",
            "35/35 [==============================] - 6s 184ms/step - loss: 2.6145e-04 - val_loss: 3.3571e-04\n",
            "Epoch 62/200\n",
            "35/35 [==============================] - 6s 184ms/step - loss: 3.2676e-04 - val_loss: 3.1435e-04\n",
            "Epoch 63/200\n",
            "35/35 [==============================] - 6s 185ms/step - loss: 3.0201e-04 - val_loss: 3.4252e-04\n",
            "Epoch 64/200\n",
            "35/35 [==============================] - 6s 185ms/step - loss: 2.9421e-04 - val_loss: 4.1475e-04\n",
            "Epoch 65/200\n",
            "35/35 [==============================] - 6s 185ms/step - loss: 2.8218e-04 - val_loss: 3.2917e-04\n",
            "Epoch 66/200\n",
            "35/35 [==============================] - 6s 185ms/step - loss: 2.3709e-04 - val_loss: 3.1510e-04\n",
            "Epoch 67/200\n",
            "35/35 [==============================] - 6s 185ms/step - loss: 2.4701e-04 - val_loss: 2.9508e-04\n",
            "Epoch 68/200\n",
            "35/35 [==============================] - 6s 185ms/step - loss: 2.3029e-04 - val_loss: 2.9447e-04\n",
            "Epoch 69/200\n",
            "35/35 [==============================] - 7s 186ms/step - loss: 2.4471e-04 - val_loss: 2.9258e-04\n",
            "Epoch 70/200\n",
            "35/35 [==============================] - 6s 185ms/step - loss: 2.7074e-04 - val_loss: 2.9969e-04\n",
            "Epoch 71/200\n",
            "35/35 [==============================] - 7s 186ms/step - loss: 2.5036e-04 - val_loss: 2.9685e-04\n",
            "Epoch 72/200\n",
            "35/35 [==============================] - 7s 187ms/step - loss: 2.3993e-04 - val_loss: 3.4122e-04\n",
            "Epoch 73/200\n",
            "35/35 [==============================] - 7s 188ms/step - loss: 2.4096e-04 - val_loss: 2.7941e-04\n",
            "Epoch 74/200\n",
            "35/35 [==============================] - 6s 185ms/step - loss: 2.4496e-04 - val_loss: 3.1798e-04\n",
            "Epoch 75/200\n",
            "35/35 [==============================] - 7s 194ms/step - loss: 3.3157e-04 - val_loss: 3.0078e-04\n",
            "Epoch 76/200\n",
            "35/35 [==============================] - 7s 205ms/step - loss: 3.1956e-04 - val_loss: 2.9177e-04\n",
            "Epoch 77/200\n",
            "35/35 [==============================] - 6s 185ms/step - loss: 2.4244e-04 - val_loss: 2.7941e-04\n",
            "Epoch 78/200\n",
            "35/35 [==============================] - 6s 184ms/step - loss: 2.2711e-04 - val_loss: 2.7073e-04\n",
            "Epoch 79/200\n",
            "35/35 [==============================] - 6s 185ms/step - loss: 2.2511e-04 - val_loss: 2.7149e-04\n",
            "Epoch 80/200\n",
            "35/35 [==============================] - 6s 184ms/step - loss: 2.1884e-04 - val_loss: 2.9498e-04\n",
            "Epoch 81/200\n",
            "35/35 [==============================] - 6s 184ms/step - loss: 2.3422e-04 - val_loss: 2.6642e-04\n",
            "Epoch 82/200\n",
            "35/35 [==============================] - 6s 185ms/step - loss: 2.1171e-04 - val_loss: 2.5915e-04\n",
            "Epoch 83/200\n",
            "35/35 [==============================] - 7s 189ms/step - loss: 2.1262e-04 - val_loss: 2.6219e-04\n",
            "Epoch 84/200\n",
            "35/35 [==============================] - 7s 189ms/step - loss: 2.1679e-04 - val_loss: 2.5552e-04\n",
            "Epoch 85/200\n",
            "35/35 [==============================] - 6s 185ms/step - loss: 2.2362e-04 - val_loss: 2.9910e-04\n",
            "Epoch 86/200\n",
            "35/35 [==============================] - 7s 186ms/step - loss: 2.1550e-04 - val_loss: 2.6162e-04\n",
            "Epoch 87/200\n",
            "35/35 [==============================] - 6s 185ms/step - loss: 1.8821e-04 - val_loss: 2.5504e-04\n",
            "Epoch 88/200\n",
            "35/35 [==============================] - 6s 184ms/step - loss: 1.9413e-04 - val_loss: 2.5494e-04\n",
            "Epoch 89/200\n",
            "35/35 [==============================] - 6s 184ms/step - loss: 2.1273e-04 - val_loss: 2.5218e-04\n",
            "Epoch 90/200\n",
            "35/35 [==============================] - 6s 185ms/step - loss: 2.0277e-04 - val_loss: 2.6736e-04\n",
            "Epoch 91/200\n",
            "35/35 [==============================] - 6s 185ms/step - loss: 2.0123e-04 - val_loss: 2.5712e-04\n",
            "Epoch 92/200\n",
            "35/35 [==============================] - 6s 184ms/step - loss: 1.8631e-04 - val_loss: 2.5019e-04\n",
            "Epoch 93/200\n",
            "35/35 [==============================] - 7s 186ms/step - loss: 1.8952e-04 - val_loss: 2.3196e-04\n",
            "Epoch 94/200\n",
            "35/35 [==============================] - 6s 185ms/step - loss: 1.8739e-04 - val_loss: 2.4677e-04\n",
            "Epoch 95/200\n",
            "35/35 [==============================] - 6s 186ms/step - loss: 1.8847e-04 - val_loss: 2.2319e-04\n",
            "Epoch 96/200\n",
            "35/35 [==============================] - 7s 212ms/step - loss: 1.9643e-04 - val_loss: 2.6280e-04\n",
            "Epoch 97/200\n",
            "35/35 [==============================] - 7s 188ms/step - loss: 1.6322e-04 - val_loss: 2.2839e-04\n",
            "Epoch 98/200\n",
            "35/35 [==============================] - 6s 185ms/step - loss: 1.6228e-04 - val_loss: 2.1927e-04\n",
            "Epoch 99/200\n",
            "35/35 [==============================] - 7s 186ms/step - loss: 1.7697e-04 - val_loss: 2.4939e-04\n",
            "Epoch 100/200\n",
            "35/35 [==============================] - 6s 183ms/step - loss: 1.8165e-04 - val_loss: 2.8461e-04\n",
            "Epoch 101/200\n",
            "35/35 [==============================] - 7s 188ms/step - loss: 1.8949e-04 - val_loss: 2.1433e-04\n",
            "Epoch 102/200\n",
            "35/35 [==============================] - 6s 182ms/step - loss: 1.6195e-04 - val_loss: 2.0458e-04\n",
            "Epoch 103/200\n",
            "35/35 [==============================] - 6s 182ms/step - loss: 1.6291e-04 - val_loss: 2.0976e-04\n",
            "Epoch 104/200\n",
            "35/35 [==============================] - 6s 182ms/step - loss: 1.6879e-04 - val_loss: 2.4162e-04\n",
            "Epoch 105/200\n",
            "35/35 [==============================] - 6s 182ms/step - loss: 1.6981e-04 - val_loss: 2.4253e-04\n",
            "Epoch 106/200\n",
            "35/35 [==============================] - 6s 183ms/step - loss: 1.6985e-04 - val_loss: 2.0985e-04\n",
            "Epoch 107/200\n",
            "35/35 [==============================] - 6s 183ms/step - loss: 2.0098e-04 - val_loss: 2.1858e-04\n",
            "Epoch 108/200\n",
            "35/35 [==============================] - 6s 184ms/step - loss: 1.7416e-04 - val_loss: 2.4713e-04\n",
            "Epoch 109/200\n",
            "35/35 [==============================] - 6s 183ms/step - loss: 2.1821e-04 - val_loss: 2.4156e-04\n",
            "Epoch 110/200\n",
            "35/35 [==============================] - 7s 186ms/step - loss: 1.8815e-04 - val_loss: 2.0156e-04\n",
            "Epoch 111/200\n",
            "35/35 [==============================] - 6s 184ms/step - loss: 1.8161e-04 - val_loss: 2.0289e-04\n",
            "Epoch 112/200\n",
            "35/35 [==============================] - 6s 183ms/step - loss: 1.4598e-04 - val_loss: 1.9783e-04\n",
            "Epoch 113/200\n",
            "35/35 [==============================] - 7s 188ms/step - loss: 1.4884e-04 - val_loss: 1.8774e-04\n",
            "Epoch 114/200\n",
            "35/35 [==============================] - 7s 186ms/step - loss: 1.4572e-04 - val_loss: 1.9686e-04\n",
            "Epoch 115/200\n",
            "35/35 [==============================] - 7s 188ms/step - loss: 1.6511e-04 - val_loss: 1.9102e-04\n",
            "Epoch 116/200\n",
            "35/35 [==============================] - 6s 183ms/step - loss: 1.5098e-04 - val_loss: 1.9122e-04\n",
            "Epoch 117/200\n",
            "35/35 [==============================] - 7s 187ms/step - loss: 1.5386e-04 - val_loss: 1.8354e-04\n",
            "Epoch 118/200\n",
            "35/35 [==============================] - 7s 215ms/step - loss: 1.3709e-04 - val_loss: 1.8153e-04\n",
            "Epoch 119/200\n",
            "35/35 [==============================] - 7s 187ms/step - loss: 1.3981e-04 - val_loss: 1.8472e-04\n",
            "Epoch 120/200\n",
            "35/35 [==============================] - 6s 185ms/step - loss: 1.4853e-04 - val_loss: 2.3478e-04\n",
            "Epoch 121/200\n",
            "35/35 [==============================] - 7s 188ms/step - loss: 1.6257e-04 - val_loss: 1.7481e-04\n",
            "Epoch 122/200\n",
            "35/35 [==============================] - 6s 186ms/step - loss: 1.4150e-04 - val_loss: 2.2256e-04\n",
            "Epoch 123/200\n",
            "35/35 [==============================] - 7s 190ms/step - loss: 1.5322e-04 - val_loss: 1.9985e-04\n",
            "Epoch 124/200\n",
            "35/35 [==============================] - 7s 189ms/step - loss: 1.8311e-04 - val_loss: 2.1610e-04\n",
            "Epoch 125/200\n",
            "35/35 [==============================] - 6s 186ms/step - loss: 1.4819e-04 - val_loss: 1.8689e-04\n",
            "Epoch 126/200\n",
            "35/35 [==============================] - 7s 186ms/step - loss: 1.2998e-04 - val_loss: 1.8501e-04\n",
            "Epoch 127/200\n",
            "35/35 [==============================] - 6s 184ms/step - loss: 1.5398e-04 - val_loss: 1.9072e-04\n",
            "Epoch 128/200\n",
            "35/35 [==============================] - 7s 186ms/step - loss: 2.0382e-04 - val_loss: 2.0497e-04\n",
            "Epoch 129/200\n",
            "35/35 [==============================] - 6s 184ms/step - loss: 2.2321e-04 - val_loss: 2.1396e-04\n",
            "Epoch 130/200\n",
            "35/35 [==============================] - 7s 186ms/step - loss: 1.4883e-04 - val_loss: 1.6840e-04\n",
            "Epoch 131/200\n",
            "35/35 [==============================] - 7s 192ms/step - loss: 1.5332e-04 - val_loss: 1.7701e-04\n",
            "Epoch 132/200\n",
            "35/35 [==============================] - 6s 185ms/step - loss: 1.4955e-04 - val_loss: 1.9305e-04\n",
            "Epoch 133/200\n",
            "35/35 [==============================] - 6s 185ms/step - loss: 1.2639e-04 - val_loss: 2.0793e-04\n",
            "Epoch 134/200\n",
            "35/35 [==============================] - 7s 186ms/step - loss: 1.7449e-04 - val_loss: 1.6646e-04\n",
            "Epoch 135/200\n",
            "35/35 [==============================] - 7s 188ms/step - loss: 1.2543e-04 - val_loss: 1.7158e-04\n",
            "Epoch 136/200\n",
            "35/35 [==============================] - 6s 184ms/step - loss: 1.5377e-04 - val_loss: 1.5969e-04\n",
            "Epoch 137/200\n",
            "35/35 [==============================] - 6s 184ms/step - loss: 1.2553e-04 - val_loss: 1.7987e-04\n",
            "Epoch 138/200\n",
            "35/35 [==============================] - 6s 183ms/step - loss: 1.3174e-04 - val_loss: 1.7596e-04\n",
            "Epoch 139/200\n",
            "35/35 [==============================] - 7s 215ms/step - loss: 1.4308e-04 - val_loss: 1.8013e-04\n",
            "Epoch 140/200\n",
            "35/35 [==============================] - 6s 185ms/step - loss: 1.3944e-04 - val_loss: 2.0918e-04\n",
            "Epoch 141/200\n",
            "35/35 [==============================] - 6s 185ms/step - loss: 1.7649e-04 - val_loss: 1.5726e-04\n",
            "Epoch 142/200\n",
            "35/35 [==============================] - 6s 184ms/step - loss: 1.5118e-04 - val_loss: 1.5736e-04\n",
            "Epoch 143/200\n",
            "35/35 [==============================] - 6s 185ms/step - loss: 1.3767e-04 - val_loss: 1.6991e-04\n",
            "Epoch 144/200\n",
            "35/35 [==============================] - 6s 185ms/step - loss: 1.3569e-04 - val_loss: 1.6925e-04\n",
            "Epoch 145/200\n",
            "35/35 [==============================] - 6s 186ms/step - loss: 1.2382e-04 - val_loss: 1.6919e-04\n",
            "Epoch 146/200\n",
            "35/35 [==============================] - 6s 185ms/step - loss: 1.5829e-04 - val_loss: 1.6321e-04\n",
            "Epoch 147/200\n",
            "35/35 [==============================] - 6s 186ms/step - loss: 1.3233e-04 - val_loss: 1.6667e-04\n",
            "Epoch 148/200\n",
            "35/35 [==============================] - 6s 186ms/step - loss: 1.2892e-04 - val_loss: 1.7446e-04\n",
            "Epoch 149/200\n",
            "35/35 [==============================] - 7s 187ms/step - loss: 2.0735e-04 - val_loss: 1.5206e-04\n",
            "Epoch 150/200\n",
            "35/35 [==============================] - 6s 185ms/step - loss: 1.2807e-04 - val_loss: 1.6746e-04\n",
            "Epoch 151/200\n",
            "35/35 [==============================] - 6s 185ms/step - loss: 1.3302e-04 - val_loss: 1.5802e-04\n",
            "Epoch 152/200\n",
            "35/35 [==============================] - 7s 188ms/step - loss: 1.3392e-04 - val_loss: 1.7571e-04\n",
            "Epoch 153/200\n",
            "35/35 [==============================] - 6s 184ms/step - loss: 1.3952e-04 - val_loss: 1.5675e-04\n",
            "Epoch 154/200\n",
            "35/35 [==============================] - 6s 185ms/step - loss: 1.2965e-04 - val_loss: 1.6864e-04\n",
            "Epoch 155/200\n",
            "35/35 [==============================] - 7s 188ms/step - loss: 1.5897e-04 - val_loss: 2.0343e-04\n",
            "Epoch 156/200\n",
            "35/35 [==============================] - 7s 186ms/step - loss: 1.5038e-04 - val_loss: 1.5087e-04\n",
            "Epoch 157/200\n",
            "35/35 [==============================] - 7s 187ms/step - loss: 1.3683e-04 - val_loss: 1.5742e-04\n",
            "Epoch 158/200\n",
            "35/35 [==============================] - 7s 186ms/step - loss: 1.3948e-04 - val_loss: 1.6376e-04\n",
            "Epoch 159/200\n",
            "35/35 [==============================] - 6s 185ms/step - loss: 1.4364e-04 - val_loss: 2.2727e-04\n",
            "Epoch 160/200\n",
            "35/35 [==============================] - 8s 215ms/step - loss: 1.6575e-04 - val_loss: 1.5914e-04\n",
            "Epoch 161/200\n",
            "35/35 [==============================] - 7s 187ms/step - loss: 2.0177e-04 - val_loss: 2.6521e-04\n",
            "Epoch 162/200\n",
            "35/35 [==============================] - 7s 186ms/step - loss: 2.3789e-04 - val_loss: 1.6165e-04\n",
            "Epoch 163/200\n",
            "35/35 [==============================] - 6s 185ms/step - loss: 1.6817e-04 - val_loss: 1.7550e-04\n",
            "Epoch 164/200\n",
            "35/35 [==============================] - 6s 183ms/step - loss: 1.7191e-04 - val_loss: 2.2718e-04\n",
            "Epoch 165/200\n",
            "35/35 [==============================] - 7s 187ms/step - loss: 1.6727e-04 - val_loss: 1.5932e-04\n",
            "Epoch 166/200\n",
            "35/35 [==============================] - 6s 185ms/step - loss: 1.2230e-04 - val_loss: 1.6297e-04\n",
            "Epoch 167/200\n",
            "35/35 [==============================] - 7s 187ms/step - loss: 1.8774e-04 - val_loss: 1.6880e-04\n",
            "Epoch 168/200\n",
            "35/35 [==============================] - 6s 186ms/step - loss: 1.4507e-04 - val_loss: 1.7105e-04\n",
            "Epoch 169/200\n",
            "35/35 [==============================] - 7s 188ms/step - loss: 1.4488e-04 - val_loss: 1.4557e-04\n",
            "Epoch 170/200\n",
            "35/35 [==============================] - 7s 187ms/step - loss: 1.4983e-04 - val_loss: 1.5774e-04\n",
            "Epoch 171/200\n",
            "35/35 [==============================] - 7s 186ms/step - loss: 1.2325e-04 - val_loss: 1.4942e-04\n",
            "Epoch 172/200\n",
            "35/35 [==============================] - 6s 185ms/step - loss: 1.2564e-04 - val_loss: 1.4625e-04\n",
            "Epoch 173/200\n",
            "35/35 [==============================] - 7s 191ms/step - loss: 1.3730e-04 - val_loss: 1.5099e-04\n",
            "Epoch 174/200\n",
            "35/35 [==============================] - 6s 186ms/step - loss: 1.3054e-04 - val_loss: 1.6341e-04\n",
            "Epoch 175/200\n",
            "35/35 [==============================] - 6s 186ms/step - loss: 1.5126e-04 - val_loss: 1.5099e-04\n",
            "Epoch 176/200\n",
            "35/35 [==============================] - 7s 186ms/step - loss: 1.5084e-04 - val_loss: 1.5639e-04\n",
            "Epoch 177/200\n",
            "35/35 [==============================] - 7s 188ms/step - loss: 1.4540e-04 - val_loss: 1.7885e-04\n",
            "Epoch 178/200\n",
            "35/35 [==============================] - 7s 189ms/step - loss: 1.2379e-04 - val_loss: 1.7334e-04\n",
            "Epoch 179/200\n",
            "35/35 [==============================] - 7s 187ms/step - loss: 1.2939e-04 - val_loss: 1.5762e-04\n",
            "Epoch 180/200\n",
            "35/35 [==============================] - 7s 188ms/step - loss: 1.2776e-04 - val_loss: 1.6218e-04\n",
            "Epoch 181/200\n",
            "35/35 [==============================] - 7s 215ms/step - loss: 1.2032e-04 - val_loss: 1.4758e-04\n",
            "Epoch 182/200\n",
            "35/35 [==============================] - 6s 184ms/step - loss: 1.3650e-04 - val_loss: 1.4676e-04\n",
            "Epoch 183/200\n",
            "35/35 [==============================] - 6s 185ms/step - loss: 1.2515e-04 - val_loss: 1.7162e-04\n",
            "Epoch 184/200\n",
            "35/35 [==============================] - 7s 186ms/step - loss: 1.2734e-04 - val_loss: 1.4197e-04\n",
            "Epoch 185/200\n",
            "35/35 [==============================] - 6s 184ms/step - loss: 1.4597e-04 - val_loss: 1.7681e-04\n",
            "Epoch 186/200\n",
            "35/35 [==============================] - 6s 185ms/step - loss: 1.7462e-04 - val_loss: 1.4658e-04\n",
            "Epoch 187/200\n",
            "35/35 [==============================] - 7s 186ms/step - loss: 1.3299e-04 - val_loss: 1.4172e-04\n",
            "Epoch 188/200\n",
            "35/35 [==============================] - 7s 188ms/step - loss: 1.3917e-04 - val_loss: 2.0463e-04\n",
            "Epoch 189/200\n",
            "35/35 [==============================] - 7s 188ms/step - loss: 1.9528e-04 - val_loss: 1.4988e-04\n",
            "Epoch 190/200\n",
            "35/35 [==============================] - 6s 184ms/step - loss: 1.4291e-04 - val_loss: 1.4607e-04\n",
            "Epoch 191/200\n",
            "35/35 [==============================] - 7s 188ms/step - loss: 1.3383e-04 - val_loss: 1.7153e-04\n",
            "Epoch 192/200\n",
            "35/35 [==============================] - 6s 185ms/step - loss: 1.2671e-04 - val_loss: 1.8791e-04\n",
            "Epoch 193/200\n",
            "35/35 [==============================] - 7s 186ms/step - loss: 1.3656e-04 - val_loss: 1.4647e-04\n",
            "Epoch 194/200\n",
            "35/35 [==============================] - 6s 185ms/step - loss: 1.2228e-04 - val_loss: 1.4939e-04\n",
            "Epoch 195/200\n",
            "35/35 [==============================] - 6s 184ms/step - loss: 1.1898e-04 - val_loss: 1.3756e-04\n",
            "Epoch 196/200\n",
            "35/35 [==============================] - 6s 185ms/step - loss: 1.3421e-04 - val_loss: 1.4107e-04\n",
            "Epoch 197/200\n",
            "35/35 [==============================] - 6s 186ms/step - loss: 1.2905e-04 - val_loss: 1.6403e-04\n",
            "Epoch 198/200\n",
            "35/35 [==============================] - 7s 186ms/step - loss: 1.5045e-04 - val_loss: 1.4165e-04\n",
            "Epoch 199/200\n",
            "35/35 [==============================] - 7s 190ms/step - loss: 1.4952e-04 - val_loss: 1.5498e-04\n",
            "Epoch 200/200\n",
            "35/35 [==============================] - 7s 186ms/step - loss: 1.7365e-04 - val_loss: 1.6948e-04\n"
          ]
        },
        {
          "output_type": "execute_result",
          "data": {
            "text/plain": [
              "<keras.callbacks.History at 0x7fc8dfde5790>"
            ]
          },
          "metadata": {},
          "execution_count": 20
        }
      ]
    },
    {
      "cell_type": "code",
      "source": [
        ""
      ],
      "metadata": {
        "id": "8hhcWrg1O53O"
      },
      "execution_count": null,
      "outputs": []
    },
    {
      "cell_type": "code",
      "source": [
        "#DO THE PREDICTION AND CHECK PERFORMANCE METRICS\n",
        "train_predict=model.predict(x_train)\n",
        "test_predict=model.predict(x_test)"
      ],
      "metadata": {
        "id": "hwnV4iSVLDGY"
      },
      "execution_count": 21,
      "outputs": []
    },
    {
      "cell_type": "code",
      "source": [
        "train_predict=scaler.inverse_transform(train_predict)\n",
        "test_predict=scaler.inverse_transform(test_predict)"
      ],
      "metadata": {
        "id": "4hQCFU3GMPJ7"
      },
      "execution_count": 22,
      "outputs": []
    },
    {
      "cell_type": "code",
      "source": [
        "#calculate the RMSE performance metrics\n",
        "import math \n",
        "from sklearn.metrics import mean_squared_error\n",
        "math.sqrt(mean_squared_error(y_train,train_predict))"
      ],
      "metadata": {
        "colab": {
          "base_uri": "https://localhost:8080/"
        },
        "id": "GkDMTJ6PMo3x",
        "outputId": "46893f4b-8110-4d08-e5a4-d74688d544fe"
      },
      "execution_count": 23,
      "outputs": [
        {
          "output_type": "execute_result",
          "data": {
            "text/plain": [
              "0.34537877102423137"
            ]
          },
          "metadata": {},
          "execution_count": 23
        }
      ]
    },
    {
      "cell_type": "code",
      "source": [
        "math.sqrt(mean_squared_error(y_test,test_predict))"
      ],
      "metadata": {
        "colab": {
          "base_uri": "https://localhost:8080/"
        },
        "id": "5txg8W1mNA1x",
        "outputId": "cbbfebd5-699f-4f4e-cb58-7e49b2be002a"
      },
      "execution_count": 24,
      "outputs": [
        {
          "output_type": "execute_result",
          "data": {
            "text/plain": [
              "0.45091656589985657"
            ]
          },
          "metadata": {},
          "execution_count": 24
        }
      ]
    },
    {
      "cell_type": "code",
      "source": [
        "look_back=100\n",
        "trainPredictplot = np.empty_like(df_close)\n",
        "trainPredictplot[:, :]=np.nan\n",
        "trainPredictplot[look_back:len(train_predict)+look_back,  :]=train_predict\n",
        "testPredictionplot= np.empty_like(df_close)\n",
        "testPredictionplot[:, :]= np.nan\n",
        "testPredictionplot[len(train_predict)+(look_back*2)+1:len(df_close)-1, :]=test_predict\n",
        "plt.figure(figsize=(18,7))\n",
        "plt.plot(scaler.inverse_transform(df_close))\n",
        "plt.plot(trainPredictplot)\n",
        "plt.plot(testPredictionplot)\n",
        "plt.show()"
      ],
      "metadata": {
        "colab": {
          "base_uri": "https://localhost:8080/",
          "height": 428
        },
        "id": "eYHxX-qTNjaY",
        "outputId": "f48a13c5-5fee-46db-b7dd-13fc922ed947"
      },
      "execution_count": 27,
      "outputs": [
        {
          "output_type": "display_data",
          "data": {
            "text/plain": [
              "<Figure size 1296x504 with 1 Axes>"
            ],
            "image/png": "[encoded data removed]"
          },
          "metadata": {
            "needs_background": "light"
          }
        }
      ]
    },
    {
      "cell_type": "code",
      "source": [
        "len(test_data)"
      ],
      "metadata": {
        "colab": {
          "base_uri": "https://localhost:8080/"
        },
        "id": "E9ArZxisQbWq",
        "outputId": "3577901a-9ce2-4e7d-dd53-b651b392fedc"
      },
      "execution_count": 28,
      "outputs": [
        {
          "output_type": "execute_result",
          "data": {
            "text/plain": [
              "573"
            ]
          },
          "metadata": {},
          "execution_count": 28
        }
      ]
    },
    {
      "cell_type": "code",
      "source": [
        "x_input=test_data[473:].reshape(1,-1)"
      ],
      "metadata": {
        "id": "m8tpzZwyUOX3"
      },
      "execution_count": 29,
      "outputs": []
    },
    {
      "cell_type": "code",
      "source": [
        "x_input.shape"
      ],
      "metadata": {
        "colab": {
          "base_uri": "https://localhost:8080/"
        },
        "id": "tAGuUcyfVBY2",
        "outputId": "9f9bcdcc-6119-47b0-8bea-4f16dd08b0e3"
      },
      "execution_count": 30,
      "outputs": [
        {
          "output_type": "execute_result",
          "data": {
            "text/plain": [
              "(1, 100)"
            ]
          },
          "metadata": {},
          "execution_count": 30
        }
      ]
    },
    {
      "cell_type": "code",
      "source": [
        "temp_input=list(x_input)\n",
        "temp_input=temp_input[0].tolist()"
      ],
      "metadata": {
        "id": "sbWRrlTbPGGY"
      },
      "execution_count": 31,
      "outputs": []
    },
    {
      "cell_type": "code",
      "source": [
        "temp_input #previous 100 days test data to feed the model"
      ],
      "metadata": {
        "colab": {
          "base_uri": "https://localhost:8080/"
        },
        "id": "ztvA5F87VXFV",
        "outputId": "ae4b407b-5edc-47d0-edca-9154297fb6b6"
      },
      "execution_count": 32,
      "outputs": [
        {
          "output_type": "execute_result",
          "data": {
            "text/plain": [
              "[0.3759210471630885,\n",
              " 0.3747683901670722,\n",
              " 0.38469065621368737,\n",
              " 0.38374343661856347,\n",
              " 0.3868203797956371,\n",
              " 0.3736535769027991,\n",
              " 0.3830449044034674,\n",
              " 0.37548618213850204,\n",
              " 0.37941686188288104,\n",
              " 0.37985859734686156,\n",
              " 0.3773571942567182,\n",
              " 0.3778487122487657,\n",
              " 0.37172568655681393,\n",
              " 0.3780366919757885,\n",
              " 0.3803801875900268,\n",
              " 0.3781885174233781,\n",
              " 0.36334949463413047,\n",
              " 0.37813186445591707,\n",
              " 0.38045519927258953,\n",
              " 0.37680846014643943,\n",
              " 0.37539123491868165,\n",
              " 0.3788870496384742,\n",
              " 0.3715012146598957,\n",
              " 0.3720853146385299,\n",
              " 0.36721282154641877,\n",
              " 0.3540817224123982,\n",
              " 0.3427765833349947,\n",
              " 0.33278020664704866,\n",
              " 0.33861917909061745,\n",
              " 0.3423818146452313,\n",
              " 0.3460907256163883,\n",
              " 0.3475340810398737,\n",
              " 0.34997590277855206,\n",
              " 0.34495012004684966,\n",
              " 0.33459467842795787,\n",
              " 0.3315904943303669,\n",
              " 0.32556354215977557,\n",
              " 0.33553930752953987,\n",
              " 0.34015072392468326,\n",
              " 0.33107971658198565,\n",
              " 0.3290796303072878,\n",
              " 0.31941844095764016,\n",
              " 0.3301493915099616,\n",
              " 0.3284341468947247,\n",
              " 0.32106486854878424,\n",
              " 0.3283177999456448,\n",
              " 0.3174748950202493,\n",
              " 0.3114278946822462,\n",
              " 0.30164010903950467,\n",
              " 0.30158514552435367,\n",
              " 0.3041749632853856,\n",
              " 0.30944357662910793,\n",
              " 0.3071232828265933,\n",
              " 0.310908782302469,\n",
              " 0.3067745798698154,\n",
              " 0.3088015847513188,\n",
              " 0.31239155827985376,\n",
              " 0.3022265742513728,\n",
              " 0.30568341893788187,\n",
              " 0.31252389871080144,\n",
              " 0.30991617275528394,\n",
              " 0.3136952523123815,\n",
              " 0.3013815102059252,\n",
              " 0.300090543380799,\n",
              " 0.302508712787138,\n",
              " 0.3082321266927046,\n",
              " 0.30207373513239744,\n",
              " 0.3066514751114955,\n",
              " 0.30199230353105677,\n",
              " 0.28584226574927163,\n",
              " 0.2811935687731546,\n",
              " 0.2651701272844633,\n",
              " 0.26396014154006187,\n",
              " 0.2771496957240074,\n",
              " 0.28455715569215334,\n",
              " 0.28981078922539405,\n",
              " 0.28259209739534885,\n",
              " 0.2972528266508174,\n",
              " 0.29257585950604703,\n",
              " 0.29761515785622916,\n",
              " 0.3070821728203841,\n",
              " 0.31299649483697745,\n",
              " 0.32163545290893847,\n",
              " 0.32006606434312923,\n",
              " 0.31059623362512423,\n",
              " 0.30628249872699764,\n",
              " 0.30761592712018104,\n",
              " 0.30710267150841175,\n",
              " 0.3066853767878488,\n",
              " 0.2974632197784859,\n",
              " 0.3020177579458603,\n",
              " 0.292626205184884,\n",
              " 0.2874317024824926,\n",
              " 0.2866176117293944,\n",
              " 0.2806267012080823,\n",
              " 0.28176088685884304,\n",
              " 0.29419514323007734,\n",
              " 0.28783063848795365,\n",
              " 0.29056676281902916,\n",
              " 0.28370296860423205]"
            ]
          },
          "metadata": {},
          "execution_count": 32
        }
      ]
    },
    {
      "cell_type": "code",
      "source": [
        "#demonstrate prediction for the next 30 days\n",
        "lst_output=[]\n",
        "n_steps=100\n",
        "i=0\n",
        "while(i<30):\n",
        "  if (len(temp_input)>100):\n",
        "      x_input=np.array(temp_input[1:]) #SHIFT TO WRITE\n",
        "      print(\"{}day input{}\".format(i,x_input))\n",
        "      x_input=x_input.reshape(1,-1)\n",
        "      x_input=x_input.reshape((1,n_steps,1))\n",
        "      yhat=model.predict(x_input,verbose=0)\n",
        "      print('{}day output {}'.format(i,yhat))\n",
        "      temp_input.extend(yhat[0].tolist())\n",
        "      temp_input=temp_input[1:]\n",
        "      lst_output.extend(yhat.tolist())\n",
        "      i=i+1\n",
        "  else:                                             #FIRST ELSE RUN AFTER PREDICTION AND OUR DATAS BE MORE THAN 100 WE PASS TO IF\n",
        "    x_input=x_input.reshape((1,n_steps,1))#FIRST OF ALL RESHAPE THE DATA #avalin ghadam reshape\n",
        "    yhat=model.predict(x_input,verbose=0) #YHAT==PREDICTION            #pass the data to the model\n",
        "    print(yhat[0])\n",
        "    temp_input.extend(yhat[0].tolist())# ADD YHAT TO THE PREVIOUS DATAS #ezafe kardan prediction be gheimate ghabli \n",
        "    print(len(temp_input))\n",
        "    lst_output.extend(yhat.tolist())\n",
        "    i=i+1\n",
        "print(lst_output)"
      ],
      "metadata": {
        "colab": {
          "base_uri": "https://localhost:8080/"
        },
        "id": "U84rMMSsVbl2",
        "outputId": "d0a4a1cd-caba-4ce3-b8e0-e776f1124233"
      },
      "execution_count": 33,
      "outputs": [
        {
          "output_type": "stream",
          "name": "stdout",
          "text": [
            "[0.29059485]\n",
            "101\n",
            "1day input[0.37476839 0.38469066 0.38374344 0.38682038 0.37365358 0.3830449\n",
            " 0.37548618 0.37941686 0.3798586  0.37735719 0.37784871 0.37172569\n",
            " 0.37803669 0.38038019 0.37818852 0.36334949 0.37813186 0.3804552\n",
            " 0.37680846 0.37539123 0.37888705 0.37150121 0.37208531 0.36721282\n",
            " 0.35408172 0.34277658 0.33278021 0.33861918 0.34238181 0.34609073\n",
            " 0.34753408 0.3499759  0.34495012 0.33459468 0.33159049 0.32556354\n",
            " 0.33553931 0.34015072 0.33107972 0.32907963 0.31941844 0.33014939\n",
            " 0.32843415 0.32106487 0.3283178  0.3174749  0.31142789 0.30164011\n",
            " 0.30158515 0.30417496 0.30944358 0.30712328 0.31090878 0.30677458\n",
            " 0.30880158 0.31239156 0.30222657 0.30568342 0.3125239  0.30991617\n",
            " 0.31369525 0.30138151 0.30009054 0.30250871 0.30823213 0.30207374\n",
            " 0.30665148 0.3019923  0.28584227 0.28119357 0.26517013 0.26396014\n",
            " 0.2771497  0.28455716 0.28981079 0.2825921  0.29725283 0.29257586\n",
            " 0.29761516 0.30708217 0.31299649 0.32163545 0.32006606 0.31059623\n",
            " 0.3062825  0.30761593 0.30710267 0.30668538 0.29746322 0.30201776\n",
            " 0.29262621 0.2874317  0.28661761 0.2806267  0.28176089 0.29419514\n",
            " 0.28783064 0.29056676 0.28370297 0.29059485]\n",
            "1day output [[0.2924263]]\n",
            "2day input[0.38469066 0.38374344 0.38682038 0.37365358 0.3830449  0.37548618\n",
            " 0.37941686 0.3798586  0.37735719 0.37784871 0.37172569 0.37803669\n",
            " 0.38038019 0.37818852 0.36334949 0.37813186 0.3804552  0.37680846\n",
            " 0.37539123 0.37888705 0.37150121 0.37208531 0.36721282 0.35408172\n",
            " 0.34277658 0.33278021 0.33861918 0.34238181 0.34609073 0.34753408\n",
            " 0.3499759  0.34495012 0.33459468 0.33159049 0.32556354 0.33553931\n",
            " 0.34015072 0.33107972 0.32907963 0.31941844 0.33014939 0.32843415\n",
            " 0.32106487 0.3283178  0.3174749  0.31142789 0.30164011 0.30158515\n",
            " 0.30417496 0.30944358 0.30712328 0.31090878 0.30677458 0.30880158\n",
            " 0.31239156 0.30222657 0.30568342 0.3125239  0.30991617 0.31369525\n",
            " 0.30138151 0.30009054 0.30250871 0.30823213 0.30207374 0.30665148\n",
            " 0.3019923  0.28584227 0.28119357 0.26517013 0.26396014 0.2771497\n",
            " 0.28455716 0.28981079 0.2825921  0.29725283 0.29257586 0.29761516\n",
            " 0.30708217 0.31299649 0.32163545 0.32006606 0.31059623 0.3062825\n",
            " 0.30761593 0.30710267 0.30668538 0.29746322 0.30201776 0.29262621\n",
            " 0.2874317  0.28661761 0.2806267  0.28176089 0.29419514 0.28783064\n",
            " 0.29056676 0.28370297 0.29059485 0.29242629]\n",
            "2day output [[0.29543906]]\n",
            "3day input[0.38374344 0.38682038 0.37365358 0.3830449  0.37548618 0.37941686\n",
            " 0.3798586  0.37735719 0.37784871 0.37172569 0.37803669 0.38038019\n",
            " 0.37818852 0.36334949 0.37813186 0.3804552  0.37680846 0.37539123\n",
            " 0.37888705 0.37150121 0.37208531 0.36721282 0.35408172 0.34277658\n",
            " 0.33278021 0.33861918 0.34238181 0.34609073 0.34753408 0.3499759\n",
            " 0.34495012 0.33459468 0.33159049 0.32556354 0.33553931 0.34015072\n",
            " 0.33107972 0.32907963 0.31941844 0.33014939 0.32843415 0.32106487\n",
            " 0.3283178  0.3174749  0.31142789 0.30164011 0.30158515 0.30417496\n",
            " 0.30944358 0.30712328 0.31090878 0.30677458 0.30880158 0.31239156\n",
            " 0.30222657 0.30568342 0.3125239  0.30991617 0.31369525 0.30138151\n",
            " 0.30009054 0.30250871 0.30823213 0.30207374 0.30665148 0.3019923\n",
            " 0.28584227 0.28119357 0.26517013 0.26396014 0.2771497  0.28455716\n",
            " 0.28981079 0.2825921  0.29725283 0.29257586 0.29761516 0.30708217\n",
            " 0.31299649 0.32163545 0.32006606 0.31059623 0.3062825  0.30761593\n",
            " 0.30710267 0.30668538 0.29746322 0.30201776 0.29262621 0.2874317\n",
            " 0.28661761 0.2806267  0.28176089 0.29419514 0.28783064 0.29056676\n",
            " 0.28370297 0.29059485 0.29242629 0.29543906]\n",
            "3day output [[0.29833356]]\n",
            "4day input[0.38682038 0.37365358 0.3830449  0.37548618 0.37941686 0.3798586\n",
            " 0.37735719 0.37784871 0.37172569 0.37803669 0.38038019 0.37818852\n",
            " 0.36334949 0.37813186 0.3804552  0.37680846 0.37539123 0.37888705\n",
            " 0.37150121 0.37208531 0.36721282 0.35408172 0.34277658 0.33278021\n",
            " 0.33861918 0.34238181 0.34609073 0.34753408 0.3499759  0.34495012\n",
            " 0.33459468 0.33159049 0.32556354 0.33553931 0.34015072 0.33107972\n",
            " 0.32907963 0.31941844 0.33014939 0.32843415 0.32106487 0.3283178\n",
            " 0.3174749  0.31142789 0.30164011 0.30158515 0.30417496 0.30944358\n",
            " 0.30712328 0.31090878 0.30677458 0.30880158 0.31239156 0.30222657\n",
            " 0.30568342 0.3125239  0.30991617 0.31369525 0.30138151 0.30009054\n",
            " 0.30250871 0.30823213 0.30207374 0.30665148 0.3019923  0.28584227\n",
            " 0.28119357 0.26517013 0.26396014 0.2771497  0.28455716 0.28981079\n",
            " 0.2825921  0.29725283 0.29257586 0.29761516 0.30708217 0.31299649\n",
            " 0.32163545 0.32006606 0.31059623 0.3062825  0.30761593 0.30710267\n",
            " 0.30668538 0.29746322 0.30201776 0.29262621 0.2874317  0.28661761\n",
            " 0.2806267  0.28176089 0.29419514 0.28783064 0.29056676 0.28370297\n",
            " 0.29059485 0.29242629 0.29543906 0.29833356]\n",
            "4day output [[0.30116716]]\n",
            "5day input[0.37365358 0.3830449  0.37548618 0.37941686 0.3798586  0.37735719\n",
            " 0.37784871 0.37172569 0.37803669 0.38038019 0.37818852 0.36334949\n",
            " 0.37813186 0.3804552  0.37680846 0.37539123 0.37888705 0.37150121\n",
            " 0.37208531 0.36721282 0.35408172 0.34277658 0.33278021 0.33861918\n",
            " 0.34238181 0.34609073 0.34753408 0.3499759  0.34495012 0.33459468\n",
            " 0.33159049 0.32556354 0.33553931 0.34015072 0.33107972 0.32907963\n",
            " 0.31941844 0.33014939 0.32843415 0.32106487 0.3283178  0.3174749\n",
            " 0.31142789 0.30164011 0.30158515 0.30417496 0.30944358 0.30712328\n",
            " 0.31090878 0.30677458 0.30880158 0.31239156 0.30222657 0.30568342\n",
            " 0.3125239  0.30991617 0.31369525 0.30138151 0.30009054 0.30250871\n",
            " 0.30823213 0.30207374 0.30665148 0.3019923  0.28584227 0.28119357\n",
            " 0.26517013 0.26396014 0.2771497  0.28455716 0.28981079 0.2825921\n",
            " 0.29725283 0.29257586 0.29761516 0.30708217 0.31299649 0.32163545\n",
            " 0.32006606 0.31059623 0.3062825  0.30761593 0.30710267 0.30668538\n",
            " 0.29746322 0.30201776 0.29262621 0.2874317  0.28661761 0.2806267\n",
            " 0.28176089 0.29419514 0.28783064 0.29056676 0.28370297 0.29059485\n",
            " 0.29242629 0.29543906 0.29833356 0.30116716]\n",
            "5day output [[0.30393618]]\n",
            "6day input[0.3830449  0.37548618 0.37941686 0.3798586  0.37735719 0.37784871\n",
            " 0.37172569 0.37803669 0.38038019 0.37818852 0.36334949 0.37813186\n",
            " 0.3804552  0.37680846 0.37539123 0.37888705 0.37150121 0.37208531\n",
            " 0.36721282 0.35408172 0.34277658 0.33278021 0.33861918 0.34238181\n",
            " 0.34609073 0.34753408 0.3499759  0.34495012 0.33459468 0.33159049\n",
            " 0.32556354 0.33553931 0.34015072 0.33107972 0.32907963 0.31941844\n",
            " 0.33014939 0.32843415 0.32106487 0.3283178  0.3174749  0.31142789\n",
            " 0.30164011 0.30158515 0.30417496 0.30944358 0.30712328 0.31090878\n",
            " 0.30677458 0.30880158 0.31239156 0.30222657 0.30568342 0.3125239\n",
            " 0.30991617 0.31369525 0.30138151 0.30009054 0.30250871 0.30823213\n",
            " 0.30207374 0.30665148 0.3019923  0.28584227 0.28119357 0.26517013\n",
            " 0.26396014 0.2771497  0.28455716 0.28981079 0.2825921  0.29725283\n",
            " 0.29257586 0.29761516 0.30708217 0.31299649 0.32163545 0.32006606\n",
            " 0.31059623 0.3062825  0.30761593 0.30710267 0.30668538 0.29746322\n",
            " 0.30201776 0.29262621 0.2874317  0.28661761 0.2806267  0.28176089\n",
            " 0.29419514 0.28783064 0.29056676 0.28370297 0.29059485 0.29242629\n",
            " 0.29543906 0.29833356 0.30116716 0.30393618]\n",
            "6day output [[0.30660138]]\n",
            "7day input[0.37548618 0.37941686 0.3798586  0.37735719 0.37784871 0.37172569\n",
            " 0.37803669 0.38038019 0.37818852 0.36334949 0.37813186 0.3804552\n",
            " 0.37680846 0.37539123 0.37888705 0.37150121 0.37208531 0.36721282\n",
            " 0.35408172 0.34277658 0.33278021 0.33861918 0.34238181 0.34609073\n",
            " 0.34753408 0.3499759  0.34495012 0.33459468 0.33159049 0.32556354\n",
            " 0.33553931 0.34015072 0.33107972 0.32907963 0.31941844 0.33014939\n",
            " 0.32843415 0.32106487 0.3283178  0.3174749  0.31142789 0.30164011\n",
            " 0.30158515 0.30417496 0.30944358 0.30712328 0.31090878 0.30677458\n",
            " 0.30880158 0.31239156 0.30222657 0.30568342 0.3125239  0.30991617\n",
            " 0.31369525 0.30138151 0.30009054 0.30250871 0.30823213 0.30207374\n",
            " 0.30665148 0.3019923  0.28584227 0.28119357 0.26517013 0.26396014\n",
            " 0.2771497  0.28455716 0.28981079 0.2825921  0.29725283 0.29257586\n",
            " 0.29761516 0.30708217 0.31299649 0.32163545 0.32006606 0.31059623\n",
            " 0.3062825  0.30761593 0.30710267 0.30668538 0.29746322 0.30201776\n",
            " 0.29262621 0.2874317  0.28661761 0.2806267  0.28176089 0.29419514\n",
            " 0.28783064 0.29056676 0.28370297 0.29059485 0.29242629 0.29543906\n",
            " 0.29833356 0.30116716 0.30393618 0.30660138]\n",
            "7day output [[0.3091517]]\n",
            "8day input[0.37941686 0.3798586  0.37735719 0.37784871 0.37172569 0.37803669\n",
            " 0.38038019 0.37818852 0.36334949 0.37813186 0.3804552  0.37680846\n",
            " 0.37539123 0.37888705 0.37150121 0.37208531 0.36721282 0.35408172\n",
            " 0.34277658 0.33278021 0.33861918 0.34238181 0.34609073 0.34753408\n",
            " 0.3499759  0.34495012 0.33459468 0.33159049 0.32556354 0.33553931\n",
            " 0.34015072 0.33107972 0.32907963 0.31941844 0.33014939 0.32843415\n",
            " 0.32106487 0.3283178  0.3174749  0.31142789 0.30164011 0.30158515\n",
            " 0.30417496 0.30944358 0.30712328 0.31090878 0.30677458 0.30880158\n",
            " 0.31239156 0.30222657 0.30568342 0.3125239  0.30991617 0.31369525\n",
            " 0.30138151 0.30009054 0.30250871 0.30823213 0.30207374 0.30665148\n",
            " 0.3019923  0.28584227 0.28119357 0.26517013 0.26396014 0.2771497\n",
            " 0.28455716 0.28981079 0.2825921  0.29725283 0.29257586 0.29761516\n",
            " 0.30708217 0.31299649 0.32163545 0.32006606 0.31059623 0.3062825\n",
            " 0.30761593 0.30710267 0.30668538 0.29746322 0.30201776 0.29262621\n",
            " 0.2874317  0.28661761 0.2806267  0.28176089 0.29419514 0.28783064\n",
            " 0.29056676 0.28370297 0.29059485 0.29242629 0.29543906 0.29833356\n",
            " 0.30116716 0.30393618 0.30660138 0.30915171]\n",
            "8day output [[0.311593]]\n",
            "9day input[0.3798586  0.37735719 0.37784871 0.37172569 0.37803669 0.38038019\n",
            " 0.37818852 0.36334949 0.37813186 0.3804552  0.37680846 0.37539123\n",
            " 0.37888705 0.37150121 0.37208531 0.36721282 0.35408172 0.34277658\n",
            " 0.33278021 0.33861918 0.34238181 0.34609073 0.34753408 0.3499759\n",
            " 0.34495012 0.33459468 0.33159049 0.32556354 0.33553931 0.34015072\n",
            " 0.33107972 0.32907963 0.31941844 0.33014939 0.32843415 0.32106487\n",
            " 0.3283178  0.3174749  0.31142789 0.30164011 0.30158515 0.30417496\n",
            " 0.30944358 0.30712328 0.31090878 0.30677458 0.30880158 0.31239156\n",
            " 0.30222657 0.30568342 0.3125239  0.30991617 0.31369525 0.30138151\n",
            " 0.30009054 0.30250871 0.30823213 0.30207374 0.30665148 0.3019923\n",
            " 0.28584227 0.28119357 0.26517013 0.26396014 0.2771497  0.28455716\n",
            " 0.28981079 0.2825921  0.29725283 0.29257586 0.29761516 0.30708217\n",
            " 0.31299649 0.32163545 0.32006606 0.31059623 0.3062825  0.30761593\n",
            " 0.30710267 0.30668538 0.29746322 0.30201776 0.29262621 0.2874317\n",
            " 0.28661761 0.2806267  0.28176089 0.29419514 0.28783064 0.29056676\n",
            " 0.28370297 0.29059485 0.29242629 0.29543906 0.29833356 0.30116716\n",
            " 0.30393618 0.30660138 0.30915171 0.311593  ]\n",
            "9day output [[0.31393698]]\n",
            "10day input[0.37735719 0.37784871 0.37172569 0.37803669 0.38038019 0.37818852\n",
            " 0.36334949 0.37813186 0.3804552  0.37680846 0.37539123 0.37888705\n",
            " 0.37150121 0.37208531 0.36721282 0.35408172 0.34277658 0.33278021\n",
            " 0.33861918 0.34238181 0.34609073 0.34753408 0.3499759  0.34495012\n",
            " 0.33459468 0.33159049 0.32556354 0.33553931 0.34015072 0.33107972\n",
            " 0.32907963 0.31941844 0.33014939 0.32843415 0.32106487 0.3283178\n",
            " 0.3174749  0.31142789 0.30164011 0.30158515 0.30417496 0.30944358\n",
            " 0.30712328 0.31090878 0.30677458 0.30880158 0.31239156 0.30222657\n",
            " 0.30568342 0.3125239  0.30991617 0.31369525 0.30138151 0.30009054\n",
            " 0.30250871 0.30823213 0.30207374 0.30665148 0.3019923  0.28584227\n",
            " 0.28119357 0.26517013 0.26396014 0.2771497  0.28455716 0.28981079\n",
            " 0.2825921  0.29725283 0.29257586 0.29761516 0.30708217 0.31299649\n",
            " 0.32163545 0.32006606 0.31059623 0.3062825  0.30761593 0.30710267\n",
            " 0.30668538 0.29746322 0.30201776 0.29262621 0.2874317  0.28661761\n",
            " 0.2806267  0.28176089 0.29419514 0.28783064 0.29056676 0.28370297\n",
            " 0.29059485 0.29242629 0.29543906 0.29833356 0.30116716 0.30393618\n",
            " 0.30660138 0.30915171 0.311593   0.31393698]\n",
            "10day output [[0.31619725]]\n",
            "11day input[0.37784871 0.37172569 0.37803669 0.38038019 0.37818852 0.36334949\n",
            " 0.37813186 0.3804552  0.37680846 0.37539123 0.37888705 0.37150121\n",
            " 0.37208531 0.36721282 0.35408172 0.34277658 0.33278021 0.33861918\n",
            " 0.34238181 0.34609073 0.34753408 0.3499759  0.34495012 0.33459468\n",
            " 0.33159049 0.32556354 0.33553931 0.34015072 0.33107972 0.32907963\n",
            " 0.31941844 0.33014939 0.32843415 0.32106487 0.3283178  0.3174749\n",
            " 0.31142789 0.30164011 0.30158515 0.30417496 0.30944358 0.30712328\n",
            " 0.31090878 0.30677458 0.30880158 0.31239156 0.30222657 0.30568342\n",
            " 0.3125239  0.30991617 0.31369525 0.30138151 0.30009054 0.30250871\n",
            " 0.30823213 0.30207374 0.30665148 0.3019923  0.28584227 0.28119357\n",
            " 0.26517013 0.26396014 0.2771497  0.28455716 0.28981079 0.2825921\n",
            " 0.29725283 0.29257586 0.29761516 0.30708217 0.31299649 0.32163545\n",
            " 0.32006606 0.31059623 0.3062825  0.30761593 0.30710267 0.30668538\n",
            " 0.29746322 0.30201776 0.29262621 0.2874317  0.28661761 0.2806267\n",
            " 0.28176089 0.29419514 0.28783064 0.29056676 0.28370297 0.29059485\n",
            " 0.29242629 0.29543906 0.29833356 0.30116716 0.30393618 0.30660138\n",
            " 0.30915171 0.311593   0.31393698 0.31619725]\n",
            "11day output [[0.3183871]]\n",
            "12day input[0.37172569 0.37803669 0.38038019 0.37818852 0.36334949 0.37813186\n",
            " 0.3804552  0.37680846 0.37539123 0.37888705 0.37150121 0.37208531\n",
            " 0.36721282 0.35408172 0.34277658 0.33278021 0.33861918 0.34238181\n",
            " 0.34609073 0.34753408 0.3499759  0.34495012 0.33459468 0.33159049\n",
            " 0.32556354 0.33553931 0.34015072 0.33107972 0.32907963 0.31941844\n",
            " 0.33014939 0.32843415 0.32106487 0.3283178  0.3174749  0.31142789\n",
            " 0.30164011 0.30158515 0.30417496 0.30944358 0.30712328 0.31090878\n",
            " 0.30677458 0.30880158 0.31239156 0.30222657 0.30568342 0.3125239\n",
            " 0.30991617 0.31369525 0.30138151 0.30009054 0.30250871 0.30823213\n",
            " 0.30207374 0.30665148 0.3019923  0.28584227 0.28119357 0.26517013\n",
            " 0.26396014 0.2771497  0.28455716 0.28981079 0.2825921  0.29725283\n",
            " 0.29257586 0.29761516 0.30708217 0.31299649 0.32163545 0.32006606\n",
            " 0.31059623 0.3062825  0.30761593 0.30710267 0.30668538 0.29746322\n",
            " 0.30201776 0.29262621 0.2874317  0.28661761 0.2806267  0.28176089\n",
            " 0.29419514 0.28783064 0.29056676 0.28370297 0.29059485 0.29242629\n",
            " 0.29543906 0.29833356 0.30116716 0.30393618 0.30660138 0.30915171\n",
            " 0.311593   0.31393698 0.31619725 0.31838709]\n",
            "12day output [[0.3205179]]\n",
            "13day input[0.37803669 0.38038019 0.37818852 0.36334949 0.37813186 0.3804552\n",
            " 0.37680846 0.37539123 0.37888705 0.37150121 0.37208531 0.36721282\n",
            " 0.35408172 0.34277658 0.33278021 0.33861918 0.34238181 0.34609073\n",
            " 0.34753408 0.3499759  0.34495012 0.33459468 0.33159049 0.32556354\n",
            " 0.33553931 0.34015072 0.33107972 0.32907963 0.31941844 0.33014939\n",
            " 0.32843415 0.32106487 0.3283178  0.3174749  0.31142789 0.30164011\n",
            " 0.30158515 0.30417496 0.30944358 0.30712328 0.31090878 0.30677458\n",
            " 0.30880158 0.31239156 0.30222657 0.30568342 0.3125239  0.30991617\n",
            " 0.31369525 0.30138151 0.30009054 0.30250871 0.30823213 0.30207374\n",
            " 0.30665148 0.3019923  0.28584227 0.28119357 0.26517013 0.26396014\n",
            " 0.2771497  0.28455716 0.28981079 0.2825921  0.29725283 0.29257586\n",
            " 0.29761516 0.30708217 0.31299649 0.32163545 0.32006606 0.31059623\n",
            " 0.3062825  0.30761593 0.30710267 0.30668538 0.29746322 0.30201776\n",
            " 0.29262621 0.2874317  0.28661761 0.2806267  0.28176089 0.29419514\n",
            " 0.28783064 0.29056676 0.28370297 0.29059485 0.29242629 0.29543906\n",
            " 0.29833356 0.30116716 0.30393618 0.30660138 0.30915171 0.311593\n",
            " 0.31393698 0.31619725 0.31838709 0.3205179 ]\n",
            "13day output [[0.32259917]]\n",
            "14day input[0.38038019 0.37818852 0.36334949 0.37813186 0.3804552  0.37680846\n",
            " 0.37539123 0.37888705 0.37150121 0.37208531 0.36721282 0.35408172\n",
            " 0.34277658 0.33278021 0.33861918 0.34238181 0.34609073 0.34753408\n",
            " 0.3499759  0.34495012 0.33459468 0.33159049 0.32556354 0.33553931\n",
            " 0.34015072 0.33107972 0.32907963 0.31941844 0.33014939 0.32843415\n",
            " 0.32106487 0.3283178  0.3174749  0.31142789 0.30164011 0.30158515\n",
            " 0.30417496 0.30944358 0.30712328 0.31090878 0.30677458 0.30880158\n",
            " 0.31239156 0.30222657 0.30568342 0.3125239  0.30991617 0.31369525\n",
            " 0.30138151 0.30009054 0.30250871 0.30823213 0.30207374 0.30665148\n",
            " 0.3019923  0.28584227 0.28119357 0.26517013 0.26396014 0.2771497\n",
            " 0.28455716 0.28981079 0.2825921  0.29725283 0.29257586 0.29761516\n",
            " 0.30708217 0.31299649 0.32163545 0.32006606 0.31059623 0.3062825\n",
            " 0.30761593 0.30710267 0.30668538 0.29746322 0.30201776 0.29262621\n",
            " 0.2874317  0.28661761 0.2806267  0.28176089 0.29419514 0.28783064\n",
            " 0.29056676 0.28370297 0.29059485 0.29242629 0.29543906 0.29833356\n",
            " 0.30116716 0.30393618 0.30660138 0.30915171 0.311593   0.31393698\n",
            " 0.31619725 0.31838709 0.3205179  0.32259917]\n",
            "14day output [[0.3246386]]\n",
            "15day input[0.37818852 0.36334949 0.37813186 0.3804552  0.37680846 0.37539123\n",
            " 0.37888705 0.37150121 0.37208531 0.36721282 0.35408172 0.34277658\n",
            " 0.33278021 0.33861918 0.34238181 0.34609073 0.34753408 0.3499759\n",
            " 0.34495012 0.33459468 0.33159049 0.32556354 0.33553931 0.34015072\n",
            " 0.33107972 0.32907963 0.31941844 0.33014939 0.32843415 0.32106487\n",
            " 0.3283178  0.3174749  0.31142789 0.30164011 0.30158515 0.30417496\n",
            " 0.30944358 0.30712328 0.31090878 0.30677458 0.30880158 0.31239156\n",
            " 0.30222657 0.30568342 0.3125239  0.30991617 0.31369525 0.30138151\n",
            " 0.30009054 0.30250871 0.30823213 0.30207374 0.30665148 0.3019923\n",
            " 0.28584227 0.28119357 0.26517013 0.26396014 0.2771497  0.28455716\n",
            " 0.28981079 0.2825921  0.29725283 0.29257586 0.29761516 0.30708217\n",
            " 0.31299649 0.32163545 0.32006606 0.31059623 0.3062825  0.30761593\n",
            " 0.30710267 0.30668538 0.29746322 0.30201776 0.29262621 0.2874317\n",
            " 0.28661761 0.2806267  0.28176089 0.29419514 0.28783064 0.29056676\n",
            " 0.28370297 0.29059485 0.29242629 0.29543906 0.29833356 0.30116716\n",
            " 0.30393618 0.30660138 0.30915171 0.311593   0.31393698 0.31619725\n",
            " 0.31838709 0.3205179  0.32259917 0.32463861]\n",
            "15day output [[0.32664204]]\n",
            "16day input[0.36334949 0.37813186 0.3804552  0.37680846 0.37539123 0.37888705\n",
            " 0.37150121 0.37208531 0.36721282 0.35408172 0.34277658 0.33278021\n",
            " 0.33861918 0.34238181 0.34609073 0.34753408 0.3499759  0.34495012\n",
            " 0.33459468 0.33159049 0.32556354 0.33553931 0.34015072 0.33107972\n",
            " 0.32907963 0.31941844 0.33014939 0.32843415 0.32106487 0.3283178\n",
            " 0.3174749  0.31142789 0.30164011 0.30158515 0.30417496 0.30944358\n",
            " 0.30712328 0.31090878 0.30677458 0.30880158 0.31239156 0.30222657\n",
            " 0.30568342 0.3125239  0.30991617 0.31369525 0.30138151 0.30009054\n",
            " 0.30250871 0.30823213 0.30207374 0.30665148 0.3019923  0.28584227\n",
            " 0.28119357 0.26517013 0.26396014 0.2771497  0.28455716 0.28981079\n",
            " 0.2825921  0.29725283 0.29257586 0.29761516 0.30708217 0.31299649\n",
            " 0.32163545 0.32006606 0.31059623 0.3062825  0.30761593 0.30710267\n",
            " 0.30668538 0.29746322 0.30201776 0.29262621 0.2874317  0.28661761\n",
            " 0.2806267  0.28176089 0.29419514 0.28783064 0.29056676 0.28370297\n",
            " 0.29059485 0.29242629 0.29543906 0.29833356 0.30116716 0.30393618\n",
            " 0.30660138 0.30915171 0.311593   0.31393698 0.31619725 0.31838709\n",
            " 0.3205179  0.32259917 0.32463861 0.32664204]\n",
            "16day output [[0.3286139]]\n",
            "17day input[0.37813186 0.3804552  0.37680846 0.37539123 0.37888705 0.37150121\n",
            " 0.37208531 0.36721282 0.35408172 0.34277658 0.33278021 0.33861918\n",
            " 0.34238181 0.34609073 0.34753408 0.3499759  0.34495012 0.33459468\n",
            " 0.33159049 0.32556354 0.33553931 0.34015072 0.33107972 0.32907963\n",
            " 0.31941844 0.33014939 0.32843415 0.32106487 0.3283178  0.3174749\n",
            " 0.31142789 0.30164011 0.30158515 0.30417496 0.30944358 0.30712328\n",
            " 0.31090878 0.30677458 0.30880158 0.31239156 0.30222657 0.30568342\n",
            " 0.3125239  0.30991617 0.31369525 0.30138151 0.30009054 0.30250871\n",
            " 0.30823213 0.30207374 0.30665148 0.3019923  0.28584227 0.28119357\n",
            " 0.26517013 0.26396014 0.2771497  0.28455716 0.28981079 0.2825921\n",
            " 0.29725283 0.29257586 0.29761516 0.30708217 0.31299649 0.32163545\n",
            " 0.32006606 0.31059623 0.3062825  0.30761593 0.30710267 0.30668538\n",
            " 0.29746322 0.30201776 0.29262621 0.2874317  0.28661761 0.2806267\n",
            " 0.28176089 0.29419514 0.28783064 0.29056676 0.28370297 0.29059485\n",
            " 0.29242629 0.29543906 0.29833356 0.30116716 0.30393618 0.30660138\n",
            " 0.30915171 0.311593   0.31393698 0.31619725 0.31838709 0.3205179\n",
            " 0.32259917 0.32463861 0.32664204 0.32861391]\n",
            "17day output [[0.33055806]]\n",
            "18day input[0.3804552  0.37680846 0.37539123 0.37888705 0.37150121 0.37208531\n",
            " 0.36721282 0.35408172 0.34277658 0.33278021 0.33861918 0.34238181\n",
            " 0.34609073 0.34753408 0.3499759  0.34495012 0.33459468 0.33159049\n",
            " 0.32556354 0.33553931 0.34015072 0.33107972 0.32907963 0.31941844\n",
            " 0.33014939 0.32843415 0.32106487 0.3283178  0.3174749  0.31142789\n",
            " 0.30164011 0.30158515 0.30417496 0.30944358 0.30712328 0.31090878\n",
            " 0.30677458 0.30880158 0.31239156 0.30222657 0.30568342 0.3125239\n",
            " 0.30991617 0.31369525 0.30138151 0.30009054 0.30250871 0.30823213\n",
            " 0.30207374 0.30665148 0.3019923  0.28584227 0.28119357 0.26517013\n",
            " 0.26396014 0.2771497  0.28455716 0.28981079 0.2825921  0.29725283\n",
            " 0.29257586 0.29761516 0.30708217 0.31299649 0.32163545 0.32006606\n",
            " 0.31059623 0.3062825  0.30761593 0.30710267 0.30668538 0.29746322\n",
            " 0.30201776 0.29262621 0.2874317  0.28661761 0.2806267  0.28176089\n",
            " 0.29419514 0.28783064 0.29056676 0.28370297 0.29059485 0.29242629\n",
            " 0.29543906 0.29833356 0.30116716 0.30393618 0.30660138 0.30915171\n",
            " 0.311593   0.31393698 0.31619725 0.31838709 0.3205179  0.32259917\n",
            " 0.32463861 0.32664204 0.32861391 0.33055806]\n",
            "18day output [[0.3324778]]\n",
            "19day input[0.37680846 0.37539123 0.37888705 0.37150121 0.37208531 0.36721282\n",
            " 0.35408172 0.34277658 0.33278021 0.33861918 0.34238181 0.34609073\n",
            " 0.34753408 0.3499759  0.34495012 0.33459468 0.33159049 0.32556354\n",
            " 0.33553931 0.34015072 0.33107972 0.32907963 0.31941844 0.33014939\n",
            " 0.32843415 0.32106487 0.3283178  0.3174749  0.31142789 0.30164011\n",
            " 0.30158515 0.30417496 0.30944358 0.30712328 0.31090878 0.30677458\n",
            " 0.30880158 0.31239156 0.30222657 0.30568342 0.3125239  0.30991617\n",
            " 0.31369525 0.30138151 0.30009054 0.30250871 0.30823213 0.30207374\n",
            " 0.30665148 0.3019923  0.28584227 0.28119357 0.26517013 0.26396014\n",
            " 0.2771497  0.28455716 0.28981079 0.2825921  0.29725283 0.29257586\n",
            " 0.29761516 0.30708217 0.31299649 0.32163545 0.32006606 0.31059623\n",
            " 0.3062825  0.30761593 0.30710267 0.30668538 0.29746322 0.30201776\n",
            " 0.29262621 0.2874317  0.28661761 0.2806267  0.28176089 0.29419514\n",
            " 0.28783064 0.29056676 0.28370297 0.29059485 0.29242629 0.29543906\n",
            " 0.29833356 0.30116716 0.30393618 0.30660138 0.30915171 0.311593\n",
            " 0.31393698 0.31619725 0.31838709 0.3205179  0.32259917 0.32463861\n",
            " 0.32664204 0.32861391 0.33055806 0.33247781]\n",
            "19day output [[0.3343759]]\n",
            "20day input[0.37539123 0.37888705 0.37150121 0.37208531 0.36721282 0.35408172\n",
            " 0.34277658 0.33278021 0.33861918 0.34238181 0.34609073 0.34753408\n",
            " 0.3499759  0.34495012 0.33459468 0.33159049 0.32556354 0.33553931\n",
            " 0.34015072 0.33107972 0.32907963 0.31941844 0.33014939 0.32843415\n",
            " 0.32106487 0.3283178  0.3174749  0.31142789 0.30164011 0.30158515\n",
            " 0.30417496 0.30944358 0.30712328 0.31090878 0.30677458 0.30880158\n",
            " 0.31239156 0.30222657 0.30568342 0.3125239  0.30991617 0.31369525\n",
            " 0.30138151 0.30009054 0.30250871 0.30823213 0.30207374 0.30665148\n",
            " 0.3019923  0.28584227 0.28119357 0.26517013 0.26396014 0.2771497\n",
            " 0.28455716 0.28981079 0.2825921  0.29725283 0.29257586 0.29761516\n",
            " 0.30708217 0.31299649 0.32163545 0.32006606 0.31059623 0.3062825\n",
            " 0.30761593 0.30710267 0.30668538 0.29746322 0.30201776 0.29262621\n",
            " 0.2874317  0.28661761 0.2806267  0.28176089 0.29419514 0.28783064\n",
            " 0.29056676 0.28370297 0.29059485 0.29242629 0.29543906 0.29833356\n",
            " 0.30116716 0.30393618 0.30660138 0.30915171 0.311593   0.31393698\n",
            " 0.31619725 0.31838709 0.3205179  0.32259917 0.32463861 0.32664204\n",
            " 0.32861391 0.33055806 0.33247781 0.33437589]\n",
            "20day output [[0.33625522]]\n",
            "21day input[0.37888705 0.37150121 0.37208531 0.36721282 0.35408172 0.34277658\n",
            " 0.33278021 0.33861918 0.34238181 0.34609073 0.34753408 0.3499759\n",
            " 0.34495012 0.33459468 0.33159049 0.32556354 0.33553931 0.34015072\n",
            " 0.33107972 0.32907963 0.31941844 0.33014939 0.32843415 0.32106487\n",
            " 0.3283178  0.3174749  0.31142789 0.30164011 0.30158515 0.30417496\n",
            " 0.30944358 0.30712328 0.31090878 0.30677458 0.30880158 0.31239156\n",
            " 0.30222657 0.30568342 0.3125239  0.30991617 0.31369525 0.30138151\n",
            " 0.30009054 0.30250871 0.30823213 0.30207374 0.30665148 0.3019923\n",
            " 0.28584227 0.28119357 0.26517013 0.26396014 0.2771497  0.28455716\n",
            " 0.28981079 0.2825921  0.29725283 0.29257586 0.29761516 0.30708217\n",
            " 0.31299649 0.32163545 0.32006606 0.31059623 0.3062825  0.30761593\n",
            " 0.30710267 0.30668538 0.29746322 0.30201776 0.29262621 0.2874317\n",
            " 0.28661761 0.2806267  0.28176089 0.29419514 0.28783064 0.29056676\n",
            " 0.28370297 0.29059485 0.29242629 0.29543906 0.29833356 0.30116716\n",
            " 0.30393618 0.30660138 0.30915171 0.311593   0.31393698 0.31619725\n",
            " 0.31838709 0.3205179  0.32259917 0.32463861 0.32664204 0.32861391\n",
            " 0.33055806 0.33247781 0.33437589 0.33625522]\n",
            "21day output [[0.33811796]]\n",
            "22day input[0.37150121 0.37208531 0.36721282 0.35408172 0.34277658 0.33278021\n",
            " 0.33861918 0.34238181 0.34609073 0.34753408 0.3499759  0.34495012\n",
            " 0.33459468 0.33159049 0.32556354 0.33553931 0.34015072 0.33107972\n",
            " 0.32907963 0.31941844 0.33014939 0.32843415 0.32106487 0.3283178\n",
            " 0.3174749  0.31142789 0.30164011 0.30158515 0.30417496 0.30944358\n",
            " 0.30712328 0.31090878 0.30677458 0.30880158 0.31239156 0.30222657\n",
            " 0.30568342 0.3125239  0.30991617 0.31369525 0.30138151 0.30009054\n",
            " 0.30250871 0.30823213 0.30207374 0.30665148 0.3019923  0.28584227\n",
            " 0.28119357 0.26517013 0.26396014 0.2771497  0.28455716 0.28981079\n",
            " 0.2825921  0.29725283 0.29257586 0.29761516 0.30708217 0.31299649\n",
            " 0.32163545 0.32006606 0.31059623 0.3062825  0.30761593 0.30710267\n",
            " 0.30668538 0.29746322 0.30201776 0.29262621 0.2874317  0.28661761\n",
            " 0.2806267  0.28176089 0.29419514 0.28783064 0.29056676 0.28370297\n",
            " 0.29059485 0.29242629 0.29543906 0.29833356 0.30116716 0.30393618\n",
            " 0.30660138 0.30915171 0.311593   0.31393698 0.31619725 0.31838709\n",
            " 0.3205179  0.32259917 0.32463861 0.32664204 0.32861391 0.33055806\n",
            " 0.33247781 0.33437589 0.33625522 0.33811796]\n",
            "22day output [[0.33996668]]\n",
            "23day input[0.37208531 0.36721282 0.35408172 0.34277658 0.33278021 0.33861918\n",
            " 0.34238181 0.34609073 0.34753408 0.3499759  0.34495012 0.33459468\n",
            " 0.33159049 0.32556354 0.33553931 0.34015072 0.33107972 0.32907963\n",
            " 0.31941844 0.33014939 0.32843415 0.32106487 0.3283178  0.3174749\n",
            " 0.31142789 0.30164011 0.30158515 0.30417496 0.30944358 0.30712328\n",
            " 0.31090878 0.30677458 0.30880158 0.31239156 0.30222657 0.30568342\n",
            " 0.3125239  0.30991617 0.31369525 0.30138151 0.30009054 0.30250871\n",
            " 0.30823213 0.30207374 0.30665148 0.3019923  0.28584227 0.28119357\n",
            " 0.26517013 0.26396014 0.2771497  0.28455716 0.28981079 0.2825921\n",
            " 0.29725283 0.29257586 0.29761516 0.30708217 0.31299649 0.32163545\n",
            " 0.32006606 0.31059623 0.3062825  0.30761593 0.30710267 0.30668538\n",
            " 0.29746322 0.30201776 0.29262621 0.2874317  0.28661761 0.2806267\n",
            " 0.28176089 0.29419514 0.28783064 0.29056676 0.28370297 0.29059485\n",
            " 0.29242629 0.29543906 0.29833356 0.30116716 0.30393618 0.30660138\n",
            " 0.30915171 0.311593   0.31393698 0.31619725 0.31838709 0.3205179\n",
            " 0.32259917 0.32463861 0.32664204 0.32861391 0.33055806 0.33247781\n",
            " 0.33437589 0.33625522 0.33811796 0.33996668]\n",
            "23day output [[0.34180334]]\n",
            "24day input[0.36721282 0.35408172 0.34277658 0.33278021 0.33861918 0.34238181\n",
            " 0.34609073 0.34753408 0.3499759  0.34495012 0.33459468 0.33159049\n",
            " 0.32556354 0.33553931 0.34015072 0.33107972 0.32907963 0.31941844\n",
            " 0.33014939 0.32843415 0.32106487 0.3283178  0.3174749  0.31142789\n",
            " 0.30164011 0.30158515 0.30417496 0.30944358 0.30712328 0.31090878\n",
            " 0.30677458 0.30880158 0.31239156 0.30222657 0.30568342 0.3125239\n",
            " 0.30991617 0.31369525 0.30138151 0.30009054 0.30250871 0.30823213\n",
            " 0.30207374 0.30665148 0.3019923  0.28584227 0.28119357 0.26517013\n",
            " 0.26396014 0.2771497  0.28455716 0.28981079 0.2825921  0.29725283\n",
            " 0.29257586 0.29761516 0.30708217 0.31299649 0.32163545 0.32006606\n",
            " 0.31059623 0.3062825  0.30761593 0.30710267 0.30668538 0.29746322\n",
            " 0.30201776 0.29262621 0.2874317  0.28661761 0.2806267  0.28176089\n",
            " 0.29419514 0.28783064 0.29056676 0.28370297 0.29059485 0.29242629\n",
            " 0.29543906 0.29833356 0.30116716 0.30393618 0.30660138 0.30915171\n",
            " 0.311593   0.31393698 0.31619725 0.31838709 0.3205179  0.32259917\n",
            " 0.32463861 0.32664204 0.32861391 0.33055806 0.33247781 0.33437589\n",
            " 0.33625522 0.33811796 0.33996668 0.34180334]\n",
            "24day output [[0.34363025]]\n",
            "25day input[0.35408172 0.34277658 0.33278021 0.33861918 0.34238181 0.34609073\n",
            " 0.34753408 0.3499759  0.34495012 0.33459468 0.33159049 0.32556354\n",
            " 0.33553931 0.34015072 0.33107972 0.32907963 0.31941844 0.33014939\n",
            " 0.32843415 0.32106487 0.3283178  0.3174749  0.31142789 0.30164011\n",
            " 0.30158515 0.30417496 0.30944358 0.30712328 0.31090878 0.30677458\n",
            " 0.30880158 0.31239156 0.30222657 0.30568342 0.3125239  0.30991617\n",
            " 0.31369525 0.30138151 0.30009054 0.30250871 0.30823213 0.30207374\n",
            " 0.30665148 0.3019923  0.28584227 0.28119357 0.26517013 0.26396014\n",
            " 0.2771497  0.28455716 0.28981079 0.2825921  0.29725283 0.29257586\n",
            " 0.29761516 0.30708217 0.31299649 0.32163545 0.32006606 0.31059623\n",
            " 0.3062825  0.30761593 0.30710267 0.30668538 0.29746322 0.30201776\n",
            " 0.29262621 0.2874317  0.28661761 0.2806267  0.28176089 0.29419514\n",
            " 0.28783064 0.29056676 0.28370297 0.29059485 0.29242629 0.29543906\n",
            " 0.29833356 0.30116716 0.30393618 0.30660138 0.30915171 0.311593\n",
            " 0.31393698 0.31619725 0.31838709 0.3205179  0.32259917 0.32463861\n",
            " 0.32664204 0.32861391 0.33055806 0.33247781 0.33437589 0.33625522\n",
            " 0.33811796 0.33996668 0.34180334 0.34363025]\n",
            "25day output [[0.34544876]]\n",
            "26day input[0.34277658 0.33278021 0.33861918 0.34238181 0.34609073 0.34753408\n",
            " 0.3499759  0.34495012 0.33459468 0.33159049 0.32556354 0.33553931\n",
            " 0.34015072 0.33107972 0.32907963 0.31941844 0.33014939 0.32843415\n",
            " 0.32106487 0.3283178  0.3174749  0.31142789 0.30164011 0.30158515\n",
            " 0.30417496 0.30944358 0.30712328 0.31090878 0.30677458 0.30880158\n",
            " 0.31239156 0.30222657 0.30568342 0.3125239  0.30991617 0.31369525\n",
            " 0.30138151 0.30009054 0.30250871 0.30823213 0.30207374 0.30665148\n",
            " 0.3019923  0.28584227 0.28119357 0.26517013 0.26396014 0.2771497\n",
            " 0.28455716 0.28981079 0.2825921  0.29725283 0.29257586 0.29761516\n",
            " 0.30708217 0.31299649 0.32163545 0.32006606 0.31059623 0.3062825\n",
            " 0.30761593 0.30710267 0.30668538 0.29746322 0.30201776 0.29262621\n",
            " 0.2874317  0.28661761 0.2806267  0.28176089 0.29419514 0.28783064\n",
            " 0.29056676 0.28370297 0.29059485 0.29242629 0.29543906 0.29833356\n",
            " 0.30116716 0.30393618 0.30660138 0.30915171 0.311593   0.31393698\n",
            " 0.31619725 0.31838709 0.3205179  0.32259917 0.32463861 0.32664204\n",
            " 0.32861391 0.33055806 0.33247781 0.33437589 0.33625522 0.33811796\n",
            " 0.33996668 0.34180334 0.34363025 0.34544876]\n",
            "26day output [[0.34726027]]\n",
            "27day input[0.33278021 0.33861918 0.34238181 0.34609073 0.34753408 0.3499759\n",
            " 0.34495012 0.33459468 0.33159049 0.32556354 0.33553931 0.34015072\n",
            " 0.33107972 0.32907963 0.31941844 0.33014939 0.32843415 0.32106487\n",
            " 0.3283178  0.3174749  0.31142789 0.30164011 0.30158515 0.30417496\n",
            " 0.30944358 0.30712328 0.31090878 0.30677458 0.30880158 0.31239156\n",
            " 0.30222657 0.30568342 0.3125239  0.30991617 0.31369525 0.30138151\n",
            " 0.30009054 0.30250871 0.30823213 0.30207374 0.30665148 0.3019923\n",
            " 0.28584227 0.28119357 0.26517013 0.26396014 0.2771497  0.28455716\n",
            " 0.28981079 0.2825921  0.29725283 0.29257586 0.29761516 0.30708217\n",
            " 0.31299649 0.32163545 0.32006606 0.31059623 0.3062825  0.30761593\n",
            " 0.30710267 0.30668538 0.29746322 0.30201776 0.29262621 0.2874317\n",
            " 0.28661761 0.2806267  0.28176089 0.29419514 0.28783064 0.29056676\n",
            " 0.28370297 0.29059485 0.29242629 0.29543906 0.29833356 0.30116716\n",
            " 0.30393618 0.30660138 0.30915171 0.311593   0.31393698 0.31619725\n",
            " 0.31838709 0.3205179  0.32259917 0.32463861 0.32664204 0.32861391\n",
            " 0.33055806 0.33247781 0.33437589 0.33625522 0.33811796 0.33996668\n",
            " 0.34180334 0.34363025 0.34544876 0.34726027]\n",
            "27day output [[0.34906632]]\n",
            "28day input[0.33861918 0.34238181 0.34609073 0.34753408 0.3499759  0.34495012\n",
            " 0.33459468 0.33159049 0.32556354 0.33553931 0.34015072 0.33107972\n",
            " 0.32907963 0.31941844 0.33014939 0.32843415 0.32106487 0.3283178\n",
            " 0.3174749  0.31142789 0.30164011 0.30158515 0.30417496 0.30944358\n",
            " 0.30712328 0.31090878 0.30677458 0.30880158 0.31239156 0.30222657\n",
            " 0.30568342 0.3125239  0.30991617 0.31369525 0.30138151 0.30009054\n",
            " 0.30250871 0.30823213 0.30207374 0.30665148 0.3019923  0.28584227\n",
            " 0.28119357 0.26517013 0.26396014 0.2771497  0.28455716 0.28981079\n",
            " 0.2825921  0.29725283 0.29257586 0.29761516 0.30708217 0.31299649\n",
            " 0.32163545 0.32006606 0.31059623 0.3062825  0.30761593 0.30710267\n",
            " 0.30668538 0.29746322 0.30201776 0.29262621 0.2874317  0.28661761\n",
            " 0.2806267  0.28176089 0.29419514 0.28783064 0.29056676 0.28370297\n",
            " 0.29059485 0.29242629 0.29543906 0.29833356 0.30116716 0.30393618\n",
            " 0.30660138 0.30915171 0.311593   0.31393698 0.31619725 0.31838709\n",
            " 0.3205179  0.32259917 0.32463861 0.32664204 0.32861391 0.33055806\n",
            " 0.33247781 0.33437589 0.33625522 0.33811796 0.33996668 0.34180334\n",
            " 0.34363025 0.34544876 0.34726027 0.34906632]\n",
            "28day output [[0.35086775]]\n",
            "29day input[0.34238181 0.34609073 0.34753408 0.3499759  0.34495012 0.33459468\n",
            " 0.33159049 0.32556354 0.33553931 0.34015072 0.33107972 0.32907963\n",
            " 0.31941844 0.33014939 0.32843415 0.32106487 0.3283178  0.3174749\n",
            " 0.31142789 0.30164011 0.30158515 0.30417496 0.30944358 0.30712328\n",
            " 0.31090878 0.30677458 0.30880158 0.31239156 0.30222657 0.30568342\n",
            " 0.3125239  0.30991617 0.31369525 0.30138151 0.30009054 0.30250871\n",
            " 0.30823213 0.30207374 0.30665148 0.3019923  0.28584227 0.28119357\n",
            " 0.26517013 0.26396014 0.2771497  0.28455716 0.28981079 0.2825921\n",
            " 0.29725283 0.29257586 0.29761516 0.30708217 0.31299649 0.32163545\n",
            " 0.32006606 0.31059623 0.3062825  0.30761593 0.30710267 0.30668538\n",
            " 0.29746322 0.30201776 0.29262621 0.2874317  0.28661761 0.2806267\n",
            " 0.28176089 0.29419514 0.28783064 0.29056676 0.28370297 0.29059485\n",
            " 0.29242629 0.29543906 0.29833356 0.30116716 0.30393618 0.30660138\n",
            " 0.30915171 0.311593   0.31393698 0.31619725 0.31838709 0.3205179\n",
            " 0.32259917 0.32463861 0.32664204 0.32861391 0.33055806 0.33247781\n",
            " 0.33437589 0.33625522 0.33811796 0.33996668 0.34180334 0.34363025\n",
            " 0.34544876 0.34726027 0.34906632 0.35086775]\n",
            "29day output [[0.35266536]]\n",
            "[[0.29059484601020813], [0.29242628812789917], [0.29543906450271606], [0.2983335554599762], [0.30116716027259827], [0.3039361834526062], [0.3066013753414154], [0.30915170907974243], [0.3115929961204529], [0.3139369785785675], [0.3161972463130951], [0.31838709115982056], [0.320517897605896], [0.3225991725921631], [0.32463860511779785], [0.3266420364379883], [0.32861390709877014], [0.33055806159973145], [0.3324778079986572], [0.33437588810920715], [0.3362552225589752], [0.33811795711517334], [0.33996668457984924], [0.34180334210395813], [0.34363025426864624], [0.345448762178421], [0.3472602665424347], [0.3490663170814514], [0.35086774826049805], [0.35266536474227905]]\n"
          ]
        }
      ]
    },
    {
      "cell_type": "code",
      "source": [
        "day_new=np.arange(1,101)\n",
        "day_pred=np.arange(101,131)#30days"
      ],
      "metadata": {
        "id": "2jJ78XixZHUn"
      },
      "execution_count": 34,
      "outputs": []
    },
    {
      "cell_type": "code",
      "source": [
        "len(df_close)"
      ],
      "metadata": {
        "colab": {
          "base_uri": "https://localhost:8080/"
        },
        "id": "obJoCfFUY__P",
        "outputId": "3dd3e1ab-e3ca-40e3-bef0-82c597927c06"
      },
      "execution_count": 35,
      "outputs": [
        {
          "output_type": "execute_result",
          "data": {
            "text/plain": [
              "2865"
            ]
          },
          "metadata": {},
          "execution_count": 35
        }
      ]
    },
    {
      "cell_type": "code",
      "source": [
        "df3=df_close.tolist()\n",
        "df3.extend(lst_output)\n",
        "lst_output"
      ],
      "metadata": {
        "id": "SHq3nufoZr0F",
        "colab": {
          "base_uri": "https://localhost:8080/"
        },
        "outputId": "166ef0c3-ffb3-48f2-f330-3099da89950f"
      },
      "execution_count": 36,
      "outputs": [
        {
          "output_type": "execute_result",
          "data": {
            "text/plain": [
              "[[0.29059484601020813],\n",
              " [0.29242628812789917],\n",
              " [0.29543906450271606],\n",
              " [0.2983335554599762],\n",
              " [0.30116716027259827],\n",
              " [0.3039361834526062],\n",
              " [0.3066013753414154],\n",
              " [0.30915170907974243],\n",
              " [0.3115929961204529],\n",
              " [0.3139369785785675],\n",
              " [0.3161972463130951],\n",
              " [0.31838709115982056],\n",
              " [0.320517897605896],\n",
              " [0.3225991725921631],\n",
              " [0.32463860511779785],\n",
              " [0.3266420364379883],\n",
              " [0.32861390709877014],\n",
              " [0.33055806159973145],\n",
              " [0.3324778079986572],\n",
              " [0.33437588810920715],\n",
              " [0.3362552225589752],\n",
              " [0.33811795711517334],\n",
              " [0.33996668457984924],\n",
              " [0.34180334210395813],\n",
              " [0.34363025426864624],\n",
              " [0.345448762178421],\n",
              " [0.3472602665424347],\n",
              " [0.3490663170814514],\n",
              " [0.35086774826049805],\n",
              " [0.35266536474227905]]"
            ]
          },
          "metadata": {},
          "execution_count": 36
        }
      ]
    },
    {
      "cell_type": "code",
      "source": [
        "plt.figure(figsize=(13,7))\n",
        "plt.plot(day_new,scaler.inverse_transform(df_close[2765:]))\n",
        "plt.plot(day_pred,scaler.inverse_transform(lst_output))"
      ],
      "metadata": {
        "colab": {
          "base_uri": "https://localhost:8080/",
          "height": 445
        },
        "id": "CBqL_jGFZ95t",
        "outputId": "d81c54ad-0eb4-414f-a457-598c3765dfef"
      },
      "execution_count": 37,
      "outputs": [
        {
          "output_type": "execute_result",
          "data": {
            "text/plain": [
              "[<matplotlib.lines.Line2D at 0x7fc8df7ba910>]"
            ]
          },
          "metadata": {},
          "execution_count": 37
        },
        {
          "output_type": "display_data",
          "data": {
            "text/plain": [
              "<Figure size 936x504 with 1 Axes>"
            ],
            "image/png": "[encoded data removed]"
          },
          "metadata": {
            "needs_background": "light"
          }
        }
      ]
    },
    {
      "cell_type": "code",
      "source": [
        "plt.figure(figsize=(10,7))\n",
        "df3=df_close.tolist()\n",
        "df3.extend(lst_output)\n",
        "plt.plot(df3[400:])\n"
      ],
      "metadata": {
        "colab": {
          "base_uri": "https://localhost:8080/",
          "height": 445
        },
        "id": "ftttDqrZa6cP",
        "outputId": "8e5d4a05-88da-4826-8f66-5c527c8bf314"
      },
      "execution_count": 38,
      "outputs": [
        {
          "output_type": "execute_result",
          "data": {
            "text/plain": [
              "[<matplotlib.lines.Line2D at 0x7fc8df7283d0>]"
            ]
          },
          "metadata": {},
          "execution_count": 38
        },
        {
          "output_type": "display_data",
          "data": {
            "text/plain": [
              "<Figure size 720x504 with 1 Axes>"
            ],
            "image/png": "[encoded data removed]"
          },
          "metadata": {
            "needs_background": "light"
          }
        }
      ]
    },
    {
      "cell_type": "code",
      "source": [
        ""
      ],
      "metadata": {
        "id": "e9zn4rZKFYqH"
      },
      "execution_count": null,
      "outputs": []
    },
    {
      "cell_type": "code",
      "source": [
        "bb=yf.download(\"GBPUSD=X\",start='2020-1-13',end='2022-3-12')\n",
        "bb_close=bb.reset_index()['Close']\n",
        "plt.figure(figsize=(13,7))\n",
        "plt.plot(bb_close)"
      ],
      "metadata": {
        "colab": {
          "base_uri": "https://localhost:8080/",
          "height": 463
        },
        "id": "QkUs4Qs_AzlR",
        "outputId": "38e88087-dc5e-46b9-9a82-5c2614a5b312"
      },
      "execution_count": null,
      "outputs": [
        {
          "output_type": "stream",
          "name": "stdout",
          "text": [
            "\r[*********************100%***********************]  1 of 1 completed\n"
          ]
        },
        {
          "output_type": "execute_result",
          "data": {
            "text/plain": [
              "[<matplotlib.lines.Line2D at 0x7f398591ff10>]"
            ]
          },
          "metadata": {},
          "execution_count": 335
        },
        {
          "output_type": "display_data",
          "data": {
            "text/plain": [
              "<Figure size 936x504 with 1 Axes>"
            ],
            "image/png": "[encoded data removed]"
          },
          "metadata": {
            "needs_background": "light"
          }
        }
      ]
    },
    {
      "cell_type": "code",
      "source": [
        ""
      ],
      "metadata": {
        "id": "2hz1wMVpvj4L"
      },
      "execution_count": null,
      "outputs": []
    },
    {
      "cell_type": "code",
      "source": [
        ""
      ],
      "metadata": {
        "id": "TmA-ezjqvhjE"
      },
      "execution_count": null,
      "outputs": []
    },
    {
      "cell_type": "code",
      "source": [
        ""
      ],
      "metadata": {
        "id": "hZz8uYafvZ_D"
      },
      "execution_count": null,
      "outputs": []
    },
    {
      "cell_type": "code",
      "source": [
        ""
      ],
      "metadata": {
        "id": "w3aP6trVu7R9"
      },
      "execution_count": null,
      "outputs": []
    },
    {
      "cell_type": "code",
      "source": [
        ""
      ],
      "metadata": {
        "id": "hP6tmaJ5u3pU"
      },
      "execution_count": null,
      "outputs": []
    },
    {
      "cell_type": "code",
      "source": [
        ""
      ],
      "metadata": {
        "id": "HCtHW-Igu0UE"
      },
      "execution_count": null,
      "outputs": []
    }
  ]
}
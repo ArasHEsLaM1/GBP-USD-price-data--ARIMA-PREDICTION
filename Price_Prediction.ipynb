{
  "nbformat": 4,
  "nbformat_minor": 0,
  "metadata": {
    "colab": {
      "name": "Untitled2.ipynb",
      "provenance": [],
      "collapsed_sections": [],
      "authorship_tag": "ABX9TyNL7oamiB1f41TLiSJK1ktn",
      "include_colab_link": true
    },
    "kernelspec": {
      "name": "python3",
      "display_name": "Python 3"
    },
    "language_info": {
      "name": "python"
    }
  },
  "cells": [
    {
      "cell_type": "markdown",
      "metadata": {
        "id": "view-in-github",
        "colab_type": "text"
      },
      "source": [
        "<a href=\"https://colab.research.google.com/github/ArasHEsLaM1/machine_learning_with_python_jadi/blob/main/Price_Prediction.ipynb\" target=\"_parent\"><img src=\"https://colab.research.google.com/assets/colab-badge.svg\" alt=\"Open In Colab\"/></a>"
      ]
    },
    {
      "cell_type": "code",
      "execution_count": 2,
      "metadata": {
        "id": "t-98RpfyjcVW"
      },
      "outputs": [],
      "source": [
        "import numpy as np\n",
        "import pandas as pd\n",
        "import matplotlib.pyplot as plt\n",
        "from sklearn.preprocessing import MinMaxScaler \n",
        "import time\n",
        "from keras.models import Sequential,load_model\n",
        "from keras.layers  import Dropout,LSTM,Dense\n",
        "from keras.callbacks import EarlyStopping\n",
        "import yfinance as yf\n",
        "from keras.utils.vis_utils import plot_model \n",
        "import tensorflow as tf\n"
      ]
    },
    {
      "cell_type": "code",
      "source": [
        "%pip install yfinance\n"
      ],
      "metadata": {
        "colab": {
          "base_uri": "https://localhost:8080/"
        },
        "id": "3v2SJmS2kvrP",
        "outputId": "2c3f9b9c-2d11-4f46-a0bb-139920f119a4"
      },
      "execution_count": 1,
      "outputs": [
        {
          "output_type": "stream",
          "name": "stdout",
          "text": [
            "Looking in indexes: https://pypi.org/simple, https://us-python.pkg.dev/colab-wheels/public/simple/\n",
            "Collecting yfinance\n",
            "  Downloading yfinance-0.1.74-py2.py3-none-any.whl (27 kB)\n",
            "Requirement already satisfied: multitasking>=0.0.7 in /usr/local/lib/python3.7/dist-packages (from yfinance) (0.0.11)\n",
            "Requirement already satisfied: numpy>=1.15 in /usr/local/lib/python3.7/dist-packages (from yfinance) (1.21.6)\n",
            "Requirement already satisfied: pandas>=0.24.0 in /usr/local/lib/python3.7/dist-packages (from yfinance) (1.3.5)\n",
            "Requirement already satisfied: lxml>=4.5.1 in /usr/local/lib/python3.7/dist-packages (from yfinance) (4.9.1)\n",
            "Collecting requests>=2.26\n",
            "  Downloading requests-2.28.1-py3-none-any.whl (62 kB)\n",
            "\u001b[K     |████████████████████████████████| 62 kB 1.1 MB/s \n",
            "\u001b[?25hRequirement already satisfied: python-dateutil>=2.7.3 in /usr/local/lib/python3.7/dist-packages (from pandas>=0.24.0->yfinance) (2.8.2)\n",
            "Requirement already satisfied: pytz>=2017.3 in /usr/local/lib/python3.7/dist-packages (from pandas>=0.24.0->yfinance) (2022.1)\n",
            "Requirement already satisfied: six>=1.5 in /usr/local/lib/python3.7/dist-packages (from python-dateutil>=2.7.3->pandas>=0.24.0->yfinance) (1.15.0)\n",
            "Requirement already satisfied: idna<4,>=2.5 in /usr/local/lib/python3.7/dist-packages (from requests>=2.26->yfinance) (2.10)\n",
            "Requirement already satisfied: certifi>=2017.4.17 in /usr/local/lib/python3.7/dist-packages (from requests>=2.26->yfinance) (2022.6.15)\n",
            "Requirement already satisfied: urllib3<1.27,>=1.21.1 in /usr/local/lib/python3.7/dist-packages (from requests>=2.26->yfinance) (1.24.3)\n",
            "Requirement already satisfied: charset-normalizer<3,>=2 in /usr/local/lib/python3.7/dist-packages (from requests>=2.26->yfinance) (2.1.0)\n",
            "Installing collected packages: requests, yfinance\n",
            "  Attempting uninstall: requests\n",
            "    Found existing installation: requests 2.23.0\n",
            "    Uninstalling requests-2.23.0:\n",
            "      Successfully uninstalled requests-2.23.0\n",
            "Successfully installed requests-2.28.1 yfinance-0.1.74\n"
          ]
        }
      ]
    },
    {
      "cell_type": "markdown",
      "source": [
        "**Load the data from YFinance**"
      ],
      "metadata": {
        "id": "n_0oO4_Wtfta"
      }
    },
    {
      "cell_type": "code",
      "source": [
        "basic_data= yf.download(\"GBPUSD=X\",start='2010-01-13',end='2022-1-13')\n",
        "basic_data.head(5)"
      ],
      "metadata": {
        "colab": {
          "base_uri": "https://localhost:8080/",
          "height": 255
        },
        "id": "Wla8CCoolECu",
        "outputId": "76750a40-5dc5-43bb-f91f-9f54490deb92"
      },
      "execution_count": 3,
      "outputs": [
        {
          "output_type": "stream",
          "name": "stdout",
          "text": [
            "\r[*********************100%***********************]  1 of 1 completed\n"
          ]
        },
        {
          "output_type": "execute_result",
          "data": {
            "text/plain": [
              "                Open      High       Low     Close  Adj Close  Volume\n",
              "Date                                                                 \n",
              "2010-01-13  1.615509  1.630098  1.613918  1.628611   1.628611       0\n",
              "2010-01-14  1.628214  1.634735  1.625329  1.633400   1.633400       0\n",
              "2010-01-15  1.633720  1.635109  1.622297  1.626995   1.626995       0\n",
              "2010-01-18  1.629408  1.637733  1.625408  1.635296   1.635296       0\n",
              "2010-01-19  1.635216  1.645765  1.631481  1.635671   1.635671       0"
            ],
            "text/html": [
              "\n",
              "  <div id=\"df-151efb12-6083-48c8-84fd-b848aa16bed2\">\n",
              "    <div class=\"colab-df-container\">\n",
              "      <div>\n",
              "<style scoped>\n",
              "    .dataframe tbody tr th:only-of-type {\n",
              "        vertical-align: middle;\n",
              "    }\n",
              "\n",
              "    .dataframe tbody tr th {\n",
              "        vertical-align: top;\n",
              "    }\n",
              "\n",
              "    .dataframe thead th {\n",
              "        text-align: right;\n",
              "    }\n",
              "</style>\n",
              "<table border=\"1\" class=\"dataframe\">\n",
              "  <thead>\n",
              "    <tr style=\"text-align: right;\">\n",
              "      <th></th>\n",
              "      <th>Open</th>\n",
              "      <th>High</th>\n",
              "      <th>Low</th>\n",
              "      <th>Close</th>\n",
              "      <th>Adj Close</th>\n",
              "      <th>Volume</th>\n",
              "    </tr>\n",
              "    <tr>\n",
              "      <th>Date</th>\n",
              "      <th></th>\n",
              "      <th></th>\n",
              "      <th></th>\n",
              "      <th></th>\n",
              "      <th></th>\n",
              "      <th></th>\n",
              "    </tr>\n",
              "  </thead>\n",
              "  <tbody>\n",
              "    <tr>\n",
              "      <th>2010-01-13</th>\n",
              "      <td>1.615509</td>\n",
              "      <td>1.630098</td>\n",
              "      <td>1.613918</td>\n",
              "      <td>1.628611</td>\n",
              "      <td>1.628611</td>\n",
              "      <td>0</td>\n",
              "    </tr>\n",
              "    <tr>\n",
              "      <th>2010-01-14</th>\n",
              "      <td>1.628214</td>\n",
              "      <td>1.634735</td>\n",
              "      <td>1.625329</td>\n",
              "      <td>1.633400</td>\n",
              "      <td>1.633400</td>\n",
              "      <td>0</td>\n",
              "    </tr>\n",
              "    <tr>\n",
              "      <th>2010-01-15</th>\n",
              "      <td>1.633720</td>\n",
              "      <td>1.635109</td>\n",
              "      <td>1.622297</td>\n",
              "      <td>1.626995</td>\n",
              "      <td>1.626995</td>\n",
              "      <td>0</td>\n",
              "    </tr>\n",
              "    <tr>\n",
              "      <th>2010-01-18</th>\n",
              "      <td>1.629408</td>\n",
              "      <td>1.637733</td>\n",
              "      <td>1.625408</td>\n",
              "      <td>1.635296</td>\n",
              "      <td>1.635296</td>\n",
              "      <td>0</td>\n",
              "    </tr>\n",
              "    <tr>\n",
              "      <th>2010-01-19</th>\n",
              "      <td>1.635216</td>\n",
              "      <td>1.645765</td>\n",
              "      <td>1.631481</td>\n",
              "      <td>1.635671</td>\n",
              "      <td>1.635671</td>\n",
              "      <td>0</td>\n",
              "    </tr>\n",
              "  </tbody>\n",
              "</table>\n",
              "</div>\n",
              "      <button class=\"colab-df-convert\" onclick=\"convertToInteractive('df-151efb12-6083-48c8-84fd-b848aa16bed2')\"\n",
              "              title=\"Convert this dataframe to an interactive table.\"\n",
              "              style=\"display:none;\">\n",
              "        \n",
              "  <svg xmlns=\"http://www.w3.org/2000/svg\" height=\"24px\"viewBox=\"0 0 24 24\"\n",
              "       width=\"24px\">\n",
              "    <path d=\"M0 0h24v24H0V0z\" fill=\"none\"/>\n",
              "    <path d=\"M18.56 5.44l.94 2.06.94-2.06 2.06-.94-2.06-.94-.94-2.06-.94 2.06-2.06.94zm-11 1L8.5 8.5l.94-2.06 2.06-.94-2.06-.94L8.5 2.5l-.94 2.06-2.06.94zm10 10l.94 2.06.94-2.06 2.06-.94-2.06-.94-.94-2.06-.94 2.06-2.06.94z\"/><path d=\"M17.41 7.96l-1.37-1.37c-.4-.4-.92-.59-1.43-.59-.52 0-1.04.2-1.43.59L10.3 9.45l-7.72 7.72c-.78.78-.78 2.05 0 2.83L4 21.41c.39.39.9.59 1.41.59.51 0 1.02-.2 1.41-.59l7.78-7.78 2.81-2.81c.8-.78.8-2.07 0-2.86zM5.41 20L4 18.59l7.72-7.72 1.47 1.35L5.41 20z\"/>\n",
              "  </svg>\n",
              "      </button>\n",
              "      \n",
              "  <style>\n",
              "    .colab-df-container {\n",
              "      display:flex;\n",
              "      flex-wrap:wrap;\n",
              "      gap: 12px;\n",
              "    }\n",
              "\n",
              "    .colab-df-convert {\n",
              "      background-color: #E8F0FE;\n",
              "      border: none;\n",
              "      border-radius: 50%;\n",
              "      cursor: pointer;\n",
              "      display: none;\n",
              "      fill: #1967D2;\n",
              "      height: 32px;\n",
              "      padding: 0 0 0 0;\n",
              "      width: 32px;\n",
              "    }\n",
              "\n",
              "    .colab-df-convert:hover {\n",
              "      background-color: #E2EBFA;\n",
              "      box-shadow: 0px 1px 2px rgba(60, 64, 67, 0.3), 0px 1px 3px 1px rgba(60, 64, 67, 0.15);\n",
              "      fill: #174EA6;\n",
              "    }\n",
              "\n",
              "    [theme=dark] .colab-df-convert {\n",
              "      background-color: #3B4455;\n",
              "      fill: #D2E3FC;\n",
              "    }\n",
              "\n",
              "    [theme=dark] .colab-df-convert:hover {\n",
              "      background-color: #434B5C;\n",
              "      box-shadow: 0px 1px 3px 1px rgba(0, 0, 0, 0.15);\n",
              "      filter: drop-shadow(0px 1px 2px rgba(0, 0, 0, 0.3));\n",
              "      fill: #FFFFFF;\n",
              "    }\n",
              "  </style>\n",
              "\n",
              "      <script>\n",
              "        const buttonEl =\n",
              "          document.querySelector('#df-151efb12-6083-48c8-84fd-b848aa16bed2 button.colab-df-convert');\n",
              "        buttonEl.style.display =\n",
              "          google.colab.kernel.accessAllowed ? 'block' : 'none';\n",
              "\n",
              "        async function convertToInteractive(key) {\n",
              "          const element = document.querySelector('#df-151efb12-6083-48c8-84fd-b848aa16bed2');\n",
              "          const dataTable =\n",
              "            await google.colab.kernel.invokeFunction('convertToInteractive',\n",
              "                                                     [key], {});\n",
              "          if (!dataTable) return;\n",
              "\n",
              "          const docLinkHtml = 'Like what you see? Visit the ' +\n",
              "            '<a target=\"_blank\" href=https://colab.research.google.com/notebooks/data_table.ipynb>data table notebook</a>'\n",
              "            + ' to learn more about interactive tables.';\n",
              "          element.innerHTML = '';\n",
              "          dataTable['output_type'] = 'display_data';\n",
              "          await google.colab.output.renderOutput(dataTable, element);\n",
              "          const docLink = document.createElement('div');\n",
              "          docLink.innerHTML = docLinkHtml;\n",
              "          element.appendChild(docLink);\n",
              "        }\n",
              "      </script>\n",
              "    </div>\n",
              "  </div>\n",
              "  "
            ]
          },
          "metadata": {},
          "execution_count": 3
        }
      ]
    },
    {
      "cell_type": "code",
      "source": [
        "basic_data.shape"
      ],
      "metadata": {
        "colab": {
          "base_uri": "https://localhost:8080/"
        },
        "id": "-lODjIZPlheP",
        "outputId": "cfd53980-b49e-4339-ad0d-a43867b64316"
      },
      "execution_count": 5,
      "outputs": [
        {
          "output_type": "execute_result",
          "data": {
            "text/plain": [
              "(3127, 6)"
            ]
          },
          "metadata": {},
          "execution_count": 5
        }
      ]
    },
    {
      "cell_type": "code",
      "source": [
        "df=pd.DataFrame(basic_data)\n",
        "df_close=df.reset_index()['Close']\n",
        "df_close.shape\n"
      ],
      "metadata": {
        "id": "_Cs1RneQltcu",
        "colab": {
          "base_uri": "https://localhost:8080/"
        },
        "outputId": "c4151ab3-9bf2-472c-f675-c6e1ea0c0459"
      },
      "execution_count": 4,
      "outputs": [
        {
          "output_type": "execute_result",
          "data": {
            "text/plain": [
              "(3127,)"
            ]
          },
          "metadata": {},
          "execution_count": 4
        }
      ]
    },
    {
      "cell_type": "markdown",
      "source": [
        "Basic Data plot"
      ],
      "metadata": {
        "id": "lafKapSytrHg"
      }
    },
    {
      "cell_type": "code",
      "source": [
        "plt.figure(figsize=(20,9))\n",
        "plt.plot(df_close)"
      ],
      "metadata": {
        "colab": {
          "base_uri": "https://localhost:8080/",
          "height": 555
        },
        "id": "qUEa10w-yNok",
        "outputId": "ff95b2de-2d72-41bf-e3c5-625ef2c766ca"
      },
      "execution_count": 6,
      "outputs": [
        {
          "output_type": "execute_result",
          "data": {
            "text/plain": [
              "[<matplotlib.lines.Line2D at 0x7f491c837e90>]"
            ]
          },
          "metadata": {},
          "execution_count": 6
        },
        {
          "output_type": "display_data",
          "data": {
            "text/plain": [
              "<Figure size 1440x648 with 1 Axes>"
            ],
            "image/png": "[encoded data removed]"
          },
          "metadata": {
            "needs_background": "light"
          }
        }
      ]
    },
    {
      "cell_type": "code",
      "source": [
        "scaler=MinMaxScaler(feature_range=(0,1))\n",
        "df_close=scaler.fit_transform(np.array(df_close).reshape(-1,1))\n",
        "df_close.shape\n",
        "df_close"
      ],
      "metadata": {
        "id": "6JTnR1Gd60V8",
        "colab": {
          "base_uri": "https://localhost:8080/"
        },
        "outputId": "7f660e3b-d90e-4b29-86e3-e3959c9bd940"
      },
      "execution_count": 7,
      "outputs": [
        {
          "output_type": "execute_result",
          "data": {
            "text/plain": [
              "array([[0.84562182],\n",
              "       [0.85407216],\n",
              "       [0.84276935],\n",
              "       ...,\n",
              "       [0.3681149 ],\n",
              "       [0.37745955],\n",
              "       [0.39100012]])"
            ]
          },
          "metadata": {},
          "execution_count": 7
        }
      ]
    },
    {
      "cell_type": "code",
      "source": [
        "trainig_size=int(len(df_close)*0.8)\n",
        "testing_size=len(df_close)-trainig_size\n",
        "train_data,test_data=df_close[0:trainig_size,:],df_close[trainig_size:len(df_close),:1]\n",
        "trainig_size,testing_size"
      ],
      "metadata": {
        "id": "SIk7dhnV7qwj",
        "colab": {
          "base_uri": "https://localhost:8080/"
        },
        "outputId": "e7917e68-b8b1-41f2-8037-37dc66ba1c62"
      },
      "execution_count": 8,
      "outputs": [
        {
          "output_type": "execute_result",
          "data": {
            "text/plain": [
              "(2501, 626)"
            ]
          },
          "metadata": {},
          "execution_count": 8
        }
      ]
    },
    {
      "cell_type": "code",
      "source": [
        "#Convert an array of values into a dataset matrix\n",
        "def create_dataset(dataset,time_step=1):\n",
        "  dataX,dataY=[],[]\n",
        "  for i in range(len(dataset)-time_step-1):\n",
        "    a=dataset[i:(i+time_step),0]    #i=0, 0,1,2,3,-----99,100\n",
        "    dataX.append(a)\n",
        "    dataY.append(dataset[i+ time_step,0])\n",
        "  return np.array(dataX),np.array(dataY)"
      ],
      "metadata": {
        "id": "XS20RBNR6PD7"
      },
      "execution_count": 9,
      "outputs": []
    },
    {
      "cell_type": "code",
      "source": [
        "time_step=100\n",
        "x_train,y_train=create_dataset(train_data,time_step)\n",
        "x_test,y_test=create_dataset(test_data,time_step)\n"
      ],
      "metadata": {
        "id": "O0KBcIKj-Fxs"
      },
      "execution_count": 10,
      "outputs": []
    },
    {
      "cell_type": "code",
      "source": [
        "x_train\n"
      ],
      "metadata": {
        "colab": {
          "base_uri": "https://localhost:8080/"
        },
        "id": "wpj5Gk4ZFc1h",
        "outputId": "bc0eff08-46a1-48ab-a540-83a7100d1bcd"
      },
      "execution_count": 11,
      "outputs": [
        {
          "output_type": "execute_result",
          "data": {
            "text/plain": [
              "array([[0.84562182, 0.85407216, 0.84276935, ..., 0.52211461, 0.53430058,\n",
              "        0.55989837],\n",
              "       [0.85407216, 0.84276935, 0.85741902, ..., 0.53430058, 0.55989837,\n",
              "        0.55690263],\n",
              "       [0.84276935, 0.85741902, 0.8580796 , ..., 0.55989837, 0.55690263,\n",
              "        0.5540651 ],\n",
              "       ...,\n",
              "       [0.29265215, 0.27568078, 0.26973937, ..., 0.10312663, 0.10055501,\n",
              "        0.09988749],\n",
              "       [0.27568078, 0.26973937, 0.2778792 , ..., 0.10055501, 0.09988749,\n",
              "        0.10539469],\n",
              "       [0.26973937, 0.2778792 , 0.28823386, ..., 0.09988749, 0.10539469,\n",
              "        0.11764314]])"
            ]
          },
          "metadata": {},
          "execution_count": 11
        }
      ]
    },
    {
      "cell_type": "code",
      "source": [
        "x_train.shape\n",
        "#(number of records,time_step)"
      ],
      "metadata": {
        "colab": {
          "base_uri": "https://localhost:8080/"
        },
        "id": "_nq7wPL1Fe8h",
        "outputId": "4491f1d9-3b8b-4b1c-fe31-0af97e605071"
      },
      "execution_count": 12,
      "outputs": [
        {
          "output_type": "execute_result",
          "data": {
            "text/plain": [
              "(2400, 100)"
            ]
          },
          "metadata": {},
          "execution_count": 12
        }
      ]
    },
    {
      "cell_type": "code",
      "source": [
        "#CREATE A LSTM MODEL"
      ],
      "metadata": {
        "id": "LQJJ-Vl0GFGf"
      },
      "execution_count": 13,
      "outputs": []
    },
    {
      "cell_type": "code",
      "source": [
        "#RESHAPE INPUT TO BE [samples,time steps,feature] which is required for LSTM\n",
        "x_train=x_train.reshape(x_train.shape[0],x_train.shape[1],1)    #last one for convert into 3D model\n",
        "x_test= x_test.reshape(x_test.shape[0],x_test.shape[1],1)"
      ],
      "metadata": {
        "id": "bfWlgcVIGppZ"
      },
      "execution_count": 14,
      "outputs": []
    },
    {
      "cell_type": "code",
      "source": [
        "#CREAT LSTM MODEL CELL\n",
        "model=Sequential()\n",
        "model.add(LSTM(50,return_sequences=True,input_shape=(100,1))) #100 for time steps  LSTM LAYER 1\n",
        "model.add(LSTM(50,return_sequences=True))                                         #LSTM LAYER 2\n",
        "model.add(LSTM(50))                                                               #LSTM LAYER 3\n",
        "model.add(Dense(1))\n",
        "model.compile(loss='mean_squared_error',optimizer='adam')   #LOSS FUNCRION ALGORITHM=MSE , OPTIMIZER ALGORITHM =ADAM"
      ],
      "metadata": {
        "id": "JKAKE45uILkp"
      },
      "execution_count": 15,
      "outputs": []
    },
    {
      "cell_type": "code",
      "source": [
        "model.fit(x_train,y_train,validation_data=(x_test,y_test),epochs=200,batch_size=64,verbose=1)"
      ],
      "metadata": {
        "colab": {
          "base_uri": "https://localhost:8080/"
        },
        "id": "J16_jw3sKknA",
        "outputId": "bacbb322-37f3-41cc-e3f9-8b7ea7edd091"
      },
      "execution_count": 16,
      "outputs": [
        {
          "output_type": "stream",
          "name": "stdout",
          "text": [
            "Epoch 1/200\n",
            "38/38 [==============================] - 17s 252ms/step - loss: 0.0409 - val_loss: 0.0034\n",
            "Epoch 2/200\n",
            "38/38 [==============================] - 8s 201ms/step - loss: 0.0019 - val_loss: 0.0014\n",
            "Epoch 3/200\n",
            "38/38 [==============================] - 8s 205ms/step - loss: 0.0015 - val_loss: 0.0013\n",
            "Epoch 4/200\n",
            "38/38 [==============================] - 8s 212ms/step - loss: 0.0015 - val_loss: 0.0013\n",
            "Epoch 5/200\n",
            "38/38 [==============================] - 9s 237ms/step - loss: 0.0014 - val_loss: 0.0012\n",
            "Epoch 6/200\n",
            "38/38 [==============================] - 8s 224ms/step - loss: 0.0014 - val_loss: 0.0012\n",
            "Epoch 7/200\n",
            "38/38 [==============================] - 8s 206ms/step - loss: 0.0013 - val_loss: 0.0012\n",
            "Epoch 8/200\n",
            "38/38 [==============================] - 8s 208ms/step - loss: 0.0013 - val_loss: 0.0012\n",
            "Epoch 9/200\n",
            "38/38 [==============================] - 8s 207ms/step - loss: 0.0013 - val_loss: 0.0011\n",
            "Epoch 10/200\n",
            "38/38 [==============================] - 8s 205ms/step - loss: 0.0012 - val_loss: 0.0011\n",
            "Epoch 11/200\n",
            "38/38 [==============================] - 8s 208ms/step - loss: 0.0012 - val_loss: 0.0011\n",
            "Epoch 12/200\n",
            "38/38 [==============================] - 8s 204ms/step - loss: 0.0011 - val_loss: 0.0011\n",
            "Epoch 13/200\n",
            "38/38 [==============================] - 8s 205ms/step - loss: 0.0011 - val_loss: 0.0011\n",
            "Epoch 14/200\n",
            "38/38 [==============================] - 8s 204ms/step - loss: 0.0011 - val_loss: 0.0011\n",
            "Epoch 15/200\n",
            "38/38 [==============================] - 8s 205ms/step - loss: 0.0011 - val_loss: 0.0010\n",
            "Epoch 16/200\n",
            "38/38 [==============================] - 8s 206ms/step - loss: 0.0010 - val_loss: 0.0011\n",
            "Epoch 17/200\n",
            "38/38 [==============================] - 8s 207ms/step - loss: 9.7748e-04 - val_loss: 9.7081e-04\n",
            "Epoch 18/200\n",
            "38/38 [==============================] - 8s 207ms/step - loss: 9.3113e-04 - val_loss: 9.4482e-04\n",
            "Epoch 19/200\n",
            "38/38 [==============================] - 8s 210ms/step - loss: 8.9305e-04 - val_loss: 9.4096e-04\n",
            "Epoch 20/200\n",
            "38/38 [==============================] - 8s 208ms/step - loss: 8.6003e-04 - val_loss: 9.0609e-04\n",
            "Epoch 21/200\n",
            "38/38 [==============================] - 8s 207ms/step - loss: 8.3629e-04 - val_loss: 8.8294e-04\n",
            "Epoch 22/200\n",
            "38/38 [==============================] - 8s 206ms/step - loss: 7.9279e-04 - val_loss: 8.5626e-04\n",
            "Epoch 23/200\n",
            "38/38 [==============================] - 8s 206ms/step - loss: 7.5332e-04 - val_loss: 8.5399e-04\n",
            "Epoch 24/200\n",
            "38/38 [==============================] - 8s 208ms/step - loss: 8.4621e-04 - val_loss: 8.6931e-04\n",
            "Epoch 25/200\n",
            "38/38 [==============================] - 8s 211ms/step - loss: 7.3155e-04 - val_loss: 8.1215e-04\n",
            "Epoch 26/200\n",
            "38/38 [==============================] - 8s 212ms/step - loss: 6.8239e-04 - val_loss: 7.6749e-04\n",
            "Epoch 27/200\n",
            "38/38 [==============================] - 8s 212ms/step - loss: 6.3767e-04 - val_loss: 7.6876e-04\n",
            "Epoch 28/200\n",
            "38/38 [==============================] - 8s 210ms/step - loss: 6.8167e-04 - val_loss: 7.2538e-04\n",
            "Epoch 29/200\n",
            "38/38 [==============================] - 8s 208ms/step - loss: 6.3759e-04 - val_loss: 7.0543e-04\n",
            "Epoch 30/200\n",
            "38/38 [==============================] - 8s 213ms/step - loss: 5.8803e-04 - val_loss: 6.9421e-04\n",
            "Epoch 31/200\n",
            "38/38 [==============================] - 8s 209ms/step - loss: 6.0402e-04 - val_loss: 6.7819e-04\n",
            "Epoch 32/200\n",
            "38/38 [==============================] - 8s 206ms/step - loss: 5.4823e-04 - val_loss: 6.8509e-04\n",
            "Epoch 33/200\n",
            "38/38 [==============================] - 8s 212ms/step - loss: 5.6555e-04 - val_loss: 6.3581e-04\n",
            "Epoch 34/200\n",
            "38/38 [==============================] - 8s 215ms/step - loss: 5.2160e-04 - val_loss: 6.3128e-04\n",
            "Epoch 35/200\n",
            "38/38 [==============================] - 8s 213ms/step - loss: 4.9949e-04 - val_loss: 6.3485e-04\n",
            "Epoch 36/200\n",
            "38/38 [==============================] - 8s 214ms/step - loss: 5.2806e-04 - val_loss: 5.9846e-04\n",
            "Epoch 37/200\n",
            "38/38 [==============================] - 8s 208ms/step - loss: 5.0373e-04 - val_loss: 6.1279e-04\n",
            "Epoch 38/200\n",
            "38/38 [==============================] - 8s 216ms/step - loss: 4.8357e-04 - val_loss: 5.7742e-04\n",
            "Epoch 39/200\n",
            "38/38 [==============================] - 8s 214ms/step - loss: 4.9575e-04 - val_loss: 5.8885e-04\n",
            "Epoch 40/200\n",
            "38/38 [==============================] - 8s 214ms/step - loss: 4.5495e-04 - val_loss: 5.6428e-04\n",
            "Epoch 41/200\n",
            "38/38 [==============================] - 8s 215ms/step - loss: 4.2410e-04 - val_loss: 5.4452e-04\n",
            "Epoch 42/200\n",
            "38/38 [==============================] - 9s 229ms/step - loss: 4.2825e-04 - val_loss: 5.3539e-04\n",
            "Epoch 43/200\n",
            "38/38 [==============================] - 8s 219ms/step - loss: 4.0938e-04 - val_loss: 4.9251e-04\n",
            "Epoch 44/200\n",
            "38/38 [==============================] - 8s 209ms/step - loss: 3.8996e-04 - val_loss: 5.2126e-04\n",
            "Epoch 45/200\n",
            "38/38 [==============================] - 8s 212ms/step - loss: 4.0343e-04 - val_loss: 5.5468e-04\n",
            "Epoch 46/200\n",
            "38/38 [==============================] - 8s 212ms/step - loss: 4.5777e-04 - val_loss: 4.5931e-04\n",
            "Epoch 47/200\n",
            "38/38 [==============================] - 8s 210ms/step - loss: 3.6215e-04 - val_loss: 4.6380e-04\n",
            "Epoch 48/200\n",
            "38/38 [==============================] - 8s 220ms/step - loss: 3.5803e-04 - val_loss: 4.5666e-04\n",
            "Epoch 49/200\n",
            "38/38 [==============================] - 7s 191ms/step - loss: 3.4932e-04 - val_loss: 4.2621e-04\n",
            "Epoch 50/200\n",
            "38/38 [==============================] - 8s 200ms/step - loss: 3.5442e-04 - val_loss: 4.1914e-04\n",
            "Epoch 51/200\n",
            "38/38 [==============================] - 8s 210ms/step - loss: 3.6827e-04 - val_loss: 4.1958e-04\n",
            "Epoch 52/200\n",
            "38/38 [==============================] - 8s 212ms/step - loss: 3.3380e-04 - val_loss: 4.0155e-04\n",
            "Epoch 53/200\n",
            "38/38 [==============================] - 8s 213ms/step - loss: 3.1421e-04 - val_loss: 4.0804e-04\n",
            "Epoch 54/200\n",
            "38/38 [==============================] - 8s 212ms/step - loss: 3.5854e-04 - val_loss: 3.9730e-04\n",
            "Epoch 55/200\n",
            "38/38 [==============================] - 8s 212ms/step - loss: 3.4414e-04 - val_loss: 4.1298e-04\n",
            "Epoch 56/200\n",
            "38/38 [==============================] - 8s 215ms/step - loss: 3.2829e-04 - val_loss: 3.7179e-04\n",
            "Epoch 57/200\n",
            "38/38 [==============================] - 8s 213ms/step - loss: 3.7120e-04 - val_loss: 4.7567e-04\n",
            "Epoch 58/200\n",
            "38/38 [==============================] - 8s 216ms/step - loss: 3.4021e-04 - val_loss: 3.8779e-04\n",
            "Epoch 59/200\n",
            "38/38 [==============================] - 8s 210ms/step - loss: 3.5217e-04 - val_loss: 3.6258e-04\n",
            "Epoch 60/200\n",
            "38/38 [==============================] - 8s 214ms/step - loss: 3.1579e-04 - val_loss: 3.7084e-04\n",
            "Epoch 61/200\n",
            "38/38 [==============================] - 8s 216ms/step - loss: 2.8974e-04 - val_loss: 3.4665e-04\n",
            "Epoch 62/200\n",
            "38/38 [==============================] - 8s 212ms/step - loss: 2.9414e-04 - val_loss: 3.3735e-04\n",
            "Epoch 63/200\n",
            "38/38 [==============================] - 8s 215ms/step - loss: 2.6847e-04 - val_loss: 3.3125e-04\n",
            "Epoch 64/200\n",
            "38/38 [==============================] - 8s 217ms/step - loss: 2.9505e-04 - val_loss: 3.2345e-04\n",
            "Epoch 65/200\n",
            "38/38 [==============================] - 8s 215ms/step - loss: 2.5886e-04 - val_loss: 3.7677e-04\n",
            "Epoch 66/200\n",
            "38/38 [==============================] - 8s 213ms/step - loss: 2.7806e-04 - val_loss: 3.1056e-04\n",
            "Epoch 67/200\n",
            "38/38 [==============================] - 8s 216ms/step - loss: 2.6857e-04 - val_loss: 3.3340e-04\n",
            "Epoch 68/200\n",
            "38/38 [==============================] - 8s 213ms/step - loss: 3.1180e-04 - val_loss: 3.0087e-04\n",
            "Epoch 69/200\n",
            "38/38 [==============================] - 8s 207ms/step - loss: 2.5194e-04 - val_loss: 2.9826e-04\n",
            "Epoch 70/200\n",
            "38/38 [==============================] - 8s 209ms/step - loss: 2.6083e-04 - val_loss: 2.9406e-04\n",
            "Epoch 71/200\n",
            "38/38 [==============================] - 8s 212ms/step - loss: 2.4788e-04 - val_loss: 3.2797e-04\n",
            "Epoch 72/200\n",
            "38/38 [==============================] - 8s 207ms/step - loss: 2.4155e-04 - val_loss: 2.8524e-04\n",
            "Epoch 73/200\n",
            "38/38 [==============================] - 8s 212ms/step - loss: 2.7238e-04 - val_loss: 2.9459e-04\n",
            "Epoch 74/200\n",
            "38/38 [==============================] - 8s 208ms/step - loss: 3.1637e-04 - val_loss: 2.7830e-04\n",
            "Epoch 75/200\n",
            "38/38 [==============================] - 8s 210ms/step - loss: 2.3882e-04 - val_loss: 2.9636e-04\n",
            "Epoch 76/200\n",
            "38/38 [==============================] - 8s 206ms/step - loss: 2.4561e-04 - val_loss: 2.7952e-04\n",
            "Epoch 77/200\n",
            "38/38 [==============================] - 8s 211ms/step - loss: 3.3051e-04 - val_loss: 2.9216e-04\n",
            "Epoch 78/200\n",
            "38/38 [==============================] - 8s 209ms/step - loss: 3.3101e-04 - val_loss: 3.1310e-04\n",
            "Epoch 79/200\n",
            "38/38 [==============================] - 8s 208ms/step - loss: 3.5025e-04 - val_loss: 2.9873e-04\n",
            "Epoch 80/200\n",
            "38/38 [==============================] - 8s 204ms/step - loss: 2.5438e-04 - val_loss: 2.7252e-04\n",
            "Epoch 81/200\n",
            "38/38 [==============================] - 8s 208ms/step - loss: 2.3999e-04 - val_loss: 3.1114e-04\n",
            "Epoch 82/200\n",
            "38/38 [==============================] - 8s 207ms/step - loss: 2.5394e-04 - val_loss: 2.6848e-04\n",
            "Epoch 83/200\n",
            "38/38 [==============================] - 8s 215ms/step - loss: 2.6295e-04 - val_loss: 2.6533e-04\n",
            "Epoch 84/200\n",
            "38/38 [==============================] - 8s 212ms/step - loss: 2.4043e-04 - val_loss: 2.6517e-04\n",
            "Epoch 85/200\n",
            "38/38 [==============================] - 8s 211ms/step - loss: 3.2264e-04 - val_loss: 2.9610e-04\n",
            "Epoch 86/200\n",
            "38/38 [==============================] - 8s 211ms/step - loss: 2.4677e-04 - val_loss: 2.5815e-04\n",
            "Epoch 87/200\n",
            "38/38 [==============================] - 8s 210ms/step - loss: 2.2317e-04 - val_loss: 2.5267e-04\n",
            "Epoch 88/200\n",
            "38/38 [==============================] - 8s 210ms/step - loss: 2.1758e-04 - val_loss: 2.7369e-04\n",
            "Epoch 89/200\n",
            "38/38 [==============================] - 8s 209ms/step - loss: 2.3886e-04 - val_loss: 2.4436e-04\n",
            "Epoch 90/200\n",
            "38/38 [==============================] - 8s 207ms/step - loss: 2.3111e-04 - val_loss: 2.4282e-04\n",
            "Epoch 91/200\n",
            "38/38 [==============================] - 8s 208ms/step - loss: 2.2128e-04 - val_loss: 2.4148e-04\n",
            "Epoch 92/200\n",
            "38/38 [==============================] - 8s 205ms/step - loss: 2.2988e-04 - val_loss: 2.3936e-04\n",
            "Epoch 93/200\n",
            "38/38 [==============================] - 8s 210ms/step - loss: 2.1096e-04 - val_loss: 2.3846e-04\n",
            "Epoch 94/200\n",
            "38/38 [==============================] - 8s 210ms/step - loss: 2.2136e-04 - val_loss: 2.3725e-04\n",
            "Epoch 95/200\n",
            "38/38 [==============================] - 8s 207ms/step - loss: 2.1763e-04 - val_loss: 2.5497e-04\n",
            "Epoch 96/200\n",
            "38/38 [==============================] - 8s 202ms/step - loss: 2.4394e-04 - val_loss: 2.7758e-04\n",
            "Epoch 97/200\n",
            "38/38 [==============================] - 8s 211ms/step - loss: 2.2203e-04 - val_loss: 2.3741e-04\n",
            "Epoch 98/200\n",
            "38/38 [==============================] - 8s 213ms/step - loss: 2.1797e-04 - val_loss: 2.2994e-04\n",
            "Epoch 99/200\n",
            "38/38 [==============================] - 7s 195ms/step - loss: 2.3971e-04 - val_loss: 2.9492e-04\n",
            "Epoch 100/200\n",
            "38/38 [==============================] - 8s 204ms/step - loss: 2.6912e-04 - val_loss: 2.4557e-04\n",
            "Epoch 101/200\n",
            "38/38 [==============================] - 8s 208ms/step - loss: 2.1148e-04 - val_loss: 2.2714e-04\n",
            "Epoch 102/200\n",
            "38/38 [==============================] - 8s 210ms/step - loss: 2.3402e-04 - val_loss: 2.4320e-04\n",
            "Epoch 103/200\n",
            "38/38 [==============================] - 8s 208ms/step - loss: 2.2506e-04 - val_loss: 2.4515e-04\n",
            "Epoch 104/200\n",
            "38/38 [==============================] - 8s 199ms/step - loss: 2.1438e-04 - val_loss: 2.3279e-04\n",
            "Epoch 105/200\n",
            "38/38 [==============================] - 8s 208ms/step - loss: 2.1165e-04 - val_loss: 2.2232e-04\n",
            "Epoch 106/200\n",
            "38/38 [==============================] - 8s 214ms/step - loss: 2.2636e-04 - val_loss: 2.2323e-04\n",
            "Epoch 107/200\n",
            "38/38 [==============================] - 8s 212ms/step - loss: 2.1304e-04 - val_loss: 2.2311e-04\n",
            "Epoch 108/200\n",
            "38/38 [==============================] - 8s 210ms/step - loss: 2.1923e-04 - val_loss: 2.3632e-04\n",
            "Epoch 109/200\n",
            "38/38 [==============================] - 8s 216ms/step - loss: 2.6417e-04 - val_loss: 2.4771e-04\n",
            "Epoch 110/200\n",
            "38/38 [==============================] - 8s 208ms/step - loss: 2.4944e-04 - val_loss: 2.3415e-04\n",
            "Epoch 111/200\n",
            "38/38 [==============================] - 7s 196ms/step - loss: 2.3304e-04 - val_loss: 2.3444e-04\n",
            "Epoch 112/200\n",
            "38/38 [==============================] - 7s 196ms/step - loss: 2.1951e-04 - val_loss: 3.1614e-04\n",
            "Epoch 113/200\n",
            "38/38 [==============================] - 8s 204ms/step - loss: 2.1865e-04 - val_loss: 2.3047e-04\n",
            "Epoch 114/200\n",
            "38/38 [==============================] - 8s 207ms/step - loss: 2.3516e-04 - val_loss: 3.7696e-04\n",
            "Epoch 115/200\n",
            "38/38 [==============================] - 8s 202ms/step - loss: 2.9686e-04 - val_loss: 2.1933e-04\n",
            "Epoch 116/200\n",
            "38/38 [==============================] - 8s 211ms/step - loss: 2.1734e-04 - val_loss: 2.3440e-04\n",
            "Epoch 117/200\n",
            "38/38 [==============================] - 8s 211ms/step - loss: 2.6708e-04 - val_loss: 2.2194e-04\n",
            "Epoch 118/200\n",
            "38/38 [==============================] - 8s 210ms/step - loss: 2.4491e-04 - val_loss: 2.1958e-04\n",
            "Epoch 119/200\n",
            "38/38 [==============================] - 8s 199ms/step - loss: 2.1630e-04 - val_loss: 2.1836e-04\n",
            "Epoch 120/200\n",
            "38/38 [==============================] - 8s 210ms/step - loss: 2.2392e-04 - val_loss: 2.1887e-04\n",
            "Epoch 121/200\n",
            "38/38 [==============================] - 8s 204ms/step - loss: 2.1538e-04 - val_loss: 2.4496e-04\n",
            "Epoch 122/200\n",
            "38/38 [==============================] - 8s 207ms/step - loss: 2.6437e-04 - val_loss: 2.1531e-04\n",
            "Epoch 123/200\n",
            "38/38 [==============================] - 8s 210ms/step - loss: 2.3255e-04 - val_loss: 2.3553e-04\n",
            "Epoch 124/200\n",
            "38/38 [==============================] - 8s 212ms/step - loss: 2.2377e-04 - val_loss: 2.2552e-04\n",
            "Epoch 125/200\n",
            "38/38 [==============================] - 8s 206ms/step - loss: 2.1379e-04 - val_loss: 2.2218e-04\n",
            "Epoch 126/200\n",
            "38/38 [==============================] - 8s 217ms/step - loss: 2.0959e-04 - val_loss: 2.1331e-04\n",
            "Epoch 127/200\n",
            "38/38 [==============================] - 8s 211ms/step - loss: 2.1109e-04 - val_loss: 2.1489e-04\n",
            "Epoch 128/200\n",
            "38/38 [==============================] - 8s 219ms/step - loss: 2.2702e-04 - val_loss: 2.2121e-04\n",
            "Epoch 129/200\n",
            "38/38 [==============================] - 8s 219ms/step - loss: 2.2828e-04 - val_loss: 2.4758e-04\n",
            "Epoch 130/200\n",
            "38/38 [==============================] - 8s 211ms/step - loss: 2.8706e-04 - val_loss: 2.5747e-04\n",
            "Epoch 131/200\n",
            "38/38 [==============================] - 8s 210ms/step - loss: 2.8400e-04 - val_loss: 2.3166e-04\n",
            "Epoch 132/200\n",
            "38/38 [==============================] - 8s 216ms/step - loss: 2.2448e-04 - val_loss: 2.1172e-04\n",
            "Epoch 133/200\n",
            "38/38 [==============================] - 8s 212ms/step - loss: 2.1874e-04 - val_loss: 2.1647e-04\n",
            "Epoch 134/200\n",
            "38/38 [==============================] - 8s 208ms/step - loss: 2.0700e-04 - val_loss: 2.2733e-04\n",
            "Epoch 135/200\n",
            "38/38 [==============================] - 8s 204ms/step - loss: 2.2553e-04 - val_loss: 2.0960e-04\n",
            "Epoch 136/200\n",
            "38/38 [==============================] - 8s 209ms/step - loss: 2.2674e-04 - val_loss: 2.4741e-04\n",
            "Epoch 137/200\n",
            "38/38 [==============================] - 8s 207ms/step - loss: 2.5044e-04 - val_loss: 2.2570e-04\n",
            "Epoch 138/200\n",
            "38/38 [==============================] - 8s 218ms/step - loss: 2.3747e-04 - val_loss: 2.1368e-04\n",
            "Epoch 139/200\n",
            "38/38 [==============================] - 8s 213ms/step - loss: 2.2436e-04 - val_loss: 2.1341e-04\n",
            "Epoch 140/200\n",
            "38/38 [==============================] - 8s 214ms/step - loss: 2.1357e-04 - val_loss: 2.1584e-04\n",
            "Epoch 141/200\n",
            "38/38 [==============================] - 8s 214ms/step - loss: 2.3174e-04 - val_loss: 2.8523e-04\n",
            "Epoch 142/200\n",
            "38/38 [==============================] - 8s 212ms/step - loss: 2.2584e-04 - val_loss: 2.1796e-04\n",
            "Epoch 143/200\n",
            "38/38 [==============================] - 8s 211ms/step - loss: 2.5651e-04 - val_loss: 3.0525e-04\n",
            "Epoch 144/200\n",
            "38/38 [==============================] - 8s 211ms/step - loss: 2.4183e-04 - val_loss: 2.2752e-04\n",
            "Epoch 145/200\n",
            "38/38 [==============================] - 8s 215ms/step - loss: 2.2219e-04 - val_loss: 2.0809e-04\n",
            "Epoch 146/200\n",
            "38/38 [==============================] - 8s 212ms/step - loss: 2.0537e-04 - val_loss: 2.1082e-04\n",
            "Epoch 147/200\n",
            "38/38 [==============================] - 8s 217ms/step - loss: 2.2195e-04 - val_loss: 2.0470e-04\n",
            "Epoch 148/200\n",
            "38/38 [==============================] - 8s 211ms/step - loss: 2.1621e-04 - val_loss: 2.3328e-04\n",
            "Epoch 149/200\n",
            "38/38 [==============================] - 8s 207ms/step - loss: 2.3049e-04 - val_loss: 2.0392e-04\n",
            "Epoch 150/200\n",
            "38/38 [==============================] - 8s 208ms/step - loss: 2.1994e-04 - val_loss: 2.0355e-04\n",
            "Epoch 151/200\n",
            "38/38 [==============================] - 8s 211ms/step - loss: 2.2269e-04 - val_loss: 2.0236e-04\n",
            "Epoch 152/200\n",
            "38/38 [==============================] - 8s 206ms/step - loss: 2.0893e-04 - val_loss: 2.0330e-04\n",
            "Epoch 153/200\n",
            "38/38 [==============================] - 8s 212ms/step - loss: 2.2786e-04 - val_loss: 2.1136e-04\n",
            "Epoch 154/200\n",
            "38/38 [==============================] - 8s 216ms/step - loss: 2.4188e-04 - val_loss: 2.1891e-04\n",
            "Epoch 155/200\n",
            "38/38 [==============================] - 8s 209ms/step - loss: 2.2697e-04 - val_loss: 2.0216e-04\n",
            "Epoch 156/200\n",
            "38/38 [==============================] - 8s 206ms/step - loss: 2.2776e-04 - val_loss: 2.2234e-04\n",
            "Epoch 157/200\n",
            "38/38 [==============================] - 8s 214ms/step - loss: 2.2598e-04 - val_loss: 2.0817e-04\n",
            "Epoch 158/200\n",
            "38/38 [==============================] - 8s 213ms/step - loss: 2.0798e-04 - val_loss: 2.1021e-04\n",
            "Epoch 159/200\n",
            "38/38 [==============================] - 8s 219ms/step - loss: 2.2991e-04 - val_loss: 2.0780e-04\n",
            "Epoch 160/200\n",
            "38/38 [==============================] - 8s 216ms/step - loss: 2.3123e-04 - val_loss: 2.3644e-04\n",
            "Epoch 161/200\n",
            "38/38 [==============================] - 8s 213ms/step - loss: 2.1887e-04 - val_loss: 2.1192e-04\n",
            "Epoch 162/200\n",
            "38/38 [==============================] - 8s 214ms/step - loss: 2.4700e-04 - val_loss: 2.4193e-04\n",
            "Epoch 163/200\n",
            "38/38 [==============================] - 8s 211ms/step - loss: 2.2668e-04 - val_loss: 2.2107e-04\n",
            "Epoch 164/200\n",
            "38/38 [==============================] - 8s 205ms/step - loss: 2.2218e-04 - val_loss: 2.6496e-04\n",
            "Epoch 165/200\n",
            "38/38 [==============================] - 8s 216ms/step - loss: 2.3211e-04 - val_loss: 2.3603e-04\n",
            "Epoch 166/200\n",
            "38/38 [==============================] - 8s 207ms/step - loss: 2.1360e-04 - val_loss: 2.3401e-04\n",
            "Epoch 167/200\n",
            "38/38 [==============================] - 8s 211ms/step - loss: 2.1724e-04 - val_loss: 1.9953e-04\n",
            "Epoch 168/200\n",
            "38/38 [==============================] - 8s 208ms/step - loss: 2.1144e-04 - val_loss: 2.0224e-04\n",
            "Epoch 169/200\n",
            "38/38 [==============================] - 8s 209ms/step - loss: 2.3061e-04 - val_loss: 2.3475e-04\n",
            "Epoch 170/200\n",
            "38/38 [==============================] - 8s 216ms/step - loss: 2.2400e-04 - val_loss: 2.0409e-04\n",
            "Epoch 171/200\n",
            "38/38 [==============================] - 8s 210ms/step - loss: 2.0323e-04 - val_loss: 2.3891e-04\n",
            "Epoch 172/200\n",
            "38/38 [==============================] - 8s 214ms/step - loss: 2.1675e-04 - val_loss: 2.4040e-04\n",
            "Epoch 173/200\n",
            "38/38 [==============================] - 8s 215ms/step - loss: 2.1215e-04 - val_loss: 2.0464e-04\n",
            "Epoch 174/200\n",
            "38/38 [==============================] - 8s 219ms/step - loss: 2.0402e-04 - val_loss: 1.9625e-04\n",
            "Epoch 175/200\n",
            "38/38 [==============================] - 8s 214ms/step - loss: 2.0655e-04 - val_loss: 1.9633e-04\n",
            "Epoch 176/200\n",
            "38/38 [==============================] - 8s 216ms/step - loss: 2.0259e-04 - val_loss: 2.2386e-04\n",
            "Epoch 177/200\n",
            "38/38 [==============================] - 8s 218ms/step - loss: 2.1275e-04 - val_loss: 2.0640e-04\n",
            "Epoch 178/200\n",
            "38/38 [==============================] - 8s 205ms/step - loss: 2.4647e-04 - val_loss: 1.9759e-04\n",
            "Epoch 179/200\n",
            "38/38 [==============================] - 8s 215ms/step - loss: 2.3120e-04 - val_loss: 2.0179e-04\n",
            "Epoch 180/200\n",
            "38/38 [==============================] - 8s 221ms/step - loss: 2.0644e-04 - val_loss: 1.9421e-04\n",
            "Epoch 181/200\n",
            "38/38 [==============================] - 8s 213ms/step - loss: 2.4350e-04 - val_loss: 2.1386e-04\n",
            "Epoch 182/200\n",
            "38/38 [==============================] - 8s 211ms/step - loss: 2.2132e-04 - val_loss: 1.9592e-04\n",
            "Epoch 183/200\n",
            "38/38 [==============================] - 8s 206ms/step - loss: 2.3869e-04 - val_loss: 2.1768e-04\n",
            "Epoch 184/200\n",
            "38/38 [==============================] - 8s 214ms/step - loss: 2.1795e-04 - val_loss: 2.0993e-04\n",
            "Epoch 185/200\n",
            "38/38 [==============================] - 8s 207ms/step - loss: 2.1885e-04 - val_loss: 2.0177e-04\n",
            "Epoch 186/200\n",
            "38/38 [==============================] - 8s 205ms/step - loss: 2.0642e-04 - val_loss: 1.9730e-04\n",
            "Epoch 187/200\n",
            "38/38 [==============================] - 8s 208ms/step - loss: 2.0124e-04 - val_loss: 1.9444e-04\n",
            "Epoch 188/200\n",
            "38/38 [==============================] - 8s 217ms/step - loss: 2.1430e-04 - val_loss: 1.9553e-04\n",
            "Epoch 189/200\n",
            "38/38 [==============================] - 8s 213ms/step - loss: 2.0305e-04 - val_loss: 2.0267e-04\n",
            "Epoch 190/200\n",
            "38/38 [==============================] - 8s 214ms/step - loss: 2.2267e-04 - val_loss: 1.9260e-04\n",
            "Epoch 191/200\n",
            "38/38 [==============================] - 8s 201ms/step - loss: 2.0093e-04 - val_loss: 2.1224e-04\n",
            "Epoch 192/200\n",
            "38/38 [==============================] - 8s 203ms/step - loss: 2.3980e-04 - val_loss: 2.1030e-04\n",
            "Epoch 193/200\n",
            "38/38 [==============================] - 8s 206ms/step - loss: 2.0841e-04 - val_loss: 2.0685e-04\n",
            "Epoch 194/200\n",
            "38/38 [==============================] - 8s 215ms/step - loss: 2.0703e-04 - val_loss: 2.2749e-04\n",
            "Epoch 195/200\n",
            "38/38 [==============================] - 8s 200ms/step - loss: 2.2209e-04 - val_loss: 1.9123e-04\n",
            "Epoch 196/200\n",
            "38/38 [==============================] - 8s 213ms/step - loss: 2.2160e-04 - val_loss: 2.6659e-04\n",
            "Epoch 197/200\n",
            "38/38 [==============================] - 8s 208ms/step - loss: 2.0673e-04 - val_loss: 1.9403e-04\n",
            "Epoch 198/200\n",
            "38/38 [==============================] - 8s 212ms/step - loss: 2.0463e-04 - val_loss: 1.9083e-04\n",
            "Epoch 199/200\n",
            "38/38 [==============================] - 8s 212ms/step - loss: 2.3198e-04 - val_loss: 1.8981e-04\n",
            "Epoch 200/200\n",
            "38/38 [==============================] - 8s 211ms/step - loss: 2.0437e-04 - val_loss: 2.1791e-04\n"
          ]
        },
        {
          "output_type": "execute_result",
          "data": {
            "text/plain": [
              "<keras.callbacks.History at 0x7f49172ef050>"
            ]
          },
          "metadata": {},
          "execution_count": 16
        }
      ]
    },
    {
      "cell_type": "code",
      "source": [
        "model.summary()"
      ],
      "metadata": {
        "id": "8hhcWrg1O53O",
        "colab": {
          "base_uri": "https://localhost:8080/"
        },
        "outputId": "066780de-ab82-42e2-af8b-9c191bfa5604"
      },
      "execution_count": 17,
      "outputs": [
        {
          "output_type": "stream",
          "name": "stdout",
          "text": [
            "Model: \"sequential\"\n",
            "_________________________________________________________________\n",
            " Layer (type)                Output Shape              Param #   \n",
            "=================================================================\n",
            " lstm (LSTM)                 (None, 100, 50)           10400     \n",
            "                                                                 \n",
            " lstm_1 (LSTM)               (None, 100, 50)           20200     \n",
            "                                                                 \n",
            " lstm_2 (LSTM)               (None, 50)                20200     \n",
            "                                                                 \n",
            " dense (Dense)               (None, 1)                 51        \n",
            "                                                                 \n",
            "=================================================================\n",
            "Total params: 50,851\n",
            "Trainable params: 50,851\n",
            "Non-trainable params: 0\n",
            "_________________________________________________________________\n"
          ]
        }
      ]
    },
    {
      "cell_type": "code",
      "source": [
        "tf.keras.utils.plot_model(model, to_file=\"my_model.png\", show_shapes=True)\n"
      ],
      "metadata": {
        "colab": {
          "base_uri": "https://localhost:8080/",
          "height": 533
        },
        "id": "8LraeVZxPulZ",
        "outputId": "2772b92e-9b4a-4530-bad4-30d4867de308"
      },
      "execution_count": 18,
      "outputs": [
        {
          "output_type": "execute_result",
          "data": {
            "text/plain": [
              "<IPython.core.display.Image object>"
            ],
            "image/png": "[encoded data removed]"
          },
          "metadata": {},
          "execution_count": 18
        }
      ]
    },
    {
      "cell_type": "code",
      "source": [
        ""
      ],
      "metadata": {
        "id": "0oTpq4gFQUWL"
      },
      "execution_count": null,
      "outputs": []
    },
    {
      "cell_type": "code",
      "source": [
        "#DO THE PREDICTION AND CHECK PERFORMANCE METRICS\n",
        "train_predict=model.predict(x_train)\n",
        "test_predict=model.predict(x_test)"
      ],
      "metadata": {
        "id": "hwnV4iSVLDGY"
      },
      "execution_count": 19,
      "outputs": []
    },
    {
      "cell_type": "code",
      "source": [
        "train_predict=scaler.inverse_transform(train_predict)\n",
        "test_predict=scaler.inverse_transform(test_predict)"
      ],
      "metadata": {
        "id": "4hQCFU3GMPJ7"
      },
      "execution_count": 20,
      "outputs": []
    },
    {
      "cell_type": "code",
      "source": [
        "#calculate the RMSE performance metrics\n",
        "import math \n",
        "from sklearn.metrics import mean_squared_error\n",
        "math.sqrt(mean_squared_error(y_train,train_predict))"
      ],
      "metadata": {
        "colab": {
          "base_uri": "https://localhost:8080/"
        },
        "id": "GkDMTJ6PMo3x",
        "outputId": "5d322fe0-e3cc-4e02-b432-c261d1909cd3"
      },
      "execution_count": 21,
      "outputs": [
        {
          "output_type": "execute_result",
          "data": {
            "text/plain": [
              "0.9004130561413825"
            ]
          },
          "metadata": {},
          "execution_count": 21
        }
      ]
    },
    {
      "cell_type": "code",
      "source": [
        "math.sqrt(mean_squared_error(y_test,test_predict))"
      ],
      "metadata": {
        "colab": {
          "base_uri": "https://localhost:8080/"
        },
        "id": "5txg8W1mNA1x",
        "outputId": "e116eceb-32e9-437c-98a7-5deb0ae848e4"
      },
      "execution_count": 22,
      "outputs": [
        {
          "output_type": "execute_result",
          "data": {
            "text/plain": [
              "1.009030692707491"
            ]
          },
          "metadata": {},
          "execution_count": 22
        }
      ]
    },
    {
      "cell_type": "code",
      "source": [
        "look_back=100\n",
        "trainPredictplot = np.empty_like(df_close)\n",
        "trainPredictplot[:, :]=np.nan\n",
        "trainPredictplot[look_back:len(train_predict)+look_back,  :]=train_predict\n",
        "testPredictionplot= np.empty_like(df_close)\n",
        "testPredictionplot[:, :]= np.nan\n",
        "testPredictionplot[len(train_predict)+(look_back*2)+1:len(df_close)-1, :]=test_predict\n",
        "plt.figure(figsize=(18,7))\n",
        "plt.plot(scaler.inverse_transform(df_close))\n",
        "plt.plot(trainPredictplot)\n",
        "plt.plot(testPredictionplot)\n",
        "plt.show()"
      ],
      "metadata": {
        "colab": {
          "base_uri": "https://localhost:8080/",
          "height": 428
        },
        "id": "eYHxX-qTNjaY",
        "outputId": "8ce68c49-f309-44ec-cc78-712d04650c9d"
      },
      "execution_count": 23,
      "outputs": [
        {
          "output_type": "display_data",
          "data": {
            "text/plain": [
              "<Figure size 1296x504 with 1 Axes>"
            ],
            "image/png": "[encoded data removed]"
          },
          "metadata": {
            "needs_background": "light"
          }
        }
      ]
    },
    {
      "cell_type": "code",
      "source": [
        "len(test_data)"
      ],
      "metadata": {
        "colab": {
          "base_uri": "https://localhost:8080/"
        },
        "id": "E9ArZxisQbWq",
        "outputId": "d9eebf18-26d2-45db-bb2c-cc529543ec41"
      },
      "execution_count": 24,
      "outputs": [
        {
          "output_type": "execute_result",
          "data": {
            "text/plain": [
              "626"
            ]
          },
          "metadata": {},
          "execution_count": 24
        }
      ]
    },
    {
      "cell_type": "code",
      "source": [
        "x_input=test_data[526:].reshape(1,-1)"
      ],
      "metadata": {
        "id": "m8tpzZwyUOX3"
      },
      "execution_count": 25,
      "outputs": []
    },
    {
      "cell_type": "code",
      "source": [
        "x_input.shape"
      ],
      "metadata": {
        "colab": {
          "base_uri": "https://localhost:8080/"
        },
        "id": "tAGuUcyfVBY2",
        "outputId": "7b79ed24-829a-4d7a-8037-61029487ed45"
      },
      "execution_count": 26,
      "outputs": [
        {
          "output_type": "execute_result",
          "data": {
            "text/plain": [
              "(1, 100)"
            ]
          },
          "metadata": {},
          "execution_count": 26
        }
      ]
    },
    {
      "cell_type": "code",
      "source": [
        "temp_input=list(x_input)\n",
        "temp_input=temp_input[0].tolist()"
      ],
      "metadata": {
        "id": "sbWRrlTbPGGY"
      },
      "execution_count": 27,
      "outputs": []
    },
    {
      "cell_type": "code",
      "source": [
        "temp_input #previous 100 days test data to feed the model"
      ],
      "metadata": {
        "colab": {
          "base_uri": "https://localhost:8080/"
        },
        "id": "ztvA5F87VXFV",
        "outputId": "a91c1740-8400-43e9-8069-ad4aded74c80"
      },
      "execution_count": 28,
      "outputs": [
        {
          "output_type": "execute_result",
          "data": {
            "text/plain": [
              "[0.389657295024338,\n",
              " 0.40035380856470004,\n",
              " 0.39990592032932915,\n",
              " 0.39866007996772,\n",
              " 0.40187902683921317,\n",
              " 0.4133798037538461,\n",
              " 0.41733948076941685,\n",
              " 0.4138529369813466,\n",
              " 0.403319043265288,\n",
              " 0.4011763745582648,\n",
              " 0.41388680734578775,\n",
              " 0.41408960878256407,\n",
              " 0.41361647555506353,\n",
              " 0.4086924398401317,\n",
              " 0.41551048108960753,\n",
              " 0.40635559506864327,\n",
              " 0.3944713046485706,\n",
              " 0.38265328233283924,\n",
              " 0.3817309986203612,\n",
              " 0.3746091759655892,\n",
              " 0.3932077927924702,\n",
              " 0.38377373923353675,\n",
              " 0.3895247588156563,\n",
              " 0.3613965782096167,\n",
              " 0.34095718070659853,\n",
              " 0.34861672169373703,\n",
              " 0.3664563057572465,\n",
              " 0.37290892574564216,\n",
              " 0.37647583275865903,\n",
              " 0.3701997173402378,\n",
              " 0.3751656176671183,\n",
              " 0.3745111412461517,\n",
              " 0.36993885242156255,\n",
              " 0.3678544575713727,\n",
              " 0.38380676809824,\n",
              " 0.38374092074376787,\n",
              " 0.40010640764182703,\n",
              " 0.395669600275002,\n",
              " 0.40568365752811975,\n",
              " 0.41094282051357567,\n",
              " 0.40533127951297354,\n",
              " 0.40030689495432537,\n",
              " 0.40060794148547396,\n",
              " 0.4009087776416882,\n",
              " 0.3950370028472143,\n",
              " 0.4070107026144134,\n",
              " 0.3862822499515084,\n",
              " 0.38136915373316604,\n",
              " 0.3746584037002423,\n",
              " 0.38833277443725756,\n",
              " 0.3554595871854733,\n",
              " 0.3524011563889391,\n",
              " 0.3653255404847626,\n",
              " 0.36453032323267154,\n",
              " 0.3385416557096388,\n",
              " 0.33037889787937846,\n",
              " 0.33930384409702663,\n",
              " 0.33777988807211967,\n",
              " 0.3406388834308278,\n",
              " 0.3524653207439359,\n",
              " 0.353879461053078,\n",
              " 0.3423894132601002,\n",
              " 0.33587788829006815,\n",
              " 0.33205116823304826,\n",
              " 0.3240583933497958,\n",
              " 0.32114554200787726,\n",
              " 0.32587876765729407,\n",
              " 0.32130185058414806,\n",
              " 0.3179276470110559,\n",
              " 0.3151170378872634,\n",
              " 0.31864544628728186,\n",
              " 0.3075847737354467,\n",
              " 0.31235670837279583,\n",
              " 0.3091320813780736,\n",
              " 0.3027705537362797,\n",
              " 0.30523677909243396,\n",
              " 0.3110841503945161,\n",
              " 0.30338674191918313,\n",
              " 0.30638248098526155,\n",
              " 0.3121391806906102,\n",
              " 0.3228359046059066,\n",
              " 0.30619398504402495,\n",
              " 0.30276445286318143,\n",
              " 0.3132884589573228,\n",
              " 0.32782768104972027,\n",
              " 0.3374628530459556,\n",
              " 0.33705346342358267,\n",
              " 0.34382353918801156,\n",
              " 0.3421666262045542,\n",
              " 0.35372841185016757,\n",
              " 0.3536543598732531,\n",
              " 0.3578740603077617,\n",
              " 0.3509884887043384,\n",
              " 0.35948868792940125,\n",
              " 0.3637616132223167,\n",
              " 0.3598764089335291,\n",
              " 0.370232115080138,\n",
              " 0.36811490174017925,\n",
              " 0.3774595459519863,\n",
              " 0.3910001182307128]"
            ]
          },
          "metadata": {},
          "execution_count": 28
        }
      ]
    },
    {
      "cell_type": "code",
      "source": [
        "#demonstrate prediction for the next 30 days\n",
        "lst_output=[]\n",
        "n_steps=100\n",
        "i=0\n",
        "while(i<30):\n",
        "  if (len(temp_input)>100):\n",
        "      x_input=np.array(temp_input[1:]) #SHIFT TO WRITE\n",
        "      print(\"{}day input{}\".format(i,x_input))\n",
        "      x_input=x_input.reshape(1,-1)\n",
        "      x_input=x_input.reshape((1,n_steps,1))\n",
        "      yhat=model.predict(x_input,verbose=0)\n",
        "      print('{}day output {}'.format(i,yhat))\n",
        "      temp_input.extend(yhat[0].tolist())\n",
        "      temp_input=temp_input[1:]\n",
        "      lst_output.extend(yhat.tolist())\n",
        "      i=i+1\n",
        "  else:                                             #FIRST ELSE RUN AFTER PREDICTION AND OUR DATAS BE MORE THAN 100 WE PASS TO IF\n",
        "    x_input=x_input.reshape((1,n_steps,1))#FIRST OF ALL RESHAPE THE DATA #avalin ghadam reshape\n",
        "    yhat=model.predict(x_input,verbose=0) #YHAT==PREDICTION            #pass the data to the model\n",
        "    print(yhat[0])\n",
        "    temp_input.extend(yhat[0].tolist())# ADD YHAT TO THE PREVIOUS DATAS #ezafe kardan prediction be gheimate ghabli \n",
        "    print(len(temp_input))\n",
        "    lst_output.extend(yhat.tolist())\n",
        "    i=i+1\n",
        "print(lst_output)"
      ],
      "metadata": {
        "colab": {
          "base_uri": "https://localhost:8080/"
        },
        "id": "U84rMMSsVbl2",
        "outputId": "f774cb9b-ddf1-42da-c232-1354522da610"
      },
      "execution_count": 29,
      "outputs": [
        {
          "output_type": "stream",
          "name": "stdout",
          "text": [
            "[0.38428968]\n",
            "101\n",
            "1day input[0.40035381 0.39990592 0.39866008 0.40187903 0.4133798  0.41733948\n",
            " 0.41385294 0.40331904 0.40117637 0.41388681 0.41408961 0.41361648\n",
            " 0.40869244 0.41551048 0.4063556  0.3944713  0.38265328 0.381731\n",
            " 0.37460918 0.39320779 0.38377374 0.38952476 0.36139658 0.34095718\n",
            " 0.34861672 0.36645631 0.37290893 0.37647583 0.37019972 0.37516562\n",
            " 0.37451114 0.36993885 0.36785446 0.38380677 0.38374092 0.40010641\n",
            " 0.3956696  0.40568366 0.41094282 0.40533128 0.40030689 0.40060794\n",
            " 0.40090878 0.395037   0.4070107  0.38628225 0.38136915 0.3746584\n",
            " 0.38833277 0.35545959 0.35240116 0.36532554 0.36453032 0.33854166\n",
            " 0.3303789  0.33930384 0.33777989 0.34063888 0.35246532 0.35387946\n",
            " 0.34238941 0.33587789 0.33205117 0.32405839 0.32114554 0.32587877\n",
            " 0.32130185 0.31792765 0.31511704 0.31864545 0.30758477 0.31235671\n",
            " 0.30913208 0.30277055 0.30523678 0.31108415 0.30338674 0.30638248\n",
            " 0.31213918 0.3228359  0.30619399 0.30276445 0.31328846 0.32782768\n",
            " 0.33746285 0.33705346 0.34382354 0.34216663 0.35372841 0.35365436\n",
            " 0.35787406 0.35098849 0.35948869 0.36376161 0.35987641 0.37023212\n",
            " 0.3681149  0.37745955 0.39100012 0.38428968]\n",
            "1day output [[0.37916258]]\n",
            "2day input[0.39990592 0.39866008 0.40187903 0.4133798  0.41733948 0.41385294\n",
            " 0.40331904 0.40117637 0.41388681 0.41408961 0.41361648 0.40869244\n",
            " 0.41551048 0.4063556  0.3944713  0.38265328 0.381731   0.37460918\n",
            " 0.39320779 0.38377374 0.38952476 0.36139658 0.34095718 0.34861672\n",
            " 0.36645631 0.37290893 0.37647583 0.37019972 0.37516562 0.37451114\n",
            " 0.36993885 0.36785446 0.38380677 0.38374092 0.40010641 0.3956696\n",
            " 0.40568366 0.41094282 0.40533128 0.40030689 0.40060794 0.40090878\n",
            " 0.395037   0.4070107  0.38628225 0.38136915 0.3746584  0.38833277\n",
            " 0.35545959 0.35240116 0.36532554 0.36453032 0.33854166 0.3303789\n",
            " 0.33930384 0.33777989 0.34063888 0.35246532 0.35387946 0.34238941\n",
            " 0.33587789 0.33205117 0.32405839 0.32114554 0.32587877 0.32130185\n",
            " 0.31792765 0.31511704 0.31864545 0.30758477 0.31235671 0.30913208\n",
            " 0.30277055 0.30523678 0.31108415 0.30338674 0.30638248 0.31213918\n",
            " 0.3228359  0.30619399 0.30276445 0.31328846 0.32782768 0.33746285\n",
            " 0.33705346 0.34382354 0.34216663 0.35372841 0.35365436 0.35787406\n",
            " 0.35098849 0.35948869 0.36376161 0.35987641 0.37023212 0.3681149\n",
            " 0.37745955 0.39100012 0.38428968 0.37916258]\n",
            "2day output [[0.37270012]]\n",
            "3day input[0.39866008 0.40187903 0.4133798  0.41733948 0.41385294 0.40331904\n",
            " 0.40117637 0.41388681 0.41408961 0.41361648 0.40869244 0.41551048\n",
            " 0.4063556  0.3944713  0.38265328 0.381731   0.37460918 0.39320779\n",
            " 0.38377374 0.38952476 0.36139658 0.34095718 0.34861672 0.36645631\n",
            " 0.37290893 0.37647583 0.37019972 0.37516562 0.37451114 0.36993885\n",
            " 0.36785446 0.38380677 0.38374092 0.40010641 0.3956696  0.40568366\n",
            " 0.41094282 0.40533128 0.40030689 0.40060794 0.40090878 0.395037\n",
            " 0.4070107  0.38628225 0.38136915 0.3746584  0.38833277 0.35545959\n",
            " 0.35240116 0.36532554 0.36453032 0.33854166 0.3303789  0.33930384\n",
            " 0.33777989 0.34063888 0.35246532 0.35387946 0.34238941 0.33587789\n",
            " 0.33205117 0.32405839 0.32114554 0.32587877 0.32130185 0.31792765\n",
            " 0.31511704 0.31864545 0.30758477 0.31235671 0.30913208 0.30277055\n",
            " 0.30523678 0.31108415 0.30338674 0.30638248 0.31213918 0.3228359\n",
            " 0.30619399 0.30276445 0.31328846 0.32782768 0.33746285 0.33705346\n",
            " 0.34382354 0.34216663 0.35372841 0.35365436 0.35787406 0.35098849\n",
            " 0.35948869 0.36376161 0.35987641 0.37023212 0.3681149  0.37745955\n",
            " 0.39100012 0.38428968 0.37916258 0.37270012]\n",
            "3day output [[0.36622676]]\n",
            "4day input[0.40187903 0.4133798  0.41733948 0.41385294 0.40331904 0.40117637\n",
            " 0.41388681 0.41408961 0.41361648 0.40869244 0.41551048 0.4063556\n",
            " 0.3944713  0.38265328 0.381731   0.37460918 0.39320779 0.38377374\n",
            " 0.38952476 0.36139658 0.34095718 0.34861672 0.36645631 0.37290893\n",
            " 0.37647583 0.37019972 0.37516562 0.37451114 0.36993885 0.36785446\n",
            " 0.38380677 0.38374092 0.40010641 0.3956696  0.40568366 0.41094282\n",
            " 0.40533128 0.40030689 0.40060794 0.40090878 0.395037   0.4070107\n",
            " 0.38628225 0.38136915 0.3746584  0.38833277 0.35545959 0.35240116\n",
            " 0.36532554 0.36453032 0.33854166 0.3303789  0.33930384 0.33777989\n",
            " 0.34063888 0.35246532 0.35387946 0.34238941 0.33587789 0.33205117\n",
            " 0.32405839 0.32114554 0.32587877 0.32130185 0.31792765 0.31511704\n",
            " 0.31864545 0.30758477 0.31235671 0.30913208 0.30277055 0.30523678\n",
            " 0.31108415 0.30338674 0.30638248 0.31213918 0.3228359  0.30619399\n",
            " 0.30276445 0.31328846 0.32782768 0.33746285 0.33705346 0.34382354\n",
            " 0.34216663 0.35372841 0.35365436 0.35787406 0.35098849 0.35948869\n",
            " 0.36376161 0.35987641 0.37023212 0.3681149  0.37745955 0.39100012\n",
            " 0.38428968 0.37916258 0.37270012 0.36622676]\n",
            "4day output [[0.3600578]]\n",
            "5day input[0.4133798  0.41733948 0.41385294 0.40331904 0.40117637 0.41388681\n",
            " 0.41408961 0.41361648 0.40869244 0.41551048 0.4063556  0.3944713\n",
            " 0.38265328 0.381731   0.37460918 0.39320779 0.38377374 0.38952476\n",
            " 0.36139658 0.34095718 0.34861672 0.36645631 0.37290893 0.37647583\n",
            " 0.37019972 0.37516562 0.37451114 0.36993885 0.36785446 0.38380677\n",
            " 0.38374092 0.40010641 0.3956696  0.40568366 0.41094282 0.40533128\n",
            " 0.40030689 0.40060794 0.40090878 0.395037   0.4070107  0.38628225\n",
            " 0.38136915 0.3746584  0.38833277 0.35545959 0.35240116 0.36532554\n",
            " 0.36453032 0.33854166 0.3303789  0.33930384 0.33777989 0.34063888\n",
            " 0.35246532 0.35387946 0.34238941 0.33587789 0.33205117 0.32405839\n",
            " 0.32114554 0.32587877 0.32130185 0.31792765 0.31511704 0.31864545\n",
            " 0.30758477 0.31235671 0.30913208 0.30277055 0.30523678 0.31108415\n",
            " 0.30338674 0.30638248 0.31213918 0.3228359  0.30619399 0.30276445\n",
            " 0.31328846 0.32782768 0.33746285 0.33705346 0.34382354 0.34216663\n",
            " 0.35372841 0.35365436 0.35787406 0.35098849 0.35948869 0.36376161\n",
            " 0.35987641 0.37023212 0.3681149  0.37745955 0.39100012 0.38428968\n",
            " 0.37916258 0.37270012 0.36622676 0.3600578 ]\n",
            "5day output [[0.35410973]]\n",
            "6day input[0.41733948 0.41385294 0.40331904 0.40117637 0.41388681 0.41408961\n",
            " 0.41361648 0.40869244 0.41551048 0.4063556  0.3944713  0.38265328\n",
            " 0.381731   0.37460918 0.39320779 0.38377374 0.38952476 0.36139658\n",
            " 0.34095718 0.34861672 0.36645631 0.37290893 0.37647583 0.37019972\n",
            " 0.37516562 0.37451114 0.36993885 0.36785446 0.38380677 0.38374092\n",
            " 0.40010641 0.3956696  0.40568366 0.41094282 0.40533128 0.40030689\n",
            " 0.40060794 0.40090878 0.395037   0.4070107  0.38628225 0.38136915\n",
            " 0.3746584  0.38833277 0.35545959 0.35240116 0.36532554 0.36453032\n",
            " 0.33854166 0.3303789  0.33930384 0.33777989 0.34063888 0.35246532\n",
            " 0.35387946 0.34238941 0.33587789 0.33205117 0.32405839 0.32114554\n",
            " 0.32587877 0.32130185 0.31792765 0.31511704 0.31864545 0.30758477\n",
            " 0.31235671 0.30913208 0.30277055 0.30523678 0.31108415 0.30338674\n",
            " 0.30638248 0.31213918 0.3228359  0.30619399 0.30276445 0.31328846\n",
            " 0.32782768 0.33746285 0.33705346 0.34382354 0.34216663 0.35372841\n",
            " 0.35365436 0.35787406 0.35098849 0.35948869 0.36376161 0.35987641\n",
            " 0.37023212 0.3681149  0.37745955 0.39100012 0.38428968 0.37916258\n",
            " 0.37270012 0.36622676 0.3600578  0.35410973]\n",
            "6day output [[0.34819892]]\n",
            "7day input[0.41385294 0.40331904 0.40117637 0.41388681 0.41408961 0.41361648\n",
            " 0.40869244 0.41551048 0.4063556  0.3944713  0.38265328 0.381731\n",
            " 0.37460918 0.39320779 0.38377374 0.38952476 0.36139658 0.34095718\n",
            " 0.34861672 0.36645631 0.37290893 0.37647583 0.37019972 0.37516562\n",
            " 0.37451114 0.36993885 0.36785446 0.38380677 0.38374092 0.40010641\n",
            " 0.3956696  0.40568366 0.41094282 0.40533128 0.40030689 0.40060794\n",
            " 0.40090878 0.395037   0.4070107  0.38628225 0.38136915 0.3746584\n",
            " 0.38833277 0.35545959 0.35240116 0.36532554 0.36453032 0.33854166\n",
            " 0.3303789  0.33930384 0.33777989 0.34063888 0.35246532 0.35387946\n",
            " 0.34238941 0.33587789 0.33205117 0.32405839 0.32114554 0.32587877\n",
            " 0.32130185 0.31792765 0.31511704 0.31864545 0.30758477 0.31235671\n",
            " 0.30913208 0.30277055 0.30523678 0.31108415 0.30338674 0.30638248\n",
            " 0.31213918 0.3228359  0.30619399 0.30276445 0.31328846 0.32782768\n",
            " 0.33746285 0.33705346 0.34382354 0.34216663 0.35372841 0.35365436\n",
            " 0.35787406 0.35098849 0.35948869 0.36376161 0.35987641 0.37023212\n",
            " 0.3681149  0.37745955 0.39100012 0.38428968 0.37916258 0.37270012\n",
            " 0.36622676 0.3600578  0.35410973 0.34819892]\n",
            "7day output [[0.34220573]]\n",
            "8day input[0.40331904 0.40117637 0.41388681 0.41408961 0.41361648 0.40869244\n",
            " 0.41551048 0.4063556  0.3944713  0.38265328 0.381731   0.37460918\n",
            " 0.39320779 0.38377374 0.38952476 0.36139658 0.34095718 0.34861672\n",
            " 0.36645631 0.37290893 0.37647583 0.37019972 0.37516562 0.37451114\n",
            " 0.36993885 0.36785446 0.38380677 0.38374092 0.40010641 0.3956696\n",
            " 0.40568366 0.41094282 0.40533128 0.40030689 0.40060794 0.40090878\n",
            " 0.395037   0.4070107  0.38628225 0.38136915 0.3746584  0.38833277\n",
            " 0.35545959 0.35240116 0.36532554 0.36453032 0.33854166 0.3303789\n",
            " 0.33930384 0.33777989 0.34063888 0.35246532 0.35387946 0.34238941\n",
            " 0.33587789 0.33205117 0.32405839 0.32114554 0.32587877 0.32130185\n",
            " 0.31792765 0.31511704 0.31864545 0.30758477 0.31235671 0.30913208\n",
            " 0.30277055 0.30523678 0.31108415 0.30338674 0.30638248 0.31213918\n",
            " 0.3228359  0.30619399 0.30276445 0.31328846 0.32782768 0.33746285\n",
            " 0.33705346 0.34382354 0.34216663 0.35372841 0.35365436 0.35787406\n",
            " 0.35098849 0.35948869 0.36376161 0.35987641 0.37023212 0.3681149\n",
            " 0.37745955 0.39100012 0.38428968 0.37916258 0.37270012 0.36622676\n",
            " 0.3600578  0.35410973 0.34819892 0.34220573]\n",
            "8day output [[0.3361142]]\n",
            "9day input[0.40117637 0.41388681 0.41408961 0.41361648 0.40869244 0.41551048\n",
            " 0.4063556  0.3944713  0.38265328 0.381731   0.37460918 0.39320779\n",
            " 0.38377374 0.38952476 0.36139658 0.34095718 0.34861672 0.36645631\n",
            " 0.37290893 0.37647583 0.37019972 0.37516562 0.37451114 0.36993885\n",
            " 0.36785446 0.38380677 0.38374092 0.40010641 0.3956696  0.40568366\n",
            " 0.41094282 0.40533128 0.40030689 0.40060794 0.40090878 0.395037\n",
            " 0.4070107  0.38628225 0.38136915 0.3746584  0.38833277 0.35545959\n",
            " 0.35240116 0.36532554 0.36453032 0.33854166 0.3303789  0.33930384\n",
            " 0.33777989 0.34063888 0.35246532 0.35387946 0.34238941 0.33587789\n",
            " 0.33205117 0.32405839 0.32114554 0.32587877 0.32130185 0.31792765\n",
            " 0.31511704 0.31864545 0.30758477 0.31235671 0.30913208 0.30277055\n",
            " 0.30523678 0.31108415 0.30338674 0.30638248 0.31213918 0.3228359\n",
            " 0.30619399 0.30276445 0.31328846 0.32782768 0.33746285 0.33705346\n",
            " 0.34382354 0.34216663 0.35372841 0.35365436 0.35787406 0.35098849\n",
            " 0.35948869 0.36376161 0.35987641 0.37023212 0.3681149  0.37745955\n",
            " 0.39100012 0.38428968 0.37916258 0.37270012 0.36622676 0.3600578\n",
            " 0.35410973 0.34819892 0.34220573 0.3361142 ]\n",
            "9day output [[0.32998314]]\n",
            "10day input[0.41388681 0.41408961 0.41361648 0.40869244 0.41551048 0.4063556\n",
            " 0.3944713  0.38265328 0.381731   0.37460918 0.39320779 0.38377374\n",
            " 0.38952476 0.36139658 0.34095718 0.34861672 0.36645631 0.37290893\n",
            " 0.37647583 0.37019972 0.37516562 0.37451114 0.36993885 0.36785446\n",
            " 0.38380677 0.38374092 0.40010641 0.3956696  0.40568366 0.41094282\n",
            " 0.40533128 0.40030689 0.40060794 0.40090878 0.395037   0.4070107\n",
            " 0.38628225 0.38136915 0.3746584  0.38833277 0.35545959 0.35240116\n",
            " 0.36532554 0.36453032 0.33854166 0.3303789  0.33930384 0.33777989\n",
            " 0.34063888 0.35246532 0.35387946 0.34238941 0.33587789 0.33205117\n",
            " 0.32405839 0.32114554 0.32587877 0.32130185 0.31792765 0.31511704\n",
            " 0.31864545 0.30758477 0.31235671 0.30913208 0.30277055 0.30523678\n",
            " 0.31108415 0.30338674 0.30638248 0.31213918 0.3228359  0.30619399\n",
            " 0.30276445 0.31328846 0.32782768 0.33746285 0.33705346 0.34382354\n",
            " 0.34216663 0.35372841 0.35365436 0.35787406 0.35098849 0.35948869\n",
            " 0.36376161 0.35987641 0.37023212 0.3681149  0.37745955 0.39100012\n",
            " 0.38428968 0.37916258 0.37270012 0.36622676 0.3600578  0.35410973\n",
            " 0.34819892 0.34220573 0.3361142  0.32998314]\n",
            "10day output [[0.3238985]]\n",
            "11day input[0.41408961 0.41361648 0.40869244 0.41551048 0.4063556  0.3944713\n",
            " 0.38265328 0.381731   0.37460918 0.39320779 0.38377374 0.38952476\n",
            " 0.36139658 0.34095718 0.34861672 0.36645631 0.37290893 0.37647583\n",
            " 0.37019972 0.37516562 0.37451114 0.36993885 0.36785446 0.38380677\n",
            " 0.38374092 0.40010641 0.3956696  0.40568366 0.41094282 0.40533128\n",
            " 0.40030689 0.40060794 0.40090878 0.395037   0.4070107  0.38628225\n",
            " 0.38136915 0.3746584  0.38833277 0.35545959 0.35240116 0.36532554\n",
            " 0.36453032 0.33854166 0.3303789  0.33930384 0.33777989 0.34063888\n",
            " 0.35246532 0.35387946 0.34238941 0.33587789 0.33205117 0.32405839\n",
            " 0.32114554 0.32587877 0.32130185 0.31792765 0.31511704 0.31864545\n",
            " 0.30758477 0.31235671 0.30913208 0.30277055 0.30523678 0.31108415\n",
            " 0.30338674 0.30638248 0.31213918 0.3228359  0.30619399 0.30276445\n",
            " 0.31328846 0.32782768 0.33746285 0.33705346 0.34382354 0.34216663\n",
            " 0.35372841 0.35365436 0.35787406 0.35098849 0.35948869 0.36376161\n",
            " 0.35987641 0.37023212 0.3681149  0.37745955 0.39100012 0.38428968\n",
            " 0.37916258 0.37270012 0.36622676 0.3600578  0.35410973 0.34819892\n",
            " 0.34220573 0.3361142  0.32998314 0.32389849]\n",
            "11day output [[0.31793714]]\n",
            "12day input[0.41361648 0.40869244 0.41551048 0.4063556  0.3944713  0.38265328\n",
            " 0.381731   0.37460918 0.39320779 0.38377374 0.38952476 0.36139658\n",
            " 0.34095718 0.34861672 0.36645631 0.37290893 0.37647583 0.37019972\n",
            " 0.37516562 0.37451114 0.36993885 0.36785446 0.38380677 0.38374092\n",
            " 0.40010641 0.3956696  0.40568366 0.41094282 0.40533128 0.40030689\n",
            " 0.40060794 0.40090878 0.395037   0.4070107  0.38628225 0.38136915\n",
            " 0.3746584  0.38833277 0.35545959 0.35240116 0.36532554 0.36453032\n",
            " 0.33854166 0.3303789  0.33930384 0.33777989 0.34063888 0.35246532\n",
            " 0.35387946 0.34238941 0.33587789 0.33205117 0.32405839 0.32114554\n",
            " 0.32587877 0.32130185 0.31792765 0.31511704 0.31864545 0.30758477\n",
            " 0.31235671 0.30913208 0.30277055 0.30523678 0.31108415 0.30338674\n",
            " 0.30638248 0.31213918 0.3228359  0.30619399 0.30276445 0.31328846\n",
            " 0.32782768 0.33746285 0.33705346 0.34382354 0.34216663 0.35372841\n",
            " 0.35365436 0.35787406 0.35098849 0.35948869 0.36376161 0.35987641\n",
            " 0.37023212 0.3681149  0.37745955 0.39100012 0.38428968 0.37916258\n",
            " 0.37270012 0.36622676 0.3600578  0.35410973 0.34819892 0.34220573\n",
            " 0.3361142  0.32998314 0.32389849 0.31793714]\n",
            "12day output [[0.31214848]]\n",
            "13day input[0.40869244 0.41551048 0.4063556  0.3944713  0.38265328 0.381731\n",
            " 0.37460918 0.39320779 0.38377374 0.38952476 0.36139658 0.34095718\n",
            " 0.34861672 0.36645631 0.37290893 0.37647583 0.37019972 0.37516562\n",
            " 0.37451114 0.36993885 0.36785446 0.38380677 0.38374092 0.40010641\n",
            " 0.3956696  0.40568366 0.41094282 0.40533128 0.40030689 0.40060794\n",
            " 0.40090878 0.395037   0.4070107  0.38628225 0.38136915 0.3746584\n",
            " 0.38833277 0.35545959 0.35240116 0.36532554 0.36453032 0.33854166\n",
            " 0.3303789  0.33930384 0.33777989 0.34063888 0.35246532 0.35387946\n",
            " 0.34238941 0.33587789 0.33205117 0.32405839 0.32114554 0.32587877\n",
            " 0.32130185 0.31792765 0.31511704 0.31864545 0.30758477 0.31235671\n",
            " 0.30913208 0.30277055 0.30523678 0.31108415 0.30338674 0.30638248\n",
            " 0.31213918 0.3228359  0.30619399 0.30276445 0.31328846 0.32782768\n",
            " 0.33746285 0.33705346 0.34382354 0.34216663 0.35372841 0.35365436\n",
            " 0.35787406 0.35098849 0.35948869 0.36376161 0.35987641 0.37023212\n",
            " 0.3681149  0.37745955 0.39100012 0.38428968 0.37916258 0.37270012\n",
            " 0.36622676 0.3600578  0.35410973 0.34819892 0.34220573 0.3361142\n",
            " 0.32998314 0.32389849 0.31793714 0.31214848]\n",
            "13day output [[0.3065531]]\n",
            "14day input[0.41551048 0.4063556  0.3944713  0.38265328 0.381731   0.37460918\n",
            " 0.39320779 0.38377374 0.38952476 0.36139658 0.34095718 0.34861672\n",
            " 0.36645631 0.37290893 0.37647583 0.37019972 0.37516562 0.37451114\n",
            " 0.36993885 0.36785446 0.38380677 0.38374092 0.40010641 0.3956696\n",
            " 0.40568366 0.41094282 0.40533128 0.40030689 0.40060794 0.40090878\n",
            " 0.395037   0.4070107  0.38628225 0.38136915 0.3746584  0.38833277\n",
            " 0.35545959 0.35240116 0.36532554 0.36453032 0.33854166 0.3303789\n",
            " 0.33930384 0.33777989 0.34063888 0.35246532 0.35387946 0.34238941\n",
            " 0.33587789 0.33205117 0.32405839 0.32114554 0.32587877 0.32130185\n",
            " 0.31792765 0.31511704 0.31864545 0.30758477 0.31235671 0.30913208\n",
            " 0.30277055 0.30523678 0.31108415 0.30338674 0.30638248 0.31213918\n",
            " 0.3228359  0.30619399 0.30276445 0.31328846 0.32782768 0.33746285\n",
            " 0.33705346 0.34382354 0.34216663 0.35372841 0.35365436 0.35787406\n",
            " 0.35098849 0.35948869 0.36376161 0.35987641 0.37023212 0.3681149\n",
            " 0.37745955 0.39100012 0.38428968 0.37916258 0.37270012 0.36622676\n",
            " 0.3600578  0.35410973 0.34819892 0.34220573 0.3361142  0.32998314\n",
            " 0.32389849 0.31793714 0.31214848 0.3065531 ]\n",
            "14day output [[0.3011484]]\n",
            "15day input[0.4063556  0.3944713  0.38265328 0.381731   0.37460918 0.39320779\n",
            " 0.38377374 0.38952476 0.36139658 0.34095718 0.34861672 0.36645631\n",
            " 0.37290893 0.37647583 0.37019972 0.37516562 0.37451114 0.36993885\n",
            " 0.36785446 0.38380677 0.38374092 0.40010641 0.3956696  0.40568366\n",
            " 0.41094282 0.40533128 0.40030689 0.40060794 0.40090878 0.395037\n",
            " 0.4070107  0.38628225 0.38136915 0.3746584  0.38833277 0.35545959\n",
            " 0.35240116 0.36532554 0.36453032 0.33854166 0.3303789  0.33930384\n",
            " 0.33777989 0.34063888 0.35246532 0.35387946 0.34238941 0.33587789\n",
            " 0.33205117 0.32405839 0.32114554 0.32587877 0.32130185 0.31792765\n",
            " 0.31511704 0.31864545 0.30758477 0.31235671 0.30913208 0.30277055\n",
            " 0.30523678 0.31108415 0.30338674 0.30638248 0.31213918 0.3228359\n",
            " 0.30619399 0.30276445 0.31328846 0.32782768 0.33746285 0.33705346\n",
            " 0.34382354 0.34216663 0.35372841 0.35365436 0.35787406 0.35098849\n",
            " 0.35948869 0.36376161 0.35987641 0.37023212 0.3681149  0.37745955\n",
            " 0.39100012 0.38428968 0.37916258 0.37270012 0.36622676 0.3600578\n",
            " 0.35410973 0.34819892 0.34220573 0.3361142  0.32998314 0.32389849\n",
            " 0.31793714 0.31214848 0.3065531  0.30114841]\n",
            "15day output [[0.29591897]]\n",
            "16day input[0.3944713  0.38265328 0.381731   0.37460918 0.39320779 0.38377374\n",
            " 0.38952476 0.36139658 0.34095718 0.34861672 0.36645631 0.37290893\n",
            " 0.37647583 0.37019972 0.37516562 0.37451114 0.36993885 0.36785446\n",
            " 0.38380677 0.38374092 0.40010641 0.3956696  0.40568366 0.41094282\n",
            " 0.40533128 0.40030689 0.40060794 0.40090878 0.395037   0.4070107\n",
            " 0.38628225 0.38136915 0.3746584  0.38833277 0.35545959 0.35240116\n",
            " 0.36532554 0.36453032 0.33854166 0.3303789  0.33930384 0.33777989\n",
            " 0.34063888 0.35246532 0.35387946 0.34238941 0.33587789 0.33205117\n",
            " 0.32405839 0.32114554 0.32587877 0.32130185 0.31792765 0.31511704\n",
            " 0.31864545 0.30758477 0.31235671 0.30913208 0.30277055 0.30523678\n",
            " 0.31108415 0.30338674 0.30638248 0.31213918 0.3228359  0.30619399\n",
            " 0.30276445 0.31328846 0.32782768 0.33746285 0.33705346 0.34382354\n",
            " 0.34216663 0.35372841 0.35365436 0.35787406 0.35098849 0.35948869\n",
            " 0.36376161 0.35987641 0.37023212 0.3681149  0.37745955 0.39100012\n",
            " 0.38428968 0.37916258 0.37270012 0.36622676 0.3600578  0.35410973\n",
            " 0.34819892 0.34220573 0.3361142  0.32998314 0.32389849 0.31793714\n",
            " 0.31214848 0.3065531  0.30114841 0.29591897]\n",
            "16day output [[0.29084373]]\n",
            "17day input[0.38265328 0.381731   0.37460918 0.39320779 0.38377374 0.38952476\n",
            " 0.36139658 0.34095718 0.34861672 0.36645631 0.37290893 0.37647583\n",
            " 0.37019972 0.37516562 0.37451114 0.36993885 0.36785446 0.38380677\n",
            " 0.38374092 0.40010641 0.3956696  0.40568366 0.41094282 0.40533128\n",
            " 0.40030689 0.40060794 0.40090878 0.395037   0.4070107  0.38628225\n",
            " 0.38136915 0.3746584  0.38833277 0.35545959 0.35240116 0.36532554\n",
            " 0.36453032 0.33854166 0.3303789  0.33930384 0.33777989 0.34063888\n",
            " 0.35246532 0.35387946 0.34238941 0.33587789 0.33205117 0.32405839\n",
            " 0.32114554 0.32587877 0.32130185 0.31792765 0.31511704 0.31864545\n",
            " 0.30758477 0.31235671 0.30913208 0.30277055 0.30523678 0.31108415\n",
            " 0.30338674 0.30638248 0.31213918 0.3228359  0.30619399 0.30276445\n",
            " 0.31328846 0.32782768 0.33746285 0.33705346 0.34382354 0.34216663\n",
            " 0.35372841 0.35365436 0.35787406 0.35098849 0.35948869 0.36376161\n",
            " 0.35987641 0.37023212 0.3681149  0.37745955 0.39100012 0.38428968\n",
            " 0.37916258 0.37270012 0.36622676 0.3600578  0.35410973 0.34819892\n",
            " 0.34220573 0.3361142  0.32998314 0.32389849 0.31793714 0.31214848\n",
            " 0.3065531  0.30114841 0.29591897 0.29084373]\n",
            "17day output [[0.285901]]\n",
            "18day input[0.381731   0.37460918 0.39320779 0.38377374 0.38952476 0.36139658\n",
            " 0.34095718 0.34861672 0.36645631 0.37290893 0.37647583 0.37019972\n",
            " 0.37516562 0.37451114 0.36993885 0.36785446 0.38380677 0.38374092\n",
            " 0.40010641 0.3956696  0.40568366 0.41094282 0.40533128 0.40030689\n",
            " 0.40060794 0.40090878 0.395037   0.4070107  0.38628225 0.38136915\n",
            " 0.3746584  0.38833277 0.35545959 0.35240116 0.36532554 0.36453032\n",
            " 0.33854166 0.3303789  0.33930384 0.33777989 0.34063888 0.35246532\n",
            " 0.35387946 0.34238941 0.33587789 0.33205117 0.32405839 0.32114554\n",
            " 0.32587877 0.32130185 0.31792765 0.31511704 0.31864545 0.30758477\n",
            " 0.31235671 0.30913208 0.30277055 0.30523678 0.31108415 0.30338674\n",
            " 0.30638248 0.31213918 0.3228359  0.30619399 0.30276445 0.31328846\n",
            " 0.32782768 0.33746285 0.33705346 0.34382354 0.34216663 0.35372841\n",
            " 0.35365436 0.35787406 0.35098849 0.35948869 0.36376161 0.35987641\n",
            " 0.37023212 0.3681149  0.37745955 0.39100012 0.38428968 0.37916258\n",
            " 0.37270012 0.36622676 0.3600578  0.35410973 0.34819892 0.34220573\n",
            " 0.3361142  0.32998314 0.32389849 0.31793714 0.31214848 0.3065531\n",
            " 0.30114841 0.29591897 0.29084373 0.28590101]\n",
            "18day output [[0.2810723]]\n",
            "19day input[0.37460918 0.39320779 0.38377374 0.38952476 0.36139658 0.34095718\n",
            " 0.34861672 0.36645631 0.37290893 0.37647583 0.37019972 0.37516562\n",
            " 0.37451114 0.36993885 0.36785446 0.38380677 0.38374092 0.40010641\n",
            " 0.3956696  0.40568366 0.41094282 0.40533128 0.40030689 0.40060794\n",
            " 0.40090878 0.395037   0.4070107  0.38628225 0.38136915 0.3746584\n",
            " 0.38833277 0.35545959 0.35240116 0.36532554 0.36453032 0.33854166\n",
            " 0.3303789  0.33930384 0.33777989 0.34063888 0.35246532 0.35387946\n",
            " 0.34238941 0.33587789 0.33205117 0.32405839 0.32114554 0.32587877\n",
            " 0.32130185 0.31792765 0.31511704 0.31864545 0.30758477 0.31235671\n",
            " 0.30913208 0.30277055 0.30523678 0.31108415 0.30338674 0.30638248\n",
            " 0.31213918 0.3228359  0.30619399 0.30276445 0.31328846 0.32782768\n",
            " 0.33746285 0.33705346 0.34382354 0.34216663 0.35372841 0.35365436\n",
            " 0.35787406 0.35098849 0.35948869 0.36376161 0.35987641 0.37023212\n",
            " 0.3681149  0.37745955 0.39100012 0.38428968 0.37916258 0.37270012\n",
            " 0.36622676 0.3600578  0.35410973 0.34819892 0.34220573 0.3361142\n",
            " 0.32998314 0.32389849 0.31793714 0.31214848 0.3065531  0.30114841\n",
            " 0.29591897 0.29084373 0.28590101 0.28107229]\n",
            "19day output [[0.27634194]]\n",
            "20day input[0.39320779 0.38377374 0.38952476 0.36139658 0.34095718 0.34861672\n",
            " 0.36645631 0.37290893 0.37647583 0.37019972 0.37516562 0.37451114\n",
            " 0.36993885 0.36785446 0.38380677 0.38374092 0.40010641 0.3956696\n",
            " 0.40568366 0.41094282 0.40533128 0.40030689 0.40060794 0.40090878\n",
            " 0.395037   0.4070107  0.38628225 0.38136915 0.3746584  0.38833277\n",
            " 0.35545959 0.35240116 0.36532554 0.36453032 0.33854166 0.3303789\n",
            " 0.33930384 0.33777989 0.34063888 0.35246532 0.35387946 0.34238941\n",
            " 0.33587789 0.33205117 0.32405839 0.32114554 0.32587877 0.32130185\n",
            " 0.31792765 0.31511704 0.31864545 0.30758477 0.31235671 0.30913208\n",
            " 0.30277055 0.30523678 0.31108415 0.30338674 0.30638248 0.31213918\n",
            " 0.3228359  0.30619399 0.30276445 0.31328846 0.32782768 0.33746285\n",
            " 0.33705346 0.34382354 0.34216663 0.35372841 0.35365436 0.35787406\n",
            " 0.35098849 0.35948869 0.36376161 0.35987641 0.37023212 0.3681149\n",
            " 0.37745955 0.39100012 0.38428968 0.37916258 0.37270012 0.36622676\n",
            " 0.3600578  0.35410973 0.34819892 0.34220573 0.3361142  0.32998314\n",
            " 0.32389849 0.31793714 0.31214848 0.3065531  0.30114841 0.29591897\n",
            " 0.29084373 0.28590101 0.28107229 0.27634194]\n",
            "20day output [[0.271698]]\n",
            "21day input[0.38377374 0.38952476 0.36139658 0.34095718 0.34861672 0.36645631\n",
            " 0.37290893 0.37647583 0.37019972 0.37516562 0.37451114 0.36993885\n",
            " 0.36785446 0.38380677 0.38374092 0.40010641 0.3956696  0.40568366\n",
            " 0.41094282 0.40533128 0.40030689 0.40060794 0.40090878 0.395037\n",
            " 0.4070107  0.38628225 0.38136915 0.3746584  0.38833277 0.35545959\n",
            " 0.35240116 0.36532554 0.36453032 0.33854166 0.3303789  0.33930384\n",
            " 0.33777989 0.34063888 0.35246532 0.35387946 0.34238941 0.33587789\n",
            " 0.33205117 0.32405839 0.32114554 0.32587877 0.32130185 0.31792765\n",
            " 0.31511704 0.31864545 0.30758477 0.31235671 0.30913208 0.30277055\n",
            " 0.30523678 0.31108415 0.30338674 0.30638248 0.31213918 0.3228359\n",
            " 0.30619399 0.30276445 0.31328846 0.32782768 0.33746285 0.33705346\n",
            " 0.34382354 0.34216663 0.35372841 0.35365436 0.35787406 0.35098849\n",
            " 0.35948869 0.36376161 0.35987641 0.37023212 0.3681149  0.37745955\n",
            " 0.39100012 0.38428968 0.37916258 0.37270012 0.36622676 0.3600578\n",
            " 0.35410973 0.34819892 0.34220573 0.3361142  0.32998314 0.32389849\n",
            " 0.31793714 0.31214848 0.3065531  0.30114841 0.29591897 0.29084373\n",
            " 0.28590101 0.28107229 0.27634194 0.271698  ]\n",
            "21day output [[0.26713192]]\n",
            "22day input[0.38952476 0.36139658 0.34095718 0.34861672 0.36645631 0.37290893\n",
            " 0.37647583 0.37019972 0.37516562 0.37451114 0.36993885 0.36785446\n",
            " 0.38380677 0.38374092 0.40010641 0.3956696  0.40568366 0.41094282\n",
            " 0.40533128 0.40030689 0.40060794 0.40090878 0.395037   0.4070107\n",
            " 0.38628225 0.38136915 0.3746584  0.38833277 0.35545959 0.35240116\n",
            " 0.36532554 0.36453032 0.33854166 0.3303789  0.33930384 0.33777989\n",
            " 0.34063888 0.35246532 0.35387946 0.34238941 0.33587789 0.33205117\n",
            " 0.32405839 0.32114554 0.32587877 0.32130185 0.31792765 0.31511704\n",
            " 0.31864545 0.30758477 0.31235671 0.30913208 0.30277055 0.30523678\n",
            " 0.31108415 0.30338674 0.30638248 0.31213918 0.3228359  0.30619399\n",
            " 0.30276445 0.31328846 0.32782768 0.33746285 0.33705346 0.34382354\n",
            " 0.34216663 0.35372841 0.35365436 0.35787406 0.35098849 0.35948869\n",
            " 0.36376161 0.35987641 0.37023212 0.3681149  0.37745955 0.39100012\n",
            " 0.38428968 0.37916258 0.37270012 0.36622676 0.3600578  0.35410973\n",
            " 0.34819892 0.34220573 0.3361142  0.32998314 0.32389849 0.31793714\n",
            " 0.31214848 0.3065531  0.30114841 0.29591897 0.29084373 0.28590101\n",
            " 0.28107229 0.27634194 0.271698   0.26713192]\n",
            "22day output [[0.26263744]]\n",
            "23day input[0.36139658 0.34095718 0.34861672 0.36645631 0.37290893 0.37647583\n",
            " 0.37019972 0.37516562 0.37451114 0.36993885 0.36785446 0.38380677\n",
            " 0.38374092 0.40010641 0.3956696  0.40568366 0.41094282 0.40533128\n",
            " 0.40030689 0.40060794 0.40090878 0.395037   0.4070107  0.38628225\n",
            " 0.38136915 0.3746584  0.38833277 0.35545959 0.35240116 0.36532554\n",
            " 0.36453032 0.33854166 0.3303789  0.33930384 0.33777989 0.34063888\n",
            " 0.35246532 0.35387946 0.34238941 0.33587789 0.33205117 0.32405839\n",
            " 0.32114554 0.32587877 0.32130185 0.31792765 0.31511704 0.31864545\n",
            " 0.30758477 0.31235671 0.30913208 0.30277055 0.30523678 0.31108415\n",
            " 0.30338674 0.30638248 0.31213918 0.3228359  0.30619399 0.30276445\n",
            " 0.31328846 0.32782768 0.33746285 0.33705346 0.34382354 0.34216663\n",
            " 0.35372841 0.35365436 0.35787406 0.35098849 0.35948869 0.36376161\n",
            " 0.35987641 0.37023212 0.3681149  0.37745955 0.39100012 0.38428968\n",
            " 0.37916258 0.37270012 0.36622676 0.3600578  0.35410973 0.34819892\n",
            " 0.34220573 0.3361142  0.32998314 0.32389849 0.31793714 0.31214848\n",
            " 0.3065531  0.30114841 0.29591897 0.29084373 0.28590101 0.28107229\n",
            " 0.27634194 0.271698   0.26713192 0.26263744]\n",
            "23day output [[0.25821087]]\n",
            "24day input[0.34095718 0.34861672 0.36645631 0.37290893 0.37647583 0.37019972\n",
            " 0.37516562 0.37451114 0.36993885 0.36785446 0.38380677 0.38374092\n",
            " 0.40010641 0.3956696  0.40568366 0.41094282 0.40533128 0.40030689\n",
            " 0.40060794 0.40090878 0.395037   0.4070107  0.38628225 0.38136915\n",
            " 0.3746584  0.38833277 0.35545959 0.35240116 0.36532554 0.36453032\n",
            " 0.33854166 0.3303789  0.33930384 0.33777989 0.34063888 0.35246532\n",
            " 0.35387946 0.34238941 0.33587789 0.33205117 0.32405839 0.32114554\n",
            " 0.32587877 0.32130185 0.31792765 0.31511704 0.31864545 0.30758477\n",
            " 0.31235671 0.30913208 0.30277055 0.30523678 0.31108415 0.30338674\n",
            " 0.30638248 0.31213918 0.3228359  0.30619399 0.30276445 0.31328846\n",
            " 0.32782768 0.33746285 0.33705346 0.34382354 0.34216663 0.35372841\n",
            " 0.35365436 0.35787406 0.35098849 0.35948869 0.36376161 0.35987641\n",
            " 0.37023212 0.3681149  0.37745955 0.39100012 0.38428968 0.37916258\n",
            " 0.37270012 0.36622676 0.3600578  0.35410973 0.34819892 0.34220573\n",
            " 0.3361142  0.32998314 0.32389849 0.31793714 0.31214848 0.3065531\n",
            " 0.30114841 0.29591897 0.29084373 0.28590101 0.28107229 0.27634194\n",
            " 0.271698   0.26713192 0.26263744 0.25821087]\n",
            "24day output [[0.25385037]]\n",
            "25day input[0.34861672 0.36645631 0.37290893 0.37647583 0.37019972 0.37516562\n",
            " 0.37451114 0.36993885 0.36785446 0.38380677 0.38374092 0.40010641\n",
            " 0.3956696  0.40568366 0.41094282 0.40533128 0.40030689 0.40060794\n",
            " 0.40090878 0.395037   0.4070107  0.38628225 0.38136915 0.3746584\n",
            " 0.38833277 0.35545959 0.35240116 0.36532554 0.36453032 0.33854166\n",
            " 0.3303789  0.33930384 0.33777989 0.34063888 0.35246532 0.35387946\n",
            " 0.34238941 0.33587789 0.33205117 0.32405839 0.32114554 0.32587877\n",
            " 0.32130185 0.31792765 0.31511704 0.31864545 0.30758477 0.31235671\n",
            " 0.30913208 0.30277055 0.30523678 0.31108415 0.30338674 0.30638248\n",
            " 0.31213918 0.3228359  0.30619399 0.30276445 0.31328846 0.32782768\n",
            " 0.33746285 0.33705346 0.34382354 0.34216663 0.35372841 0.35365436\n",
            " 0.35787406 0.35098849 0.35948869 0.36376161 0.35987641 0.37023212\n",
            " 0.3681149  0.37745955 0.39100012 0.38428968 0.37916258 0.37270012\n",
            " 0.36622676 0.3600578  0.35410973 0.34819892 0.34220573 0.3361142\n",
            " 0.32998314 0.32389849 0.31793714 0.31214848 0.3065531  0.30114841\n",
            " 0.29591897 0.29084373 0.28590101 0.28107229 0.27634194 0.271698\n",
            " 0.26713192 0.26263744 0.25821087 0.25385037]\n",
            "25day output [[0.24955568]]\n",
            "26day input[0.36645631 0.37290893 0.37647583 0.37019972 0.37516562 0.37451114\n",
            " 0.36993885 0.36785446 0.38380677 0.38374092 0.40010641 0.3956696\n",
            " 0.40568366 0.41094282 0.40533128 0.40030689 0.40060794 0.40090878\n",
            " 0.395037   0.4070107  0.38628225 0.38136915 0.3746584  0.38833277\n",
            " 0.35545959 0.35240116 0.36532554 0.36453032 0.33854166 0.3303789\n",
            " 0.33930384 0.33777989 0.34063888 0.35246532 0.35387946 0.34238941\n",
            " 0.33587789 0.33205117 0.32405839 0.32114554 0.32587877 0.32130185\n",
            " 0.31792765 0.31511704 0.31864545 0.30758477 0.31235671 0.30913208\n",
            " 0.30277055 0.30523678 0.31108415 0.30338674 0.30638248 0.31213918\n",
            " 0.3228359  0.30619399 0.30276445 0.31328846 0.32782768 0.33746285\n",
            " 0.33705346 0.34382354 0.34216663 0.35372841 0.35365436 0.35787406\n",
            " 0.35098849 0.35948869 0.36376161 0.35987641 0.37023212 0.3681149\n",
            " 0.37745955 0.39100012 0.38428968 0.37916258 0.37270012 0.36622676\n",
            " 0.3600578  0.35410973 0.34819892 0.34220573 0.3361142  0.32998314\n",
            " 0.32389849 0.31793714 0.31214848 0.3065531  0.30114841 0.29591897\n",
            " 0.29084373 0.28590101 0.28107229 0.27634194 0.271698   0.26713192\n",
            " 0.26263744 0.25821087 0.25385037 0.24955568]\n",
            "26day output [[0.24532786]]\n",
            "27day input[0.37290893 0.37647583 0.37019972 0.37516562 0.37451114 0.36993885\n",
            " 0.36785446 0.38380677 0.38374092 0.40010641 0.3956696  0.40568366\n",
            " 0.41094282 0.40533128 0.40030689 0.40060794 0.40090878 0.395037\n",
            " 0.4070107  0.38628225 0.38136915 0.3746584  0.38833277 0.35545959\n",
            " 0.35240116 0.36532554 0.36453032 0.33854166 0.3303789  0.33930384\n",
            " 0.33777989 0.34063888 0.35246532 0.35387946 0.34238941 0.33587789\n",
            " 0.33205117 0.32405839 0.32114554 0.32587877 0.32130185 0.31792765\n",
            " 0.31511704 0.31864545 0.30758477 0.31235671 0.30913208 0.30277055\n",
            " 0.30523678 0.31108415 0.30338674 0.30638248 0.31213918 0.3228359\n",
            " 0.30619399 0.30276445 0.31328846 0.32782768 0.33746285 0.33705346\n",
            " 0.34382354 0.34216663 0.35372841 0.35365436 0.35787406 0.35098849\n",
            " 0.35948869 0.36376161 0.35987641 0.37023212 0.3681149  0.37745955\n",
            " 0.39100012 0.38428968 0.37916258 0.37270012 0.36622676 0.3600578\n",
            " 0.35410973 0.34819892 0.34220573 0.3361142  0.32998314 0.32389849\n",
            " 0.31793714 0.31214848 0.3065531  0.30114841 0.29591897 0.29084373\n",
            " 0.28590101 0.28107229 0.27634194 0.271698   0.26713192 0.26263744\n",
            " 0.25821087 0.25385037 0.24955568 0.24532786]\n",
            "27day output [[0.24116878]]\n",
            "28day input[0.37647583 0.37019972 0.37516562 0.37451114 0.36993885 0.36785446\n",
            " 0.38380677 0.38374092 0.40010641 0.3956696  0.40568366 0.41094282\n",
            " 0.40533128 0.40030689 0.40060794 0.40090878 0.395037   0.4070107\n",
            " 0.38628225 0.38136915 0.3746584  0.38833277 0.35545959 0.35240116\n",
            " 0.36532554 0.36453032 0.33854166 0.3303789  0.33930384 0.33777989\n",
            " 0.34063888 0.35246532 0.35387946 0.34238941 0.33587789 0.33205117\n",
            " 0.32405839 0.32114554 0.32587877 0.32130185 0.31792765 0.31511704\n",
            " 0.31864545 0.30758477 0.31235671 0.30913208 0.30277055 0.30523678\n",
            " 0.31108415 0.30338674 0.30638248 0.31213918 0.3228359  0.30619399\n",
            " 0.30276445 0.31328846 0.32782768 0.33746285 0.33705346 0.34382354\n",
            " 0.34216663 0.35372841 0.35365436 0.35787406 0.35098849 0.35948869\n",
            " 0.36376161 0.35987641 0.37023212 0.3681149  0.37745955 0.39100012\n",
            " 0.38428968 0.37916258 0.37270012 0.36622676 0.3600578  0.35410973\n",
            " 0.34819892 0.34220573 0.3361142  0.32998314 0.32389849 0.31793714\n",
            " 0.31214848 0.3065531  0.30114841 0.29591897 0.29084373 0.28590101\n",
            " 0.28107229 0.27634194 0.271698   0.26713192 0.26263744 0.25821087\n",
            " 0.25385037 0.24955568 0.24532786 0.24116878]\n",
            "28day output [[0.23708096]]\n",
            "29day input[0.37019972 0.37516562 0.37451114 0.36993885 0.36785446 0.38380677\n",
            " 0.38374092 0.40010641 0.3956696  0.40568366 0.41094282 0.40533128\n",
            " 0.40030689 0.40060794 0.40090878 0.395037   0.4070107  0.38628225\n",
            " 0.38136915 0.3746584  0.38833277 0.35545959 0.35240116 0.36532554\n",
            " 0.36453032 0.33854166 0.3303789  0.33930384 0.33777989 0.34063888\n",
            " 0.35246532 0.35387946 0.34238941 0.33587789 0.33205117 0.32405839\n",
            " 0.32114554 0.32587877 0.32130185 0.31792765 0.31511704 0.31864545\n",
            " 0.30758477 0.31235671 0.30913208 0.30277055 0.30523678 0.31108415\n",
            " 0.30338674 0.30638248 0.31213918 0.3228359  0.30619399 0.30276445\n",
            " 0.31328846 0.32782768 0.33746285 0.33705346 0.34382354 0.34216663\n",
            " 0.35372841 0.35365436 0.35787406 0.35098849 0.35948869 0.36376161\n",
            " 0.35987641 0.37023212 0.3681149  0.37745955 0.39100012 0.38428968\n",
            " 0.37916258 0.37270012 0.36622676 0.3600578  0.35410973 0.34819892\n",
            " 0.34220573 0.3361142  0.32998314 0.32389849 0.31793714 0.31214848\n",
            " 0.3065531  0.30114841 0.29591897 0.29084373 0.28590101 0.28107229\n",
            " 0.27634194 0.271698   0.26713192 0.26263744 0.25821087 0.25385037\n",
            " 0.24955568 0.24532786 0.24116878 0.23708096]\n",
            "29day output [[0.23306724]]\n",
            "[[0.3842896819114685], [0.37916257977485657], [0.37270012497901917], [0.36622676253318787], [0.3600578010082245], [0.3541097342967987], [0.34819892048835754], [0.3422057330608368], [0.33611419796943665], [0.3299831449985504], [0.3238984942436218], [0.31793713569641113], [0.31214848160743713], [0.30655309557914734], [0.3011484146118164], [0.2959189713001251], [0.2908437252044678], [0.2859010100364685], [0.2810722887516022], [0.2763419449329376], [0.271697998046875], [0.2671319246292114], [0.2626374363899231], [0.2582108676433563], [0.25385037064552307], [0.24955567717552185], [0.24532786011695862], [0.2411687821149826], [0.23708096146583557], [0.23306724429130554]]\n"
          ]
        }
      ]
    },
    {
      "cell_type": "code",
      "source": [
        "day_new=np.arange(1,101)\n",
        "day_pred=np.arange(101,131)#30days"
      ],
      "metadata": {
        "id": "2jJ78XixZHUn"
      },
      "execution_count": 30,
      "outputs": []
    },
    {
      "cell_type": "code",
      "source": [
        "len(df_close)"
      ],
      "metadata": {
        "colab": {
          "base_uri": "https://localhost:8080/"
        },
        "id": "obJoCfFUY__P",
        "outputId": "d3ffc9bf-c697-4e71-fb69-57e1718c2d28"
      },
      "execution_count": 31,
      "outputs": [
        {
          "output_type": "execute_result",
          "data": {
            "text/plain": [
              "3127"
            ]
          },
          "metadata": {},
          "execution_count": 31
        }
      ]
    },
    {
      "cell_type": "code",
      "source": [
        "df3=df_close.tolist()\n",
        "df3.extend(lst_output)\n",
        "lst_output"
      ],
      "metadata": {
        "id": "SHq3nufoZr0F",
        "colab": {
          "base_uri": "https://localhost:8080/"
        },
        "outputId": "24f13c15-f61c-4ec2-c147-5b888d05d1e7"
      },
      "execution_count": 32,
      "outputs": [
        {
          "output_type": "execute_result",
          "data": {
            "text/plain": [
              "[[0.3842896819114685],\n",
              " [0.37916257977485657],\n",
              " [0.37270012497901917],\n",
              " [0.36622676253318787],\n",
              " [0.3600578010082245],\n",
              " [0.3541097342967987],\n",
              " [0.34819892048835754],\n",
              " [0.3422057330608368],\n",
              " [0.33611419796943665],\n",
              " [0.3299831449985504],\n",
              " [0.3238984942436218],\n",
              " [0.31793713569641113],\n",
              " [0.31214848160743713],\n",
              " [0.30655309557914734],\n",
              " [0.3011484146118164],\n",
              " [0.2959189713001251],\n",
              " [0.2908437252044678],\n",
              " [0.2859010100364685],\n",
              " [0.2810722887516022],\n",
              " [0.2763419449329376],\n",
              " [0.271697998046875],\n",
              " [0.2671319246292114],\n",
              " [0.2626374363899231],\n",
              " [0.2582108676433563],\n",
              " [0.25385037064552307],\n",
              " [0.24955567717552185],\n",
              " [0.24532786011695862],\n",
              " [0.2411687821149826],\n",
              " [0.23708096146583557],\n",
              " [0.23306724429130554]]"
            ]
          },
          "metadata": {},
          "execution_count": 32
        }
      ]
    },
    {
      "cell_type": "markdown",
      "source": [
        "Plotting the **prediction**"
      ],
      "metadata": {
        "id": "W9y16Cm8tFQS"
      }
    },
    {
      "cell_type": "code",
      "source": [
        "plt.figure(figsize=(13,7))\n",
        "plt.plot(day_new,scaler.inverse_transform(df_close[3027:]))\n",
        "plt.plot(day_pred,scaler.inverse_transform(lst_output))"
      ],
      "metadata": {
        "colab": {
          "base_uri": "https://localhost:8080/",
          "height": 446
        },
        "id": "CBqL_jGFZ95t",
        "outputId": "8afad91e-9004-4782-8516-b15a88f0779d"
      },
      "execution_count": 33,
      "outputs": [
        {
          "output_type": "execute_result",
          "data": {
            "text/plain": [
              "[<matplotlib.lines.Line2D at 0x7f49157b7fd0>]"
            ]
          },
          "metadata": {},
          "execution_count": 33
        },
        {
          "output_type": "display_data",
          "data": {
            "text/plain": [
              "<Figure size 936x504 with 1 Axes>"
            ],
            "image/png": "[encoded data removed]"
          },
          "metadata": {
            "needs_background": "light"
          }
        }
      ]
    },
    {
      "cell_type": "code",
      "source": [
        "plt.figure(figsize=(13,7))\n",
        "df3=df_close.tolist()\n",
        "df3.extend(lst_output)\n",
        "plt.plot(df3[400:])\n"
      ],
      "metadata": {
        "colab": {
          "base_uri": "https://localhost:8080/",
          "height": 446
        },
        "id": "ftttDqrZa6cP",
        "outputId": "d3b782eb-33f6-497f-d2cc-981cfed26dc3"
      },
      "execution_count": 34,
      "outputs": [
        {
          "output_type": "execute_result",
          "data": {
            "text/plain": [
              "[<matplotlib.lines.Line2D at 0x7f49131d3ad0>]"
            ]
          },
          "metadata": {},
          "execution_count": 34
        },
        {
          "output_type": "display_data",
          "data": {
            "text/plain": [
              "<Figure size 936x504 with 1 Axes>"
            ],
            "image/png": "[encoded data removed]"
          },
          "metadata": {
            "needs_background": "light"
          }
        }
      ]
    },
    {
      "cell_type": "code",
      "source": [
        "bb=yf.download(\"GBPUSD=X\",start='2020-1-13',end='2022-1-30')\n",
        "bb_close=bb.reset_index()['Close']\n",
        "plt.figure(figsize=(13,7))\n",
        "plt.plot(bb_close)"
      ],
      "metadata": {
        "colab": {
          "base_uri": "https://localhost:8080/",
          "height": 464
        },
        "id": "QkUs4Qs_AzlR",
        "outputId": "79b9e7da-223b-4d7e-db27-850bcbe8f786"
      },
      "execution_count": 35,
      "outputs": [
        {
          "output_type": "stream",
          "name": "stdout",
          "text": [
            "\r[*********************100%***********************]  1 of 1 completed\n"
          ]
        },
        {
          "output_type": "execute_result",
          "data": {
            "text/plain": [
              "[<matplotlib.lines.Line2D at 0x7f4916beb890>]"
            ]
          },
          "metadata": {},
          "execution_count": 35
        },
        {
          "output_type": "display_data",
          "data": {
            "text/plain": [
              "<Figure size 936x504 with 1 Axes>"
            ],
            "image/png": "[encoded data removed]"
          },
          "metadata": {
            "needs_background": "light"
          }
        }
      ]
    }
  ]
}
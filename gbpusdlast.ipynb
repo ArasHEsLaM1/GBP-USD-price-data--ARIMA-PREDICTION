{
  "nbformat": 4,
  "nbformat_minor": 0,
  "metadata": {
    "colab": {
      "name": "Untitled2.ipynb",
      "provenance": [],
      "authorship_tag": "ABX9TyPyb+zyqqZ7zgByxxPuoCDb",
      "include_colab_link": true
    },
    "kernelspec": {
      "name": "python3",
      "display_name": "Python 3"
    },
    "language_info": {
      "name": "python"
    }
  },
  "cells": [
    {
      "cell_type": "markdown",
      "metadata": {
        "id": "view-in-github",
        "colab_type": "text"
      },
      "source": [
        "<a href=\"https://colab.research.google.com/github/ArasHEsLaM1/machine_learning_with_python_jadi/blob/main/gbpusdlast.ipynb\" target=\"_parent\"><img src=\"https://colab.research.google.com/assets/colab-badge.svg\" alt=\"Open In Colab\"/></a>"
      ]
    },
    {
      "cell_type": "code",
      "execution_count": 167,
      "metadata": {
        "id": "t-98RpfyjcVW"
      },
      "outputs": [],
      "source": [
        "import numpy as np\n",
        "import pandas as pd\n",
        "import matplotlib.pyplot as plt\n",
        "from sklearn.preprocessing import MinMaxScaler \n",
        "import time\n",
        "from keras.models import Sequential,load_model\n",
        "from keras.layers  import Dropout,LSTM,Dense\n",
        "from keras.callbacks import EarlyStopping\n",
        "import yfinance as yf\n"
      ]
    },
    {
      "cell_type": "code",
      "source": [
        "%pip install yfinance\n"
      ],
      "metadata": {
        "colab": {
          "base_uri": "https://localhost:8080/"
        },
        "id": "3v2SJmS2kvrP",
        "outputId": "e5fda480-3764-48c4-e353-eca314f5ffd8"
      },
      "execution_count": 1,
      "outputs": [
        {
          "output_type": "stream",
          "name": "stdout",
          "text": [
            "Looking in indexes: https://pypi.org/simple, https://us-python.pkg.dev/colab-wheels/public/simple/\n",
            "Collecting yfinance\n",
            "  Downloading yfinance-0.1.74-py2.py3-none-any.whl (27 kB)\n",
            "Requirement already satisfied: pandas>=0.24.0 in /usr/local/lib/python3.7/dist-packages (from yfinance) (1.3.5)\n",
            "Collecting requests>=2.26\n",
            "  Downloading requests-2.28.1-py3-none-any.whl (62 kB)\n",
            "\u001b[K     |████████████████████████████████| 62 kB 1.2 MB/s \n",
            "\u001b[?25hCollecting lxml>=4.5.1\n",
            "  Downloading lxml-4.9.1-cp37-cp37m-manylinux_2_17_x86_64.manylinux2014_x86_64.manylinux_2_24_x86_64.whl (6.4 MB)\n",
            "\u001b[K     |████████████████████████████████| 6.4 MB 28.5 MB/s \n",
            "\u001b[?25hRequirement already satisfied: multitasking>=0.0.7 in /usr/local/lib/python3.7/dist-packages (from yfinance) (0.0.11)\n",
            "Requirement already satisfied: numpy>=1.15 in /usr/local/lib/python3.7/dist-packages (from yfinance) (1.21.6)\n",
            "Requirement already satisfied: python-dateutil>=2.7.3 in /usr/local/lib/python3.7/dist-packages (from pandas>=0.24.0->yfinance) (2.8.2)\n",
            "Requirement already satisfied: pytz>=2017.3 in /usr/local/lib/python3.7/dist-packages (from pandas>=0.24.0->yfinance) (2022.1)\n",
            "Requirement already satisfied: six>=1.5 in /usr/local/lib/python3.7/dist-packages (from python-dateutil>=2.7.3->pandas>=0.24.0->yfinance) (1.15.0)\n",
            "Requirement already satisfied: urllib3<1.27,>=1.21.1 in /usr/local/lib/python3.7/dist-packages (from requests>=2.26->yfinance) (1.24.3)\n",
            "Requirement already satisfied: idna<4,>=2.5 in /usr/local/lib/python3.7/dist-packages (from requests>=2.26->yfinance) (2.10)\n",
            "Requirement already satisfied: charset-normalizer<3,>=2 in /usr/local/lib/python3.7/dist-packages (from requests>=2.26->yfinance) (2.1.0)\n",
            "Requirement already satisfied: certifi>=2017.4.17 in /usr/local/lib/python3.7/dist-packages (from requests>=2.26->yfinance) (2022.6.15)\n",
            "Installing collected packages: requests, lxml, yfinance\n",
            "  Attempting uninstall: requests\n",
            "    Found existing installation: requests 2.23.0\n",
            "    Uninstalling requests-2.23.0:\n",
            "      Successfully uninstalled requests-2.23.0\n",
            "  Attempting uninstall: lxml\n",
            "    Found existing installation: lxml 4.2.6\n",
            "    Uninstalling lxml-4.2.6:\n",
            "      Successfully uninstalled lxml-4.2.6\n",
            "\u001b[31mERROR: pip's dependency resolver does not currently take into account all the packages that are installed. This behaviour is the source of the following dependency conflicts.\n",
            "google-colab 1.0.0 requires requests~=2.23.0, but you have requests 2.28.1 which is incompatible.\n",
            "datascience 0.10.6 requires folium==0.2.1, but you have folium 0.8.3 which is incompatible.\u001b[0m\n",
            "Successfully installed lxml-4.9.1 requests-2.28.1 yfinance-0.1.74\n"
          ]
        }
      ]
    },
    {
      "cell_type": "code",
      "source": [
        "basic_data= yf.download(\"GBPUSD=X\",start='2010-01-13',end='2022-1-13')\n"
      ],
      "metadata": {
        "colab": {
          "base_uri": "https://localhost:8080/"
        },
        "id": "Wla8CCoolECu",
        "outputId": "b2a02eb1-4a08-42f5-a5d5-d7a0a254dc86"
      },
      "execution_count": 282,
      "outputs": [
        {
          "output_type": "stream",
          "name": "stdout",
          "text": [
            "\r[*********************100%***********************]  1 of 1 completed\n"
          ]
        }
      ]
    },
    {
      "cell_type": "code",
      "source": [
        "basic_data.head(5)"
      ],
      "metadata": {
        "colab": {
          "base_uri": "https://localhost:8080/",
          "height": 237
        },
        "id": "sf6IqB9Yle_5",
        "outputId": "cd4b8131-c707-4428-db0c-71e0061f34a9"
      },
      "execution_count": 124,
      "outputs": [
        {
          "output_type": "execute_result",
          "data": {
            "text/plain": [
              "                Open      High       Low     Close  Adj Close  Volume\n",
              "Date                                                                 \n",
              "2020-01-13  1.304376  1.304631  1.296193  1.304563   1.304563       0\n",
              "2020-01-14  1.298771  1.301897  1.295673  1.298819   1.298819       0\n",
              "2020-01-15  1.302253  1.304121  1.298921  1.302253   1.302253       0\n",
              "2020-01-16  1.304121  1.308164  1.302898  1.304121   1.304121       0\n",
              "2020-01-17  1.307788  1.311579  1.301778  1.307873   1.307873       0"
            ],
            "text/html": [
              "\n",
              "  <div id=\"df-3fe65fb8-4d20-4d4a-a2e6-bbafbf536dd3\">\n",
              "    <div class=\"colab-df-container\">\n",
              "      <div>\n",
              "<style scoped>\n",
              "    .dataframe tbody tr th:only-of-type {\n",
              "        vertical-align: middle;\n",
              "    }\n",
              "\n",
              "    .dataframe tbody tr th {\n",
              "        vertical-align: top;\n",
              "    }\n",
              "\n",
              "    .dataframe thead th {\n",
              "        text-align: right;\n",
              "    }\n",
              "</style>\n",
              "<table border=\"1\" class=\"dataframe\">\n",
              "  <thead>\n",
              "    <tr style=\"text-align: right;\">\n",
              "      <th></th>\n",
              "      <th>Open</th>\n",
              "      <th>High</th>\n",
              "      <th>Low</th>\n",
              "      <th>Close</th>\n",
              "      <th>Adj Close</th>\n",
              "      <th>Volume</th>\n",
              "    </tr>\n",
              "    <tr>\n",
              "      <th>Date</th>\n",
              "      <th></th>\n",
              "      <th></th>\n",
              "      <th></th>\n",
              "      <th></th>\n",
              "      <th></th>\n",
              "      <th></th>\n",
              "    </tr>\n",
              "  </thead>\n",
              "  <tbody>\n",
              "    <tr>\n",
              "      <th>2020-01-13</th>\n",
              "      <td>1.304376</td>\n",
              "      <td>1.304631</td>\n",
              "      <td>1.296193</td>\n",
              "      <td>1.304563</td>\n",
              "      <td>1.304563</td>\n",
              "      <td>0</td>\n",
              "    </tr>\n",
              "    <tr>\n",
              "      <th>2020-01-14</th>\n",
              "      <td>1.298771</td>\n",
              "      <td>1.301897</td>\n",
              "      <td>1.295673</td>\n",
              "      <td>1.298819</td>\n",
              "      <td>1.298819</td>\n",
              "      <td>0</td>\n",
              "    </tr>\n",
              "    <tr>\n",
              "      <th>2020-01-15</th>\n",
              "      <td>1.302253</td>\n",
              "      <td>1.304121</td>\n",
              "      <td>1.298921</td>\n",
              "      <td>1.302253</td>\n",
              "      <td>1.302253</td>\n",
              "      <td>0</td>\n",
              "    </tr>\n",
              "    <tr>\n",
              "      <th>2020-01-16</th>\n",
              "      <td>1.304121</td>\n",
              "      <td>1.308164</td>\n",
              "      <td>1.302898</td>\n",
              "      <td>1.304121</td>\n",
              "      <td>1.304121</td>\n",
              "      <td>0</td>\n",
              "    </tr>\n",
              "    <tr>\n",
              "      <th>2020-01-17</th>\n",
              "      <td>1.307788</td>\n",
              "      <td>1.311579</td>\n",
              "      <td>1.301778</td>\n",
              "      <td>1.307873</td>\n",
              "      <td>1.307873</td>\n",
              "      <td>0</td>\n",
              "    </tr>\n",
              "  </tbody>\n",
              "</table>\n",
              "</div>\n",
              "      <button class=\"colab-df-convert\" onclick=\"convertToInteractive('df-3fe65fb8-4d20-4d4a-a2e6-bbafbf536dd3')\"\n",
              "              title=\"Convert this dataframe to an interactive table.\"\n",
              "              style=\"display:none;\">\n",
              "        \n",
              "  <svg xmlns=\"http://www.w3.org/2000/svg\" height=\"24px\"viewBox=\"0 0 24 24\"\n",
              "       width=\"24px\">\n",
              "    <path d=\"M0 0h24v24H0V0z\" fill=\"none\"/>\n",
              "    <path d=\"M18.56 5.44l.94 2.06.94-2.06 2.06-.94-2.06-.94-.94-2.06-.94 2.06-2.06.94zm-11 1L8.5 8.5l.94-2.06 2.06-.94-2.06-.94L8.5 2.5l-.94 2.06-2.06.94zm10 10l.94 2.06.94-2.06 2.06-.94-2.06-.94-.94-2.06-.94 2.06-2.06.94z\"/><path d=\"M17.41 7.96l-1.37-1.37c-.4-.4-.92-.59-1.43-.59-.52 0-1.04.2-1.43.59L10.3 9.45l-7.72 7.72c-.78.78-.78 2.05 0 2.83L4 21.41c.39.39.9.59 1.41.59.51 0 1.02-.2 1.41-.59l7.78-7.78 2.81-2.81c.8-.78.8-2.07 0-2.86zM5.41 20L4 18.59l7.72-7.72 1.47 1.35L5.41 20z\"/>\n",
              "  </svg>\n",
              "      </button>\n",
              "      \n",
              "  <style>\n",
              "    .colab-df-container {\n",
              "      display:flex;\n",
              "      flex-wrap:wrap;\n",
              "      gap: 12px;\n",
              "    }\n",
              "\n",
              "    .colab-df-convert {\n",
              "      background-color: #E8F0FE;\n",
              "      border: none;\n",
              "      border-radius: 50%;\n",
              "      cursor: pointer;\n",
              "      display: none;\n",
              "      fill: #1967D2;\n",
              "      height: 32px;\n",
              "      padding: 0 0 0 0;\n",
              "      width: 32px;\n",
              "    }\n",
              "\n",
              "    .colab-df-convert:hover {\n",
              "      background-color: #E2EBFA;\n",
              "      box-shadow: 0px 1px 2px rgba(60, 64, 67, 0.3), 0px 1px 3px 1px rgba(60, 64, 67, 0.15);\n",
              "      fill: #174EA6;\n",
              "    }\n",
              "\n",
              "    [theme=dark] .colab-df-convert {\n",
              "      background-color: #3B4455;\n",
              "      fill: #D2E3FC;\n",
              "    }\n",
              "\n",
              "    [theme=dark] .colab-df-convert:hover {\n",
              "      background-color: #434B5C;\n",
              "      box-shadow: 0px 1px 3px 1px rgba(0, 0, 0, 0.15);\n",
              "      filter: drop-shadow(0px 1px 2px rgba(0, 0, 0, 0.3));\n",
              "      fill: #FFFFFF;\n",
              "    }\n",
              "  </style>\n",
              "\n",
              "      <script>\n",
              "        const buttonEl =\n",
              "          document.querySelector('#df-3fe65fb8-4d20-4d4a-a2e6-bbafbf536dd3 button.colab-df-convert');\n",
              "        buttonEl.style.display =\n",
              "          google.colab.kernel.accessAllowed ? 'block' : 'none';\n",
              "\n",
              "        async function convertToInteractive(key) {\n",
              "          const element = document.querySelector('#df-3fe65fb8-4d20-4d4a-a2e6-bbafbf536dd3');\n",
              "          const dataTable =\n",
              "            await google.colab.kernel.invokeFunction('convertToInteractive',\n",
              "                                                     [key], {});\n",
              "          if (!dataTable) return;\n",
              "\n",
              "          const docLinkHtml = 'Like what you see? Visit the ' +\n",
              "            '<a target=\"_blank\" href=https://colab.research.google.com/notebooks/data_table.ipynb>data table notebook</a>'\n",
              "            + ' to learn more about interactive tables.';\n",
              "          element.innerHTML = '';\n",
              "          dataTable['output_type'] = 'display_data';\n",
              "          await google.colab.output.renderOutput(dataTable, element);\n",
              "          const docLink = document.createElement('div');\n",
              "          docLink.innerHTML = docLinkHtml;\n",
              "          element.appendChild(docLink);\n",
              "        }\n",
              "      </script>\n",
              "    </div>\n",
              "  </div>\n",
              "  "
            ]
          },
          "metadata": {},
          "execution_count": 124
        }
      ]
    },
    {
      "cell_type": "code",
      "source": [
        "basic_data.shape"
      ],
      "metadata": {
        "colab": {
          "base_uri": "https://localhost:8080/"
        },
        "id": "-lODjIZPlheP",
        "outputId": "b933aa53-4f4f-40c0-80f7-459df20a1433"
      },
      "execution_count": 125,
      "outputs": [
        {
          "output_type": "execute_result",
          "data": {
            "text/plain": [
              "(524, 6)"
            ]
          },
          "metadata": {},
          "execution_count": 125
        }
      ]
    },
    {
      "cell_type": "code",
      "source": [
        "df=pd.DataFrame(basic_data)"
      ],
      "metadata": {
        "id": "_Cs1RneQltcu"
      },
      "execution_count": 295,
      "outputs": []
    },
    {
      "cell_type": "code",
      "source": [
        "df_close=df.reset_index()['Close']"
      ],
      "metadata": {
        "id": "561QBW5Wx071"
      },
      "execution_count": 296,
      "outputs": []
    },
    {
      "cell_type": "code",
      "source": [
        "df_close.shape\n"
      ],
      "metadata": {
        "colab": {
          "base_uri": "https://localhost:8080/"
        },
        "id": "uCR9xaasyIKl",
        "outputId": "88ed33ce-9a24-4396-a809-d6479030a23d"
      },
      "execution_count": 297,
      "outputs": [
        {
          "output_type": "execute_result",
          "data": {
            "text/plain": [
              "(3127,)"
            ]
          },
          "metadata": {},
          "execution_count": 297
        }
      ]
    },
    {
      "cell_type": "code",
      "source": [
        "plt.figure(figsize=(20,9))\n",
        "plt.plot(df_close)"
      ],
      "metadata": {
        "colab": {
          "base_uri": "https://localhost:8080/",
          "height": 554
        },
        "id": "qUEa10w-yNok",
        "outputId": "684acb9d-05ac-44d7-c36c-ce6e5911b6ae"
      },
      "execution_count": 298,
      "outputs": [
        {
          "output_type": "execute_result",
          "data": {
            "text/plain": [
              "[<matplotlib.lines.Line2D at 0x7f398bb669d0>]"
            ]
          },
          "metadata": {},
          "execution_count": 298
        },
        {
          "output_type": "display_data",
          "data": {
            "text/plain": [
              "<Figure size 1440x648 with 1 Axes>"
            ],
            "image/png": "[encoded data removed]"
          },
          "metadata": {
            "needs_background": "light"
          }
        }
      ]
    },
    {
      "cell_type": "code",
      "source": [
        "scaler=MinMaxScaler(feature_range=(0,1))\n",
        "df_close=scaler.fit_transform(np.array(df_close).reshape(-1,1))\n",
        "df_close.shape\n",
        "df_close"
      ],
      "metadata": {
        "id": "6JTnR1Gd60V8",
        "colab": {
          "base_uri": "https://localhost:8080/"
        },
        "outputId": "89f246a1-8bec-4425-f65b-6cb73c74897e"
      },
      "execution_count": 300,
      "outputs": [
        {
          "output_type": "execute_result",
          "data": {
            "text/plain": [
              "array([[0.84562182],\n",
              "       [0.85407216],\n",
              "       [0.84276935],\n",
              "       ...,\n",
              "       [0.3681149 ],\n",
              "       [0.37745955],\n",
              "       [0.39100012]])"
            ]
          },
          "metadata": {},
          "execution_count": 300
        }
      ]
    },
    {
      "cell_type": "code",
      "source": [
        "trainig_size=int(len(df_close)*0.8)\n",
        "testing_size=len(df_close)-trainig_size\n",
        "train_data,test_data=df_close[0:trainig_size,:],df_close[trainig_size:len(df_close),:1]\n",
        "trainig_size,testing_size"
      ],
      "metadata": {
        "id": "SIk7dhnV7qwj",
        "colab": {
          "base_uri": "https://localhost:8080/"
        },
        "outputId": "0e311af7-df21-482d-b772-2b46791fdaa4"
      },
      "execution_count": 301,
      "outputs": [
        {
          "output_type": "execute_result",
          "data": {
            "text/plain": [
              "(2501, 626)"
            ]
          },
          "metadata": {},
          "execution_count": 301
        }
      ]
    },
    {
      "cell_type": "code",
      "source": [
        "#Convert an array of values into a dataset matrix\n",
        "def create_dataset(dataset,time_step=1):\n",
        "  dataX,dataY=[],[]\n",
        "  for i in range(len(dataset)-time_step-1):\n",
        "    a=dataset[i:(i+time_step),0]    #i=0, 0,1,2,3,-----99,100\n",
        "    dataX.append(a)\n",
        "    dataY.append(dataset[i+ time_step,0])\n",
        "  return np.array(dataX),np.array(dataY)"
      ],
      "metadata": {
        "id": "XS20RBNR6PD7"
      },
      "execution_count": 302,
      "outputs": []
    },
    {
      "cell_type": "code",
      "source": [
        "time_step=100\n",
        "x_train,y_train=create_dataset(train_data,time_step)\n",
        "x_test,y_test=create_dataset(test_data,time_step)\n"
      ],
      "metadata": {
        "id": "O0KBcIKj-Fxs"
      },
      "execution_count": 303,
      "outputs": []
    },
    {
      "cell_type": "code",
      "source": [
        "x_train\n"
      ],
      "metadata": {
        "colab": {
          "base_uri": "https://localhost:8080/"
        },
        "id": "wpj5Gk4ZFc1h",
        "outputId": "7ffb368f-214d-4b3e-b239-c6013f6fd128"
      },
      "execution_count": 304,
      "outputs": [
        {
          "output_type": "execute_result",
          "data": {
            "text/plain": [
              "array([[0.84562182, 0.85407216, 0.84276935, ..., 0.52211461, 0.53430058,\n",
              "        0.55989837],\n",
              "       [0.85407216, 0.84276935, 0.85741902, ..., 0.53430058, 0.55989837,\n",
              "        0.55690263],\n",
              "       [0.84276935, 0.85741902, 0.8580796 , ..., 0.55989837, 0.55690263,\n",
              "        0.5540651 ],\n",
              "       ...,\n",
              "       [0.29265215, 0.27568078, 0.26973937, ..., 0.10312663, 0.10055501,\n",
              "        0.09988749],\n",
              "       [0.27568078, 0.26973937, 0.2778792 , ..., 0.10055501, 0.09988749,\n",
              "        0.10539469],\n",
              "       [0.26973937, 0.2778792 , 0.28823386, ..., 0.09988749, 0.10539469,\n",
              "        0.11764314]])"
            ]
          },
          "metadata": {},
          "execution_count": 304
        }
      ]
    },
    {
      "cell_type": "code",
      "source": [
        "x_train.shape\n",
        "#(number of records,time_step)"
      ],
      "metadata": {
        "colab": {
          "base_uri": "https://localhost:8080/"
        },
        "id": "_nq7wPL1Fe8h",
        "outputId": "6ec50f49-b5ba-411f-b347-ccec8a52d4e3"
      },
      "execution_count": 305,
      "outputs": [
        {
          "output_type": "execute_result",
          "data": {
            "text/plain": [
              "(2400, 100)"
            ]
          },
          "metadata": {},
          "execution_count": 305
        }
      ]
    },
    {
      "cell_type": "code",
      "source": [
        "#CREATE A LSTM MODEL"
      ],
      "metadata": {
        "id": "LQJJ-Vl0GFGf"
      },
      "execution_count": null,
      "outputs": []
    },
    {
      "cell_type": "code",
      "source": [
        "#RESHAPE INPUT TO BE [samples,time steps,feature] which is required for LSTM\n",
        "x_train=x_train.reshape(x_train.shape[0],x_train.shape[1],1)    #last one for convert into 3D model\n",
        "x_test= x_test.reshape(x_test.shape[0],x_test.shape[1],1)"
      ],
      "metadata": {
        "id": "bfWlgcVIGppZ"
      },
      "execution_count": 306,
      "outputs": []
    },
    {
      "cell_type": "code",
      "source": [
        "#CREAT LSTM MODEL CELL\n",
        "model=Sequential()\n",
        "model.add(LSTM(50,return_sequences=True,input_shape=(100,1))) #100 for time steps  LSTM LAYER 1\n",
        "model.add(LSTM(50,return_sequences=True))                                         #LSTM LAYER 2\n",
        "model.add(LSTM(50))                                                               #LSTM LAYER 3\n",
        "model.add(Dense(1))\n",
        "model.compile(loss='mean_squared_error',optimizer='adam')   #LOSS FUNCRION ALGORITHM=MSE , OPTIMIZER ALGORITHM =ADAM"
      ],
      "metadata": {
        "id": "JKAKE45uILkp"
      },
      "execution_count": 307,
      "outputs": []
    },
    {
      "cell_type": "code",
      "source": [
        "model.fit(x_train,y_train,validation_data=(x_test,y_test),epochs=200,batch_size=64,verbose=1)"
      ],
      "metadata": {
        "colab": {
          "base_uri": "https://localhost:8080/"
        },
        "id": "J16_jw3sKknA",
        "outputId": "3f724d8d-79b1-4410-f061-911812ccff63"
      },
      "execution_count": 308,
      "outputs": [
        {
          "output_type": "stream",
          "name": "stdout",
          "text": [
            "Epoch 1/200\n",
            "38/38 [==============================] - 15s 241ms/step - loss: 0.0329 - val_loss: 0.0047\n",
            "Epoch 2/200\n",
            "38/38 [==============================] - 8s 203ms/step - loss: 0.0021 - val_loss: 0.0017\n",
            "Epoch 3/200\n",
            "38/38 [==============================] - 8s 206ms/step - loss: 0.0016 - val_loss: 0.0013\n",
            "Epoch 4/200\n",
            "38/38 [==============================] - 8s 200ms/step - loss: 0.0015 - val_loss: 0.0013\n",
            "Epoch 5/200\n",
            "38/38 [==============================] - 8s 202ms/step - loss: 0.0014 - val_loss: 0.0013\n",
            "Epoch 6/200\n",
            "38/38 [==============================] - 8s 203ms/step - loss: 0.0014 - val_loss: 0.0012\n",
            "Epoch 7/200\n",
            "38/38 [==============================] - 8s 203ms/step - loss: 0.0014 - val_loss: 0.0013\n",
            "Epoch 8/200\n",
            "38/38 [==============================] - 8s 202ms/step - loss: 0.0013 - val_loss: 0.0013\n",
            "Epoch 9/200\n",
            "38/38 [==============================] - 8s 204ms/step - loss: 0.0013 - val_loss: 0.0012\n",
            "Epoch 10/200\n",
            "38/38 [==============================] - 8s 203ms/step - loss: 0.0013 - val_loss: 0.0012\n",
            "Epoch 11/200\n",
            "38/38 [==============================] - 8s 201ms/step - loss: 0.0012 - val_loss: 0.0011\n",
            "Epoch 12/200\n",
            "38/38 [==============================] - 8s 204ms/step - loss: 0.0012 - val_loss: 0.0011\n",
            "Epoch 13/200\n",
            "38/38 [==============================] - 8s 201ms/step - loss: 0.0011 - val_loss: 0.0011\n",
            "Epoch 14/200\n",
            "38/38 [==============================] - 8s 202ms/step - loss: 0.0011 - val_loss: 0.0010\n",
            "Epoch 15/200\n",
            "38/38 [==============================] - 8s 201ms/step - loss: 0.0010 - val_loss: 0.0010\n",
            "Epoch 16/200\n",
            "38/38 [==============================] - 8s 202ms/step - loss: 9.9619e-04 - val_loss: 9.8976e-04\n",
            "Epoch 17/200\n",
            "38/38 [==============================] - 8s 205ms/step - loss: 9.4659e-04 - val_loss: 9.7596e-04\n",
            "Epoch 18/200\n",
            "38/38 [==============================] - 8s 205ms/step - loss: 0.0010 - val_loss: 9.6072e-04\n",
            "Epoch 19/200\n",
            "38/38 [==============================] - 8s 203ms/step - loss: 8.9881e-04 - val_loss: 9.7432e-04\n",
            "Epoch 20/200\n",
            "38/38 [==============================] - 8s 203ms/step - loss: 9.5241e-04 - val_loss: 9.1534e-04\n",
            "Epoch 21/200\n",
            "38/38 [==============================] - 8s 203ms/step - loss: 9.2315e-04 - val_loss: 0.0010\n",
            "Epoch 22/200\n",
            "38/38 [==============================] - 8s 203ms/step - loss: 8.8655e-04 - val_loss: 9.1717e-04\n",
            "Epoch 23/200\n",
            "38/38 [==============================] - 8s 201ms/step - loss: 8.1604e-04 - val_loss: 8.5946e-04\n",
            "Epoch 24/200\n",
            "38/38 [==============================] - 8s 202ms/step - loss: 7.8696e-04 - val_loss: 8.5486e-04\n",
            "Epoch 25/200\n",
            "38/38 [==============================] - 8s 201ms/step - loss: 7.4205e-04 - val_loss: 8.1639e-04\n",
            "Epoch 26/200\n",
            "38/38 [==============================] - 8s 201ms/step - loss: 7.2987e-04 - val_loss: 8.0053e-04\n",
            "Epoch 27/200\n",
            "38/38 [==============================] - 8s 199ms/step - loss: 6.9832e-04 - val_loss: 8.0865e-04\n",
            "Epoch 28/200\n",
            "38/38 [==============================] - 8s 201ms/step - loss: 6.9773e-04 - val_loss: 7.6571e-04\n",
            "Epoch 29/200\n",
            "38/38 [==============================] - 8s 202ms/step - loss: 6.7059e-04 - val_loss: 7.4246e-04\n",
            "Epoch 30/200\n",
            "38/38 [==============================] - 8s 200ms/step - loss: 7.1816e-04 - val_loss: 7.4315e-04\n",
            "Epoch 31/200\n",
            "38/38 [==============================] - 8s 199ms/step - loss: 6.5759e-04 - val_loss: 7.2130e-04\n",
            "Epoch 32/200\n",
            "38/38 [==============================] - 8s 203ms/step - loss: 5.9194e-04 - val_loss: 7.4010e-04\n",
            "Epoch 33/200\n",
            "38/38 [==============================] - 8s 200ms/step - loss: 5.9188e-04 - val_loss: 6.9304e-04\n",
            "Epoch 34/200\n",
            "38/38 [==============================] - 8s 200ms/step - loss: 5.4995e-04 - val_loss: 6.6908e-04\n",
            "Epoch 35/200\n",
            "38/38 [==============================] - 8s 199ms/step - loss: 5.3769e-04 - val_loss: 6.7122e-04\n",
            "Epoch 36/200\n",
            "38/38 [==============================] - 9s 229ms/step - loss: 5.7337e-04 - val_loss: 6.3096e-04\n",
            "Epoch 37/200\n",
            "38/38 [==============================] - 8s 199ms/step - loss: 5.1402e-04 - val_loss: 6.1324e-04\n",
            "Epoch 38/200\n",
            "38/38 [==============================] - 8s 201ms/step - loss: 4.7846e-04 - val_loss: 6.1129e-04\n",
            "Epoch 39/200\n",
            "38/38 [==============================] - 8s 199ms/step - loss: 5.1940e-04 - val_loss: 6.4554e-04\n",
            "Epoch 40/200\n",
            "38/38 [==============================] - 8s 201ms/step - loss: 4.7569e-04 - val_loss: 5.7286e-04\n",
            "Epoch 41/200\n",
            "38/38 [==============================] - 8s 201ms/step - loss: 5.7121e-04 - val_loss: 5.9400e-04\n",
            "Epoch 42/200\n",
            "38/38 [==============================] - 8s 199ms/step - loss: 5.2616e-04 - val_loss: 5.5655e-04\n",
            "Epoch 43/200\n",
            "38/38 [==============================] - 8s 201ms/step - loss: 4.5119e-04 - val_loss: 5.5010e-04\n",
            "Epoch 44/200\n",
            "38/38 [==============================] - 8s 200ms/step - loss: 4.1805e-04 - val_loss: 5.6940e-04\n",
            "Epoch 45/200\n",
            "38/38 [==============================] - 8s 202ms/step - loss: 4.1635e-04 - val_loss: 5.3648e-04\n",
            "Epoch 46/200\n",
            "38/38 [==============================] - 8s 202ms/step - loss: 4.1112e-04 - val_loss: 5.0173e-04\n",
            "Epoch 47/200\n",
            "38/38 [==============================] - 8s 198ms/step - loss: 4.1164e-04 - val_loss: 4.8854e-04\n",
            "Epoch 48/200\n",
            "38/38 [==============================] - 8s 202ms/step - loss: 4.9108e-04 - val_loss: 5.3114e-04\n",
            "Epoch 49/200\n",
            "38/38 [==============================] - 8s 201ms/step - loss: 3.9566e-04 - val_loss: 4.7752e-04\n",
            "Epoch 50/200\n",
            "38/38 [==============================] - 8s 199ms/step - loss: 5.2746e-04 - val_loss: 4.6580e-04\n",
            "Epoch 51/200\n",
            "38/38 [==============================] - 8s 199ms/step - loss: 4.2972e-04 - val_loss: 4.5963e-04\n",
            "Epoch 52/200\n",
            "38/38 [==============================] - 8s 202ms/step - loss: 3.5903e-04 - val_loss: 4.6018e-04\n",
            "Epoch 53/200\n",
            "38/38 [==============================] - 8s 203ms/step - loss: 3.8297e-04 - val_loss: 4.7359e-04\n",
            "Epoch 54/200\n",
            "38/38 [==============================] - 8s 201ms/step - loss: 3.5208e-04 - val_loss: 4.4739e-04\n",
            "Epoch 55/200\n",
            "38/38 [==============================] - 8s 201ms/step - loss: 3.3497e-04 - val_loss: 4.1240e-04\n",
            "Epoch 56/200\n",
            "38/38 [==============================] - 8s 203ms/step - loss: 3.1571e-04 - val_loss: 3.9616e-04\n",
            "Epoch 57/200\n",
            "38/38 [==============================] - 8s 200ms/step - loss: 3.5735e-04 - val_loss: 4.5904e-04\n",
            "Epoch 58/200\n",
            "38/38 [==============================] - 8s 201ms/step - loss: 3.4684e-04 - val_loss: 4.4584e-04\n",
            "Epoch 59/200\n",
            "38/38 [==============================] - 8s 202ms/step - loss: 4.4203e-04 - val_loss: 3.8371e-04\n",
            "Epoch 60/200\n",
            "38/38 [==============================] - 8s 202ms/step - loss: 3.4352e-04 - val_loss: 3.6865e-04\n",
            "Epoch 61/200\n",
            "38/38 [==============================] - 8s 200ms/step - loss: 2.9841e-04 - val_loss: 3.6251e-04\n",
            "Epoch 62/200\n",
            "38/38 [==============================] - 8s 200ms/step - loss: 3.3527e-04 - val_loss: 3.5028e-04\n",
            "Epoch 63/200\n",
            "38/38 [==============================] - 8s 200ms/step - loss: 3.0740e-04 - val_loss: 4.0879e-04\n",
            "Epoch 64/200\n",
            "38/38 [==============================] - 8s 202ms/step - loss: 3.5646e-04 - val_loss: 3.7842e-04\n",
            "Epoch 65/200\n",
            "38/38 [==============================] - 8s 203ms/step - loss: 3.4091e-04 - val_loss: 3.3225e-04\n",
            "Epoch 66/200\n",
            "38/38 [==============================] - 8s 199ms/step - loss: 2.8151e-04 - val_loss: 3.5099e-04\n",
            "Epoch 67/200\n",
            "38/38 [==============================] - 8s 201ms/step - loss: 2.6951e-04 - val_loss: 3.2583e-04\n",
            "Epoch 68/200\n",
            "38/38 [==============================] - 8s 199ms/step - loss: 2.9094e-04 - val_loss: 3.5687e-04\n",
            "Epoch 69/200\n",
            "38/38 [==============================] - 8s 199ms/step - loss: 2.6020e-04 - val_loss: 3.0523e-04\n",
            "Epoch 70/200\n",
            "38/38 [==============================] - 8s 201ms/step - loss: 2.9963e-04 - val_loss: 3.3217e-04\n",
            "Epoch 71/200\n",
            "38/38 [==============================] - 8s 199ms/step - loss: 3.1117e-04 - val_loss: 3.0352e-04\n",
            "Epoch 72/200\n",
            "38/38 [==============================] - 8s 202ms/step - loss: 2.4344e-04 - val_loss: 2.8669e-04\n",
            "Epoch 73/200\n",
            "38/38 [==============================] - 8s 200ms/step - loss: 2.4327e-04 - val_loss: 3.1191e-04\n",
            "Epoch 74/200\n",
            "38/38 [==============================] - 8s 202ms/step - loss: 2.6169e-04 - val_loss: 3.0382e-04\n",
            "Epoch 75/200\n",
            "38/38 [==============================] - 8s 201ms/step - loss: 2.7635e-04 - val_loss: 3.3709e-04\n",
            "Epoch 76/200\n",
            "38/38 [==============================] - 8s 202ms/step - loss: 2.6282e-04 - val_loss: 2.7968e-04\n",
            "Epoch 77/200\n",
            "38/38 [==============================] - 8s 201ms/step - loss: 2.4215e-04 - val_loss: 2.9176e-04\n",
            "Epoch 78/200\n",
            "38/38 [==============================] - 8s 200ms/step - loss: 2.6675e-04 - val_loss: 2.6360e-04\n",
            "Epoch 79/200\n",
            "38/38 [==============================] - 8s 200ms/step - loss: 2.4130e-04 - val_loss: 2.5780e-04\n",
            "Epoch 80/200\n",
            "38/38 [==============================] - 8s 203ms/step - loss: 2.2163e-04 - val_loss: 2.6145e-04\n",
            "Epoch 81/200\n",
            "38/38 [==============================] - 8s 204ms/step - loss: 2.2919e-04 - val_loss: 3.0172e-04\n",
            "Epoch 82/200\n",
            "38/38 [==============================] - 8s 202ms/step - loss: 2.5951e-04 - val_loss: 2.5318e-04\n",
            "Epoch 83/200\n",
            "38/38 [==============================] - 8s 201ms/step - loss: 2.2847e-04 - val_loss: 2.4475e-04\n",
            "Epoch 84/200\n",
            "38/38 [==============================] - 8s 199ms/step - loss: 2.5351e-04 - val_loss: 2.8405e-04\n",
            "Epoch 85/200\n",
            "38/38 [==============================] - 8s 200ms/step - loss: 2.8270e-04 - val_loss: 2.5771e-04\n",
            "Epoch 86/200\n",
            "38/38 [==============================] - 8s 200ms/step - loss: 2.3657e-04 - val_loss: 2.4987e-04\n",
            "Epoch 87/200\n",
            "38/38 [==============================] - 8s 202ms/step - loss: 2.4826e-04 - val_loss: 2.5186e-04\n",
            "Epoch 88/200\n",
            "38/38 [==============================] - 8s 201ms/step - loss: 2.4593e-04 - val_loss: 2.3659e-04\n",
            "Epoch 89/200\n",
            "38/38 [==============================] - 8s 201ms/step - loss: 2.6654e-04 - val_loss: 2.3800e-04\n",
            "Epoch 90/200\n",
            "38/38 [==============================] - 8s 202ms/step - loss: 2.8930e-04 - val_loss: 2.3746e-04\n",
            "Epoch 91/200\n",
            "38/38 [==============================] - 8s 200ms/step - loss: 3.1570e-04 - val_loss: 2.4855e-04\n",
            "Epoch 92/200\n",
            "38/38 [==============================] - 8s 200ms/step - loss: 2.3317e-04 - val_loss: 2.4156e-04\n",
            "Epoch 93/200\n",
            "38/38 [==============================] - 8s 202ms/step - loss: 2.2147e-04 - val_loss: 2.6164e-04\n",
            "Epoch 94/200\n",
            "38/38 [==============================] - 8s 200ms/step - loss: 2.2903e-04 - val_loss: 2.3380e-04\n",
            "Epoch 95/200\n",
            "38/38 [==============================] - 8s 202ms/step - loss: 2.4639e-04 - val_loss: 2.3831e-04\n",
            "Epoch 96/200\n",
            "38/38 [==============================] - 8s 199ms/step - loss: 2.6809e-04 - val_loss: 2.3182e-04\n",
            "Epoch 97/200\n",
            "38/38 [==============================] - 8s 198ms/step - loss: 2.1692e-04 - val_loss: 2.3422e-04\n",
            "Epoch 98/200\n",
            "38/38 [==============================] - 8s 201ms/step - loss: 2.2719e-04 - val_loss: 2.2641e-04\n",
            "Epoch 99/200\n",
            "38/38 [==============================] - 8s 202ms/step - loss: 2.2804e-04 - val_loss: 2.2763e-04\n",
            "Epoch 100/200\n",
            "38/38 [==============================] - 8s 203ms/step - loss: 2.0731e-04 - val_loss: 2.2583e-04\n",
            "Epoch 101/200\n",
            "38/38 [==============================] - 8s 198ms/step - loss: 2.2779e-04 - val_loss: 2.2560e-04\n",
            "Epoch 102/200\n",
            "38/38 [==============================] - 8s 198ms/step - loss: 2.2902e-04 - val_loss: 2.2778e-04\n",
            "Epoch 103/200\n",
            "38/38 [==============================] - 8s 200ms/step - loss: 2.4102e-04 - val_loss: 2.3548e-04\n",
            "Epoch 104/200\n",
            "38/38 [==============================] - 8s 199ms/step - loss: 2.7940e-04 - val_loss: 2.4278e-04\n",
            "Epoch 105/200\n",
            "38/38 [==============================] - 8s 200ms/step - loss: 2.1924e-04 - val_loss: 2.5569e-04\n",
            "Epoch 106/200\n",
            "38/38 [==============================] - 8s 202ms/step - loss: 2.1921e-04 - val_loss: 2.1929e-04\n",
            "Epoch 107/200\n",
            "38/38 [==============================] - 7s 197ms/step - loss: 2.2333e-04 - val_loss: 2.4029e-04\n",
            "Epoch 108/200\n",
            "38/38 [==============================] - 8s 199ms/step - loss: 2.1096e-04 - val_loss: 2.2125e-04\n",
            "Epoch 109/200\n",
            "38/38 [==============================] - 8s 199ms/step - loss: 2.2473e-04 - val_loss: 2.5132e-04\n",
            "Epoch 110/200\n",
            "38/38 [==============================] - 8s 200ms/step - loss: 2.5987e-04 - val_loss: 2.2060e-04\n",
            "Epoch 111/200\n",
            "38/38 [==============================] - 8s 200ms/step - loss: 2.7077e-04 - val_loss: 2.2296e-04\n",
            "Epoch 112/200\n",
            "38/38 [==============================] - 8s 202ms/step - loss: 2.1831e-04 - val_loss: 2.2219e-04\n",
            "Epoch 113/200\n",
            "38/38 [==============================] - 8s 201ms/step - loss: 2.5483e-04 - val_loss: 2.1945e-04\n",
            "Epoch 114/200\n",
            "38/38 [==============================] - 8s 201ms/step - loss: 2.1263e-04 - val_loss: 2.2269e-04\n",
            "Epoch 115/200\n",
            "38/38 [==============================] - 8s 202ms/step - loss: 2.3269e-04 - val_loss: 2.2449e-04\n",
            "Epoch 116/200\n",
            "38/38 [==============================] - 8s 201ms/step - loss: 2.3377e-04 - val_loss: 2.2103e-04\n",
            "Epoch 117/200\n",
            "38/38 [==============================] - 8s 201ms/step - loss: 2.3170e-04 - val_loss: 2.4077e-04\n",
            "Epoch 118/200\n",
            "38/38 [==============================] - 8s 198ms/step - loss: 2.1907e-04 - val_loss: 2.1965e-04\n",
            "Epoch 119/200\n",
            "38/38 [==============================] - 8s 203ms/step - loss: 2.3246e-04 - val_loss: 2.2525e-04\n",
            "Epoch 120/200\n",
            "38/38 [==============================] - 8s 202ms/step - loss: 2.1149e-04 - val_loss: 2.0842e-04\n",
            "Epoch 121/200\n",
            "38/38 [==============================] - 8s 203ms/step - loss: 2.6775e-04 - val_loss: 2.1620e-04\n",
            "Epoch 122/200\n",
            "38/38 [==============================] - 8s 199ms/step - loss: 2.2710e-04 - val_loss: 2.3261e-04\n",
            "Epoch 123/200\n",
            "38/38 [==============================] - 8s 199ms/step - loss: 2.1059e-04 - val_loss: 2.0759e-04\n",
            "Epoch 124/200\n",
            "38/38 [==============================] - 8s 204ms/step - loss: 2.4542e-04 - val_loss: 2.1282e-04\n",
            "Epoch 125/200\n",
            "38/38 [==============================] - 8s 206ms/step - loss: 2.4129e-04 - val_loss: 2.2622e-04\n",
            "Epoch 126/200\n",
            "38/38 [==============================] - 8s 203ms/step - loss: 2.4838e-04 - val_loss: 2.3607e-04\n",
            "Epoch 127/200\n",
            "38/38 [==============================] - 8s 202ms/step - loss: 2.3048e-04 - val_loss: 2.0543e-04\n",
            "Epoch 128/200\n",
            "38/38 [==============================] - 8s 206ms/step - loss: 2.1275e-04 - val_loss: 2.0877e-04\n",
            "Epoch 129/200\n",
            "38/38 [==============================] - 8s 206ms/step - loss: 2.3705e-04 - val_loss: 2.1405e-04\n",
            "Epoch 130/200\n",
            "38/38 [==============================] - 8s 206ms/step - loss: 2.2294e-04 - val_loss: 2.0732e-04\n",
            "Epoch 131/200\n",
            "38/38 [==============================] - 8s 205ms/step - loss: 2.1565e-04 - val_loss: 2.1094e-04\n",
            "Epoch 132/200\n",
            "38/38 [==============================] - 9s 233ms/step - loss: 2.2800e-04 - val_loss: 2.0281e-04\n",
            "Epoch 133/200\n",
            "38/38 [==============================] - 8s 203ms/step - loss: 2.2227e-04 - val_loss: 2.1034e-04\n",
            "Epoch 134/200\n",
            "38/38 [==============================] - 8s 204ms/step - loss: 2.2508e-04 - val_loss: 2.3186e-04\n",
            "Epoch 135/200\n",
            "38/38 [==============================] - 8s 204ms/step - loss: 2.3488e-04 - val_loss: 2.4698e-04\n",
            "Epoch 136/200\n",
            "38/38 [==============================] - 8s 204ms/step - loss: 2.0559e-04 - val_loss: 2.0796e-04\n",
            "Epoch 137/200\n",
            "38/38 [==============================] - 8s 203ms/step - loss: 2.0932e-04 - val_loss: 2.0214e-04\n",
            "Epoch 138/200\n",
            "38/38 [==============================] - 8s 204ms/step - loss: 2.3071e-04 - val_loss: 2.2331e-04\n",
            "Epoch 139/200\n",
            "38/38 [==============================] - 8s 208ms/step - loss: 2.1017e-04 - val_loss: 2.1818e-04\n",
            "Epoch 140/200\n",
            "38/38 [==============================] - 8s 204ms/step - loss: 2.4991e-04 - val_loss: 2.2803e-04\n",
            "Epoch 141/200\n",
            "38/38 [==============================] - 8s 203ms/step - loss: 2.2737e-04 - val_loss: 2.0093e-04\n",
            "Epoch 142/200\n",
            "38/38 [==============================] - 8s 202ms/step - loss: 2.1885e-04 - val_loss: 2.5863e-04\n",
            "Epoch 143/200\n",
            "38/38 [==============================] - 8s 203ms/step - loss: 2.2181e-04 - val_loss: 1.9823e-04\n",
            "Epoch 144/200\n",
            "38/38 [==============================] - 8s 204ms/step - loss: 2.3042e-04 - val_loss: 2.3244e-04\n",
            "Epoch 145/200\n",
            "38/38 [==============================] - 8s 202ms/step - loss: 2.3047e-04 - val_loss: 2.0657e-04\n",
            "Epoch 146/200\n",
            "38/38 [==============================] - 8s 200ms/step - loss: 2.0575e-04 - val_loss: 2.5505e-04\n",
            "Epoch 147/200\n",
            "38/38 [==============================] - 8s 202ms/step - loss: 2.3262e-04 - val_loss: 2.0332e-04\n",
            "Epoch 148/200\n",
            "38/38 [==============================] - 8s 201ms/step - loss: 2.3940e-04 - val_loss: 2.2101e-04\n",
            "Epoch 149/200\n",
            "38/38 [==============================] - 8s 199ms/step - loss: 2.5192e-04 - val_loss: 2.0771e-04\n",
            "Epoch 150/200\n",
            "38/38 [==============================] - 8s 203ms/step - loss: 2.3400e-04 - val_loss: 2.4939e-04\n",
            "Epoch 151/200\n",
            "38/38 [==============================] - 8s 201ms/step - loss: 2.5141e-04 - val_loss: 2.0398e-04\n",
            "Epoch 152/200\n",
            "38/38 [==============================] - 8s 199ms/step - loss: 2.0229e-04 - val_loss: 1.9670e-04\n",
            "Epoch 153/200\n",
            "38/38 [==============================] - 8s 199ms/step - loss: 2.1750e-04 - val_loss: 1.9664e-04\n",
            "Epoch 154/200\n",
            "38/38 [==============================] - 8s 201ms/step - loss: 2.1002e-04 - val_loss: 1.9336e-04\n",
            "Epoch 155/200\n",
            "38/38 [==============================] - 8s 202ms/step - loss: 2.1005e-04 - val_loss: 1.9942e-04\n",
            "Epoch 156/200\n",
            "38/38 [==============================] - 8s 202ms/step - loss: 2.0807e-04 - val_loss: 2.1090e-04\n",
            "Epoch 157/200\n",
            "38/38 [==============================] - 8s 203ms/step - loss: 2.4051e-04 - val_loss: 1.9251e-04\n",
            "Epoch 158/200\n",
            "38/38 [==============================] - 8s 201ms/step - loss: 2.0132e-04 - val_loss: 2.0576e-04\n",
            "Epoch 159/200\n",
            "38/38 [==============================] - 8s 201ms/step - loss: 2.4395e-04 - val_loss: 1.9625e-04\n",
            "Epoch 160/200\n",
            "38/38 [==============================] - 8s 200ms/step - loss: 2.1277e-04 - val_loss: 2.7032e-04\n",
            "Epoch 161/200\n",
            "38/38 [==============================] - 8s 200ms/step - loss: 2.3593e-04 - val_loss: 2.0282e-04\n",
            "Epoch 162/200\n",
            "38/38 [==============================] - 8s 199ms/step - loss: 2.1110e-04 - val_loss: 2.0386e-04\n",
            "Epoch 163/200\n",
            "38/38 [==============================] - 8s 201ms/step - loss: 2.0982e-04 - val_loss: 2.0029e-04\n",
            "Epoch 164/200\n",
            "38/38 [==============================] - 8s 201ms/step - loss: 2.0067e-04 - val_loss: 2.3735e-04\n",
            "Epoch 165/200\n",
            "38/38 [==============================] - 8s 202ms/step - loss: 2.4107e-04 - val_loss: 1.9071e-04\n",
            "Epoch 166/200\n",
            "38/38 [==============================] - 9s 228ms/step - loss: 2.2851e-04 - val_loss: 1.9255e-04\n",
            "Epoch 167/200\n",
            "38/38 [==============================] - 8s 202ms/step - loss: 2.0495e-04 - val_loss: 2.0634e-04\n",
            "Epoch 168/200\n",
            "38/38 [==============================] - 8s 200ms/step - loss: 2.1693e-04 - val_loss: 2.2507e-04\n",
            "Epoch 169/200\n",
            "38/38 [==============================] - 8s 203ms/step - loss: 2.4171e-04 - val_loss: 2.5266e-04\n",
            "Epoch 170/200\n",
            "38/38 [==============================] - 8s 203ms/step - loss: 2.8706e-04 - val_loss: 2.2564e-04\n",
            "Epoch 171/200\n",
            "38/38 [==============================] - 8s 200ms/step - loss: 2.1494e-04 - val_loss: 2.3739e-04\n",
            "Epoch 172/200\n",
            "38/38 [==============================] - 8s 200ms/step - loss: 2.4142e-04 - val_loss: 1.9596e-04\n",
            "Epoch 173/200\n",
            "38/38 [==============================] - 8s 201ms/step - loss: 2.2667e-04 - val_loss: 1.9817e-04\n",
            "Epoch 174/200\n",
            "38/38 [==============================] - 8s 201ms/step - loss: 2.1184e-04 - val_loss: 2.0051e-04\n",
            "Epoch 175/200\n",
            "38/38 [==============================] - 8s 200ms/step - loss: 2.1743e-04 - val_loss: 1.9068e-04\n",
            "Epoch 176/200\n",
            "38/38 [==============================] - 8s 198ms/step - loss: 2.1117e-04 - val_loss: 2.2588e-04\n",
            "Epoch 177/200\n",
            "38/38 [==============================] - 8s 203ms/step - loss: 2.0855e-04 - val_loss: 2.1299e-04\n",
            "Epoch 178/200\n",
            "38/38 [==============================] - 8s 200ms/step - loss: 2.2238e-04 - val_loss: 2.1224e-04\n",
            "Epoch 179/200\n",
            "38/38 [==============================] - 8s 203ms/step - loss: 2.3658e-04 - val_loss: 1.9105e-04\n",
            "Epoch 180/200\n",
            "38/38 [==============================] - 8s 202ms/step - loss: 2.1950e-04 - val_loss: 1.9059e-04\n",
            "Epoch 181/200\n",
            "38/38 [==============================] - 8s 202ms/step - loss: 2.1223e-04 - val_loss: 1.8890e-04\n",
            "Epoch 182/200\n",
            "38/38 [==============================] - 8s 202ms/step - loss: 2.2144e-04 - val_loss: 2.1168e-04\n",
            "Epoch 183/200\n",
            "38/38 [==============================] - 8s 202ms/step - loss: 2.1243e-04 - val_loss: 2.0384e-04\n",
            "Epoch 184/200\n",
            "38/38 [==============================] - 8s 200ms/step - loss: 2.0638e-04 - val_loss: 2.3777e-04\n",
            "Epoch 185/200\n",
            "38/38 [==============================] - 8s 202ms/step - loss: 2.5591e-04 - val_loss: 1.8889e-04\n",
            "Epoch 186/200\n",
            "38/38 [==============================] - 8s 201ms/step - loss: 2.1043e-04 - val_loss: 2.0562e-04\n",
            "Epoch 187/200\n",
            "38/38 [==============================] - 8s 201ms/step - loss: 2.0879e-04 - val_loss: 2.0719e-04\n",
            "Epoch 188/200\n",
            "38/38 [==============================] - 8s 199ms/step - loss: 2.3169e-04 - val_loss: 2.0257e-04\n",
            "Epoch 189/200\n",
            "38/38 [==============================] - 8s 200ms/step - loss: 2.0623e-04 - val_loss: 2.0535e-04\n",
            "Epoch 190/200\n",
            "38/38 [==============================] - 8s 202ms/step - loss: 2.2027e-04 - val_loss: 2.1234e-04\n",
            "Epoch 191/200\n",
            "38/38 [==============================] - 9s 228ms/step - loss: 2.2670e-04 - val_loss: 2.1607e-04\n",
            "Epoch 192/200\n",
            "38/38 [==============================] - 8s 199ms/step - loss: 2.1115e-04 - val_loss: 2.1448e-04\n",
            "Epoch 193/200\n",
            "38/38 [==============================] - 8s 202ms/step - loss: 2.1566e-04 - val_loss: 2.0636e-04\n",
            "Epoch 194/200\n",
            "38/38 [==============================] - 8s 201ms/step - loss: 2.1121e-04 - val_loss: 1.8793e-04\n",
            "Epoch 195/200\n",
            "38/38 [==============================] - 8s 201ms/step - loss: 2.3383e-04 - val_loss: 1.8822e-04\n",
            "Epoch 196/200\n",
            "38/38 [==============================] - 8s 203ms/step - loss: 2.0918e-04 - val_loss: 1.8823e-04\n",
            "Epoch 197/200\n",
            "38/38 [==============================] - 8s 202ms/step - loss: 2.0538e-04 - val_loss: 2.0967e-04\n",
            "Epoch 198/200\n",
            "38/38 [==============================] - 8s 202ms/step - loss: 2.4974e-04 - val_loss: 1.9363e-04\n",
            "Epoch 199/200\n",
            "38/38 [==============================] - 8s 201ms/step - loss: 2.4236e-04 - val_loss: 1.8832e-04\n",
            "Epoch 200/200\n",
            "38/38 [==============================] - 8s 202ms/step - loss: 2.2313e-04 - val_loss: 2.6526e-04\n"
          ]
        },
        {
          "output_type": "execute_result",
          "data": {
            "text/plain": [
              "<keras.callbacks.History at 0x7f398b968250>"
            ]
          },
          "metadata": {},
          "execution_count": 308
        }
      ]
    },
    {
      "cell_type": "code",
      "source": [
        ""
      ],
      "metadata": {
        "id": "8hhcWrg1O53O"
      },
      "execution_count": null,
      "outputs": []
    },
    {
      "cell_type": "code",
      "source": [
        "#DO THE PREDICTION AND CHECK PERFORMANCE METRICS\n",
        "train_predict=model.predict(x_train)\n",
        "test_predict=model.predict(x_test)"
      ],
      "metadata": {
        "id": "hwnV4iSVLDGY"
      },
      "execution_count": 309,
      "outputs": []
    },
    {
      "cell_type": "code",
      "source": [
        "train_predict=scaler.inverse_transform(train_predict)\n",
        "test_predict=scaler.inverse_transform(test_predict)"
      ],
      "metadata": {
        "id": "4hQCFU3GMPJ7"
      },
      "execution_count": 310,
      "outputs": []
    },
    {
      "cell_type": "code",
      "source": [
        "#calculate the RMSE performance metrics\n",
        "import math \n",
        "from sklearn.metrics import mean_squared_error\n",
        "math.sqrt(mean_squared_error(y_train,train_predict))"
      ],
      "metadata": {
        "colab": {
          "base_uri": "https://localhost:8080/"
        },
        "id": "GkDMTJ6PMo3x",
        "outputId": "36446a67-e751-4bf1-b9a2-a2a62fbf4f3a"
      },
      "execution_count": 311,
      "outputs": [
        {
          "output_type": "execute_result",
          "data": {
            "text/plain": [
              "0.015915572001234238"
            ]
          },
          "metadata": {},
          "execution_count": 311
        }
      ]
    },
    {
      "cell_type": "code",
      "source": [
        "math.sqrt(mean_squared_error(y_test,test_predict))"
      ],
      "metadata": {
        "colab": {
          "base_uri": "https://localhost:8080/"
        },
        "id": "5txg8W1mNA1x",
        "outputId": "206717c9-fe43-4806-da3a-dea1e3895378"
      },
      "execution_count": 312,
      "outputs": [
        {
          "output_type": "execute_result",
          "data": {
            "text/plain": [
              "0.01628674667268174"
            ]
          },
          "metadata": {},
          "execution_count": 312
        }
      ]
    },
    {
      "cell_type": "code",
      "source": [
        "look_back=100\n",
        "trainPredictplot = np.empty_like(df_close)\n",
        "trainPredictplot[:, :]=np.nan\n",
        "trainPredictplot[look_back:len(train_predict)+look_back,  :]=train_predict\n",
        "testPredictionplot= np.empty_like(df_close)\n",
        "testPredictionplot[:, :]= np.nan\n",
        "testPredictionplot[len(train_predict)+(look_back*2)+1:len(df_close)-1, :]=test_predict\n",
        "plt.figure(figsize=(18,7))\n",
        "plt.plot(scaler.inverse_transform(df_close))\n",
        "plt.plot(trainPredictplot)\n",
        "plt.plot(testPredictionplot)\n",
        "plt.show()"
      ],
      "metadata": {
        "colab": {
          "base_uri": "https://localhost:8080/",
          "height": 428
        },
        "id": "eYHxX-qTNjaY",
        "outputId": "c35b9d46-3130-46b6-dd3e-1cfa9385d1a8"
      },
      "execution_count": 313,
      "outputs": [
        {
          "output_type": "display_data",
          "data": {
            "text/plain": [
              "<Figure size 1296x504 with 1 Axes>"
            ],
            "image/png": "[encoded data removed]"
          },
          "metadata": {
            "needs_background": "light"
          }
        }
      ]
    },
    {
      "cell_type": "code",
      "source": [
        "len(test_data)"
      ],
      "metadata": {
        "colab": {
          "base_uri": "https://localhost:8080/"
        },
        "id": "E9ArZxisQbWq",
        "outputId": "8cae8f51-6a4a-4ba9-bdbe-5608ee2fc891"
      },
      "execution_count": 314,
      "outputs": [
        {
          "output_type": "execute_result",
          "data": {
            "text/plain": [
              "626"
            ]
          },
          "metadata": {},
          "execution_count": 314
        }
      ]
    },
    {
      "cell_type": "code",
      "source": [
        "x_input=test_data[526:].reshape(1,-1)"
      ],
      "metadata": {
        "id": "m8tpzZwyUOX3"
      },
      "execution_count": 315,
      "outputs": []
    },
    {
      "cell_type": "code",
      "source": [
        "x_input.shape"
      ],
      "metadata": {
        "colab": {
          "base_uri": "https://localhost:8080/"
        },
        "id": "tAGuUcyfVBY2",
        "outputId": "4c5aaf53-e862-4ab4-e211-e6f0b9849588"
      },
      "execution_count": 316,
      "outputs": [
        {
          "output_type": "execute_result",
          "data": {
            "text/plain": [
              "(1, 100)"
            ]
          },
          "metadata": {},
          "execution_count": 316
        }
      ]
    },
    {
      "cell_type": "code",
      "source": [
        "temp_input=list(x_input)\n",
        "temp_input=temp_input[0].tolist()"
      ],
      "metadata": {
        "id": "sbWRrlTbPGGY"
      },
      "execution_count": 317,
      "outputs": []
    },
    {
      "cell_type": "code",
      "source": [
        "temp_input #previous 100 days test data to feed the model"
      ],
      "metadata": {
        "colab": {
          "base_uri": "https://localhost:8080/"
        },
        "id": "ztvA5F87VXFV",
        "outputId": "03f2b56a-9246-48a0-e7c1-20a3d6d5460e"
      },
      "execution_count": 318,
      "outputs": [
        {
          "output_type": "execute_result",
          "data": {
            "text/plain": [
              "[0.389657295024338,\n",
              " 0.40035380856470004,\n",
              " 0.39990592032932915,\n",
              " 0.39866007996772,\n",
              " 0.40187902683921317,\n",
              " 0.4133798037538461,\n",
              " 0.41733948076941685,\n",
              " 0.4138529369813466,\n",
              " 0.403319043265288,\n",
              " 0.4011763745582648,\n",
              " 0.41388680734578775,\n",
              " 0.41408960878256407,\n",
              " 0.41361647555506353,\n",
              " 0.4086924398401317,\n",
              " 0.41551048108960753,\n",
              " 0.40635559506864327,\n",
              " 0.3944713046485706,\n",
              " 0.38265328233283924,\n",
              " 0.3817309986203612,\n",
              " 0.3746091759655892,\n",
              " 0.3932077927924702,\n",
              " 0.38377373923353675,\n",
              " 0.3895247588156563,\n",
              " 0.3613965782096167,\n",
              " 0.34095718070659853,\n",
              " 0.34861672169373703,\n",
              " 0.3664563057572465,\n",
              " 0.37290892574564216,\n",
              " 0.37647583275865903,\n",
              " 0.3701997173402378,\n",
              " 0.3751656176671183,\n",
              " 0.3745111412461517,\n",
              " 0.36993885242156255,\n",
              " 0.3678544575713727,\n",
              " 0.38380676809824,\n",
              " 0.38374092074376787,\n",
              " 0.40010640764182703,\n",
              " 0.395669600275002,\n",
              " 0.40568365752811975,\n",
              " 0.41094282051357567,\n",
              " 0.40533127951297354,\n",
              " 0.40030689495432537,\n",
              " 0.40060794148547396,\n",
              " 0.4009087776416882,\n",
              " 0.3950370028472143,\n",
              " 0.4070107026144134,\n",
              " 0.3862822499515084,\n",
              " 0.38136915373316604,\n",
              " 0.3746584037002423,\n",
              " 0.38833277443725756,\n",
              " 0.3554595871854733,\n",
              " 0.3524011563889391,\n",
              " 0.3653255404847626,\n",
              " 0.36453032323267154,\n",
              " 0.3385416557096388,\n",
              " 0.33037889787937846,\n",
              " 0.33930384409702663,\n",
              " 0.33777988807211967,\n",
              " 0.3406388834308278,\n",
              " 0.3524653207439359,\n",
              " 0.353879461053078,\n",
              " 0.3423894132601002,\n",
              " 0.33587788829006815,\n",
              " 0.33205116823304826,\n",
              " 0.3240583933497958,\n",
              " 0.32114554200787726,\n",
              " 0.32587876765729407,\n",
              " 0.32130185058414806,\n",
              " 0.3179276470110559,\n",
              " 0.3151170378872634,\n",
              " 0.31864544628728186,\n",
              " 0.3075847737354467,\n",
              " 0.31235670837279583,\n",
              " 0.3091320813780736,\n",
              " 0.3027705537362797,\n",
              " 0.30523677909243396,\n",
              " 0.3110841503945161,\n",
              " 0.30338674191918313,\n",
              " 0.30638248098526155,\n",
              " 0.3121391806906102,\n",
              " 0.3228359046059066,\n",
              " 0.30619398504402495,\n",
              " 0.30276445286318143,\n",
              " 0.3132884589573228,\n",
              " 0.32782768104972027,\n",
              " 0.3374628530459556,\n",
              " 0.33705346342358267,\n",
              " 0.34382353918801156,\n",
              " 0.3421666262045542,\n",
              " 0.35372841185016757,\n",
              " 0.3536543598732531,\n",
              " 0.3578740603077617,\n",
              " 0.3509884887043384,\n",
              " 0.35948868792940125,\n",
              " 0.3637616132223167,\n",
              " 0.3598764089335291,\n",
              " 0.370232115080138,\n",
              " 0.36811490174017925,\n",
              " 0.3774595459519863,\n",
              " 0.3910001182307128]"
            ]
          },
          "metadata": {},
          "execution_count": 318
        }
      ]
    },
    {
      "cell_type": "code",
      "source": [
        "#demonstrate prediction for the next 30 days\n",
        "lst_output=[]\n",
        "n_steps=100\n",
        "i=0\n",
        "while(i<30):\n",
        "  if (len(temp_input)>100):\n",
        "      x_input=np.array(temp_input[1:]) #SHIFT TO WRITE\n",
        "      print(\"{}day input{}\".format(i,x_input))\n",
        "      x_input=x_input.reshape(1,-1)\n",
        "      x_input=x_input.reshape((1,n_steps,1))\n",
        "      yhat=model.predict(x_input,verbose=0)\n",
        "      print('{}day output {}'.format(i,yhat))\n",
        "      temp_input.extend(yhat[0].tolist())\n",
        "      temp_input=temp_input[1:]\n",
        "      lst_output.extend(yhat.tolist())\n",
        "      i=i+1\n",
        "  else:                                             #FIRST ELSE RUN AFTER PREDICTION AND OUR DATAS BE MORE THAN 100 WE PASS TO IF\n",
        "    x_input=x_input.reshape((1,n_steps,1))#FIRST OF ALL RESHAPE THE DATA #avalin ghadam reshape\n",
        "    yhat=model.predict(x_input,verbose=0) #YHAT==PREDICTION            #pass the data to the model\n",
        "    print(yhat[0])\n",
        "    temp_input.extend(yhat[0].tolist())# ADD YHAT TO THE PREVIOUS DATAS #ezafe kardan prediction be gheimate ghabli \n",
        "    print(len(temp_input))\n",
        "    lst_output.extend(yhat.tolist())\n",
        "    i=i+1\n",
        "print(lst_output)"
      ],
      "metadata": {
        "colab": {
          "base_uri": "https://localhost:8080/"
        },
        "id": "U84rMMSsVbl2",
        "outputId": "314279b4-9485-4a38-9586-0f8bd6fbb1a9"
      },
      "execution_count": 319,
      "outputs": [
        {
          "output_type": "stream",
          "name": "stdout",
          "text": [
            "[0.381241]\n",
            "101\n",
            "1day input[0.40035381 0.39990592 0.39866008 0.40187903 0.4133798  0.41733948\n",
            " 0.41385294 0.40331904 0.40117637 0.41388681 0.41408961 0.41361648\n",
            " 0.40869244 0.41551048 0.4063556  0.3944713  0.38265328 0.381731\n",
            " 0.37460918 0.39320779 0.38377374 0.38952476 0.36139658 0.34095718\n",
            " 0.34861672 0.36645631 0.37290893 0.37647583 0.37019972 0.37516562\n",
            " 0.37451114 0.36993885 0.36785446 0.38380677 0.38374092 0.40010641\n",
            " 0.3956696  0.40568366 0.41094282 0.40533128 0.40030689 0.40060794\n",
            " 0.40090878 0.395037   0.4070107  0.38628225 0.38136915 0.3746584\n",
            " 0.38833277 0.35545959 0.35240116 0.36532554 0.36453032 0.33854166\n",
            " 0.3303789  0.33930384 0.33777989 0.34063888 0.35246532 0.35387946\n",
            " 0.34238941 0.33587789 0.33205117 0.32405839 0.32114554 0.32587877\n",
            " 0.32130185 0.31792765 0.31511704 0.31864545 0.30758477 0.31235671\n",
            " 0.30913208 0.30277055 0.30523678 0.31108415 0.30338674 0.30638248\n",
            " 0.31213918 0.3228359  0.30619399 0.30276445 0.31328846 0.32782768\n",
            " 0.33746285 0.33705346 0.34382354 0.34216663 0.35372841 0.35365436\n",
            " 0.35787406 0.35098849 0.35948869 0.36376161 0.35987641 0.37023212\n",
            " 0.3681149  0.37745955 0.39100012 0.38124099]\n",
            "1day output [[0.37248418]]\n",
            "2day input[0.39990592 0.39866008 0.40187903 0.4133798  0.41733948 0.41385294\n",
            " 0.40331904 0.40117637 0.41388681 0.41408961 0.41361648 0.40869244\n",
            " 0.41551048 0.4063556  0.3944713  0.38265328 0.381731   0.37460918\n",
            " 0.39320779 0.38377374 0.38952476 0.36139658 0.34095718 0.34861672\n",
            " 0.36645631 0.37290893 0.37647583 0.37019972 0.37516562 0.37451114\n",
            " 0.36993885 0.36785446 0.38380677 0.38374092 0.40010641 0.3956696\n",
            " 0.40568366 0.41094282 0.40533128 0.40030689 0.40060794 0.40090878\n",
            " 0.395037   0.4070107  0.38628225 0.38136915 0.3746584  0.38833277\n",
            " 0.35545959 0.35240116 0.36532554 0.36453032 0.33854166 0.3303789\n",
            " 0.33930384 0.33777989 0.34063888 0.35246532 0.35387946 0.34238941\n",
            " 0.33587789 0.33205117 0.32405839 0.32114554 0.32587877 0.32130185\n",
            " 0.31792765 0.31511704 0.31864545 0.30758477 0.31235671 0.30913208\n",
            " 0.30277055 0.30523678 0.31108415 0.30338674 0.30638248 0.31213918\n",
            " 0.3228359  0.30619399 0.30276445 0.31328846 0.32782768 0.33746285\n",
            " 0.33705346 0.34382354 0.34216663 0.35372841 0.35365436 0.35787406\n",
            " 0.35098849 0.35948869 0.36376161 0.35987641 0.37023212 0.3681149\n",
            " 0.37745955 0.39100012 0.38124099 0.37248418]\n",
            "2day output [[0.36231768]]\n",
            "3day input[0.39866008 0.40187903 0.4133798  0.41733948 0.41385294 0.40331904\n",
            " 0.40117637 0.41388681 0.41408961 0.41361648 0.40869244 0.41551048\n",
            " 0.4063556  0.3944713  0.38265328 0.381731   0.37460918 0.39320779\n",
            " 0.38377374 0.38952476 0.36139658 0.34095718 0.34861672 0.36645631\n",
            " 0.37290893 0.37647583 0.37019972 0.37516562 0.37451114 0.36993885\n",
            " 0.36785446 0.38380677 0.38374092 0.40010641 0.3956696  0.40568366\n",
            " 0.41094282 0.40533128 0.40030689 0.40060794 0.40090878 0.395037\n",
            " 0.4070107  0.38628225 0.38136915 0.3746584  0.38833277 0.35545959\n",
            " 0.35240116 0.36532554 0.36453032 0.33854166 0.3303789  0.33930384\n",
            " 0.33777989 0.34063888 0.35246532 0.35387946 0.34238941 0.33587789\n",
            " 0.33205117 0.32405839 0.32114554 0.32587877 0.32130185 0.31792765\n",
            " 0.31511704 0.31864545 0.30758477 0.31235671 0.30913208 0.30277055\n",
            " 0.30523678 0.31108415 0.30338674 0.30638248 0.31213918 0.3228359\n",
            " 0.30619399 0.30276445 0.31328846 0.32782768 0.33746285 0.33705346\n",
            " 0.34382354 0.34216663 0.35372841 0.35365436 0.35787406 0.35098849\n",
            " 0.35948869 0.36376161 0.35987641 0.37023212 0.3681149  0.37745955\n",
            " 0.39100012 0.38124099 0.37248418 0.36231768]\n",
            "3day output [[0.35221395]]\n",
            "4day input[0.40187903 0.4133798  0.41733948 0.41385294 0.40331904 0.40117637\n",
            " 0.41388681 0.41408961 0.41361648 0.40869244 0.41551048 0.4063556\n",
            " 0.3944713  0.38265328 0.381731   0.37460918 0.39320779 0.38377374\n",
            " 0.38952476 0.36139658 0.34095718 0.34861672 0.36645631 0.37290893\n",
            " 0.37647583 0.37019972 0.37516562 0.37451114 0.36993885 0.36785446\n",
            " 0.38380677 0.38374092 0.40010641 0.3956696  0.40568366 0.41094282\n",
            " 0.40533128 0.40030689 0.40060794 0.40090878 0.395037   0.4070107\n",
            " 0.38628225 0.38136915 0.3746584  0.38833277 0.35545959 0.35240116\n",
            " 0.36532554 0.36453032 0.33854166 0.3303789  0.33930384 0.33777989\n",
            " 0.34063888 0.35246532 0.35387946 0.34238941 0.33587789 0.33205117\n",
            " 0.32405839 0.32114554 0.32587877 0.32130185 0.31792765 0.31511704\n",
            " 0.31864545 0.30758477 0.31235671 0.30913208 0.30277055 0.30523678\n",
            " 0.31108415 0.30338674 0.30638248 0.31213918 0.3228359  0.30619399\n",
            " 0.30276445 0.31328846 0.32782768 0.33746285 0.33705346 0.34382354\n",
            " 0.34216663 0.35372841 0.35365436 0.35787406 0.35098849 0.35948869\n",
            " 0.36376161 0.35987641 0.37023212 0.3681149  0.37745955 0.39100012\n",
            " 0.38124099 0.37248418 0.36231768 0.35221395]\n",
            "4day output [[0.34268966]]\n",
            "5day input[0.4133798  0.41733948 0.41385294 0.40331904 0.40117637 0.41388681\n",
            " 0.41408961 0.41361648 0.40869244 0.41551048 0.4063556  0.3944713\n",
            " 0.38265328 0.381731   0.37460918 0.39320779 0.38377374 0.38952476\n",
            " 0.36139658 0.34095718 0.34861672 0.36645631 0.37290893 0.37647583\n",
            " 0.37019972 0.37516562 0.37451114 0.36993885 0.36785446 0.38380677\n",
            " 0.38374092 0.40010641 0.3956696  0.40568366 0.41094282 0.40533128\n",
            " 0.40030689 0.40060794 0.40090878 0.395037   0.4070107  0.38628225\n",
            " 0.38136915 0.3746584  0.38833277 0.35545959 0.35240116 0.36532554\n",
            " 0.36453032 0.33854166 0.3303789  0.33930384 0.33777989 0.34063888\n",
            " 0.35246532 0.35387946 0.34238941 0.33587789 0.33205117 0.32405839\n",
            " 0.32114554 0.32587877 0.32130185 0.31792765 0.31511704 0.31864545\n",
            " 0.30758477 0.31235671 0.30913208 0.30277055 0.30523678 0.31108415\n",
            " 0.30338674 0.30638248 0.31213918 0.3228359  0.30619399 0.30276445\n",
            " 0.31328846 0.32782768 0.33746285 0.33705346 0.34382354 0.34216663\n",
            " 0.35372841 0.35365436 0.35787406 0.35098849 0.35948869 0.36376161\n",
            " 0.35987641 0.37023212 0.3681149  0.37745955 0.39100012 0.38124099\n",
            " 0.37248418 0.36231768 0.35221395 0.34268966]\n",
            "5day output [[0.33368742]]\n",
            "6day input[0.41733948 0.41385294 0.40331904 0.40117637 0.41388681 0.41408961\n",
            " 0.41361648 0.40869244 0.41551048 0.4063556  0.3944713  0.38265328\n",
            " 0.381731   0.37460918 0.39320779 0.38377374 0.38952476 0.36139658\n",
            " 0.34095718 0.34861672 0.36645631 0.37290893 0.37647583 0.37019972\n",
            " 0.37516562 0.37451114 0.36993885 0.36785446 0.38380677 0.38374092\n",
            " 0.40010641 0.3956696  0.40568366 0.41094282 0.40533128 0.40030689\n",
            " 0.40060794 0.40090878 0.395037   0.4070107  0.38628225 0.38136915\n",
            " 0.3746584  0.38833277 0.35545959 0.35240116 0.36532554 0.36453032\n",
            " 0.33854166 0.3303789  0.33930384 0.33777989 0.34063888 0.35246532\n",
            " 0.35387946 0.34238941 0.33587789 0.33205117 0.32405839 0.32114554\n",
            " 0.32587877 0.32130185 0.31792765 0.31511704 0.31864545 0.30758477\n",
            " 0.31235671 0.30913208 0.30277055 0.30523678 0.31108415 0.30338674\n",
            " 0.30638248 0.31213918 0.3228359  0.30619399 0.30276445 0.31328846\n",
            " 0.32782768 0.33746285 0.33705346 0.34382354 0.34216663 0.35372841\n",
            " 0.35365436 0.35787406 0.35098849 0.35948869 0.36376161 0.35987641\n",
            " 0.37023212 0.3681149  0.37745955 0.39100012 0.38124099 0.37248418\n",
            " 0.36231768 0.35221395 0.34268966 0.33368742]\n",
            "6day output [[0.32500106]]\n",
            "7day input[0.41385294 0.40331904 0.40117637 0.41388681 0.41408961 0.41361648\n",
            " 0.40869244 0.41551048 0.4063556  0.3944713  0.38265328 0.381731\n",
            " 0.37460918 0.39320779 0.38377374 0.38952476 0.36139658 0.34095718\n",
            " 0.34861672 0.36645631 0.37290893 0.37647583 0.37019972 0.37516562\n",
            " 0.37451114 0.36993885 0.36785446 0.38380677 0.38374092 0.40010641\n",
            " 0.3956696  0.40568366 0.41094282 0.40533128 0.40030689 0.40060794\n",
            " 0.40090878 0.395037   0.4070107  0.38628225 0.38136915 0.3746584\n",
            " 0.38833277 0.35545959 0.35240116 0.36532554 0.36453032 0.33854166\n",
            " 0.3303789  0.33930384 0.33777989 0.34063888 0.35246532 0.35387946\n",
            " 0.34238941 0.33587789 0.33205117 0.32405839 0.32114554 0.32587877\n",
            " 0.32130185 0.31792765 0.31511704 0.31864545 0.30758477 0.31235671\n",
            " 0.30913208 0.30277055 0.30523678 0.31108415 0.30338674 0.30638248\n",
            " 0.31213918 0.3228359  0.30619399 0.30276445 0.31328846 0.32782768\n",
            " 0.33746285 0.33705346 0.34382354 0.34216663 0.35372841 0.35365436\n",
            " 0.35787406 0.35098849 0.35948869 0.36376161 0.35987641 0.37023212\n",
            " 0.3681149  0.37745955 0.39100012 0.38124099 0.37248418 0.36231768\n",
            " 0.35221395 0.34268966 0.33368742 0.32500106]\n",
            "7day output [[0.3164444]]\n",
            "8day input[0.40331904 0.40117637 0.41388681 0.41408961 0.41361648 0.40869244\n",
            " 0.41551048 0.4063556  0.3944713  0.38265328 0.381731   0.37460918\n",
            " 0.39320779 0.38377374 0.38952476 0.36139658 0.34095718 0.34861672\n",
            " 0.36645631 0.37290893 0.37647583 0.37019972 0.37516562 0.37451114\n",
            " 0.36993885 0.36785446 0.38380677 0.38374092 0.40010641 0.3956696\n",
            " 0.40568366 0.41094282 0.40533128 0.40030689 0.40060794 0.40090878\n",
            " 0.395037   0.4070107  0.38628225 0.38136915 0.3746584  0.38833277\n",
            " 0.35545959 0.35240116 0.36532554 0.36453032 0.33854166 0.3303789\n",
            " 0.33930384 0.33777989 0.34063888 0.35246532 0.35387946 0.34238941\n",
            " 0.33587789 0.33205117 0.32405839 0.32114554 0.32587877 0.32130185\n",
            " 0.31792765 0.31511704 0.31864545 0.30758477 0.31235671 0.30913208\n",
            " 0.30277055 0.30523678 0.31108415 0.30338674 0.30638248 0.31213918\n",
            " 0.3228359  0.30619399 0.30276445 0.31328846 0.32782768 0.33746285\n",
            " 0.33705346 0.34382354 0.34216663 0.35372841 0.35365436 0.35787406\n",
            " 0.35098849 0.35948869 0.36376161 0.35987641 0.37023212 0.3681149\n",
            " 0.37745955 0.39100012 0.38124099 0.37248418 0.36231768 0.35221395\n",
            " 0.34268966 0.33368742 0.32500106 0.3164444 ]\n",
            "8day output [[0.3079127]]\n",
            "9day input[0.40117637 0.41388681 0.41408961 0.41361648 0.40869244 0.41551048\n",
            " 0.4063556  0.3944713  0.38265328 0.381731   0.37460918 0.39320779\n",
            " 0.38377374 0.38952476 0.36139658 0.34095718 0.34861672 0.36645631\n",
            " 0.37290893 0.37647583 0.37019972 0.37516562 0.37451114 0.36993885\n",
            " 0.36785446 0.38380677 0.38374092 0.40010641 0.3956696  0.40568366\n",
            " 0.41094282 0.40533128 0.40030689 0.40060794 0.40090878 0.395037\n",
            " 0.4070107  0.38628225 0.38136915 0.3746584  0.38833277 0.35545959\n",
            " 0.35240116 0.36532554 0.36453032 0.33854166 0.3303789  0.33930384\n",
            " 0.33777989 0.34063888 0.35246532 0.35387946 0.34238941 0.33587789\n",
            " 0.33205117 0.32405839 0.32114554 0.32587877 0.32130185 0.31792765\n",
            " 0.31511704 0.31864545 0.30758477 0.31235671 0.30913208 0.30277055\n",
            " 0.30523678 0.31108415 0.30338674 0.30638248 0.31213918 0.3228359\n",
            " 0.30619399 0.30276445 0.31328846 0.32782768 0.33746285 0.33705346\n",
            " 0.34382354 0.34216663 0.35372841 0.35365436 0.35787406 0.35098849\n",
            " 0.35948869 0.36376161 0.35987641 0.37023212 0.3681149  0.37745955\n",
            " 0.39100012 0.38124099 0.37248418 0.36231768 0.35221395 0.34268966\n",
            " 0.33368742 0.32500106 0.3164444  0.30791271]\n",
            "9day output [[0.29938003]]\n",
            "10day input[0.41388681 0.41408961 0.41361648 0.40869244 0.41551048 0.4063556\n",
            " 0.3944713  0.38265328 0.381731   0.37460918 0.39320779 0.38377374\n",
            " 0.38952476 0.36139658 0.34095718 0.34861672 0.36645631 0.37290893\n",
            " 0.37647583 0.37019972 0.37516562 0.37451114 0.36993885 0.36785446\n",
            " 0.38380677 0.38374092 0.40010641 0.3956696  0.40568366 0.41094282\n",
            " 0.40533128 0.40030689 0.40060794 0.40090878 0.395037   0.4070107\n",
            " 0.38628225 0.38136915 0.3746584  0.38833277 0.35545959 0.35240116\n",
            " 0.36532554 0.36453032 0.33854166 0.3303789  0.33930384 0.33777989\n",
            " 0.34063888 0.35246532 0.35387946 0.34238941 0.33587789 0.33205117\n",
            " 0.32405839 0.32114554 0.32587877 0.32130185 0.31792765 0.31511704\n",
            " 0.31864545 0.30758477 0.31235671 0.30913208 0.30277055 0.30523678\n",
            " 0.31108415 0.30338674 0.30638248 0.31213918 0.3228359  0.30619399\n",
            " 0.30276445 0.31328846 0.32782768 0.33746285 0.33705346 0.34382354\n",
            " 0.34216663 0.35372841 0.35365436 0.35787406 0.35098849 0.35948869\n",
            " 0.36376161 0.35987641 0.37023212 0.3681149  0.37745955 0.39100012\n",
            " 0.38124099 0.37248418 0.36231768 0.35221395 0.34268966 0.33368742\n",
            " 0.32500106 0.3164444  0.30791271 0.29938003]\n",
            "10day output [[0.2908711]]\n",
            "11day input[0.41408961 0.41361648 0.40869244 0.41551048 0.4063556  0.3944713\n",
            " 0.38265328 0.381731   0.37460918 0.39320779 0.38377374 0.38952476\n",
            " 0.36139658 0.34095718 0.34861672 0.36645631 0.37290893 0.37647583\n",
            " 0.37019972 0.37516562 0.37451114 0.36993885 0.36785446 0.38380677\n",
            " 0.38374092 0.40010641 0.3956696  0.40568366 0.41094282 0.40533128\n",
            " 0.40030689 0.40060794 0.40090878 0.395037   0.4070107  0.38628225\n",
            " 0.38136915 0.3746584  0.38833277 0.35545959 0.35240116 0.36532554\n",
            " 0.36453032 0.33854166 0.3303789  0.33930384 0.33777989 0.34063888\n",
            " 0.35246532 0.35387946 0.34238941 0.33587789 0.33205117 0.32405839\n",
            " 0.32114554 0.32587877 0.32130185 0.31792765 0.31511704 0.31864545\n",
            " 0.30758477 0.31235671 0.30913208 0.30277055 0.30523678 0.31108415\n",
            " 0.30338674 0.30638248 0.31213918 0.3228359  0.30619399 0.30276445\n",
            " 0.31328846 0.32782768 0.33746285 0.33705346 0.34382354 0.34216663\n",
            " 0.35372841 0.35365436 0.35787406 0.35098849 0.35948869 0.36376161\n",
            " 0.35987641 0.37023212 0.3681149  0.37745955 0.39100012 0.38124099\n",
            " 0.37248418 0.36231768 0.35221395 0.34268966 0.33368742 0.32500106\n",
            " 0.3164444  0.30791271 0.29938003 0.29087111]\n",
            "11day output [[0.28243256]]\n",
            "12day input[0.41361648 0.40869244 0.41551048 0.4063556  0.3944713  0.38265328\n",
            " 0.381731   0.37460918 0.39320779 0.38377374 0.38952476 0.36139658\n",
            " 0.34095718 0.34861672 0.36645631 0.37290893 0.37647583 0.37019972\n",
            " 0.37516562 0.37451114 0.36993885 0.36785446 0.38380677 0.38374092\n",
            " 0.40010641 0.3956696  0.40568366 0.41094282 0.40533128 0.40030689\n",
            " 0.40060794 0.40090878 0.395037   0.4070107  0.38628225 0.38136915\n",
            " 0.3746584  0.38833277 0.35545959 0.35240116 0.36532554 0.36453032\n",
            " 0.33854166 0.3303789  0.33930384 0.33777989 0.34063888 0.35246532\n",
            " 0.35387946 0.34238941 0.33587789 0.33205117 0.32405839 0.32114554\n",
            " 0.32587877 0.32130185 0.31792765 0.31511704 0.31864545 0.30758477\n",
            " 0.31235671 0.30913208 0.30277055 0.30523678 0.31108415 0.30338674\n",
            " 0.30638248 0.31213918 0.3228359  0.30619399 0.30276445 0.31328846\n",
            " 0.32782768 0.33746285 0.33705346 0.34382354 0.34216663 0.35372841\n",
            " 0.35365436 0.35787406 0.35098849 0.35948869 0.36376161 0.35987641\n",
            " 0.37023212 0.3681149  0.37745955 0.39100012 0.38124099 0.37248418\n",
            " 0.36231768 0.35221395 0.34268966 0.33368742 0.32500106 0.3164444\n",
            " 0.30791271 0.29938003 0.29087111 0.28243256]\n",
            "12day output [[0.27411178]]\n",
            "13day input[0.40869244 0.41551048 0.4063556  0.3944713  0.38265328 0.381731\n",
            " 0.37460918 0.39320779 0.38377374 0.38952476 0.36139658 0.34095718\n",
            " 0.34861672 0.36645631 0.37290893 0.37647583 0.37019972 0.37516562\n",
            " 0.37451114 0.36993885 0.36785446 0.38380677 0.38374092 0.40010641\n",
            " 0.3956696  0.40568366 0.41094282 0.40533128 0.40030689 0.40060794\n",
            " 0.40090878 0.395037   0.4070107  0.38628225 0.38136915 0.3746584\n",
            " 0.38833277 0.35545959 0.35240116 0.36532554 0.36453032 0.33854166\n",
            " 0.3303789  0.33930384 0.33777989 0.34063888 0.35246532 0.35387946\n",
            " 0.34238941 0.33587789 0.33205117 0.32405839 0.32114554 0.32587877\n",
            " 0.32130185 0.31792765 0.31511704 0.31864545 0.30758477 0.31235671\n",
            " 0.30913208 0.30277055 0.30523678 0.31108415 0.30338674 0.30638248\n",
            " 0.31213918 0.3228359  0.30619399 0.30276445 0.31328846 0.32782768\n",
            " 0.33746285 0.33705346 0.34382354 0.34216663 0.35372841 0.35365436\n",
            " 0.35787406 0.35098849 0.35948869 0.36376161 0.35987641 0.37023212\n",
            " 0.3681149  0.37745955 0.39100012 0.38124099 0.37248418 0.36231768\n",
            " 0.35221395 0.34268966 0.33368742 0.32500106 0.3164444  0.30791271\n",
            " 0.29938003 0.29087111 0.28243256 0.27411178]\n",
            "13day output [[0.26594606]]\n",
            "14day input[0.41551048 0.4063556  0.3944713  0.38265328 0.381731   0.37460918\n",
            " 0.39320779 0.38377374 0.38952476 0.36139658 0.34095718 0.34861672\n",
            " 0.36645631 0.37290893 0.37647583 0.37019972 0.37516562 0.37451114\n",
            " 0.36993885 0.36785446 0.38380677 0.38374092 0.40010641 0.3956696\n",
            " 0.40568366 0.41094282 0.40533128 0.40030689 0.40060794 0.40090878\n",
            " 0.395037   0.4070107  0.38628225 0.38136915 0.3746584  0.38833277\n",
            " 0.35545959 0.35240116 0.36532554 0.36453032 0.33854166 0.3303789\n",
            " 0.33930384 0.33777989 0.34063888 0.35246532 0.35387946 0.34238941\n",
            " 0.33587789 0.33205117 0.32405839 0.32114554 0.32587877 0.32130185\n",
            " 0.31792765 0.31511704 0.31864545 0.30758477 0.31235671 0.30913208\n",
            " 0.30277055 0.30523678 0.31108415 0.30338674 0.30638248 0.31213918\n",
            " 0.3228359  0.30619399 0.30276445 0.31328846 0.32782768 0.33746285\n",
            " 0.33705346 0.34382354 0.34216663 0.35372841 0.35365436 0.35787406\n",
            " 0.35098849 0.35948869 0.36376161 0.35987641 0.37023212 0.3681149\n",
            " 0.37745955 0.39100012 0.38124099 0.37248418 0.36231768 0.35221395\n",
            " 0.34268966 0.33368742 0.32500106 0.3164444  0.30791271 0.29938003\n",
            " 0.29087111 0.28243256 0.27411178 0.26594606]\n",
            "14day output [[0.25795856]]\n",
            "15day input[0.4063556  0.3944713  0.38265328 0.381731   0.37460918 0.39320779\n",
            " 0.38377374 0.38952476 0.36139658 0.34095718 0.34861672 0.36645631\n",
            " 0.37290893 0.37647583 0.37019972 0.37516562 0.37451114 0.36993885\n",
            " 0.36785446 0.38380677 0.38374092 0.40010641 0.3956696  0.40568366\n",
            " 0.41094282 0.40533128 0.40030689 0.40060794 0.40090878 0.395037\n",
            " 0.4070107  0.38628225 0.38136915 0.3746584  0.38833277 0.35545959\n",
            " 0.35240116 0.36532554 0.36453032 0.33854166 0.3303789  0.33930384\n",
            " 0.33777989 0.34063888 0.35246532 0.35387946 0.34238941 0.33587789\n",
            " 0.33205117 0.32405839 0.32114554 0.32587877 0.32130185 0.31792765\n",
            " 0.31511704 0.31864545 0.30758477 0.31235671 0.30913208 0.30277055\n",
            " 0.30523678 0.31108415 0.30338674 0.30638248 0.31213918 0.3228359\n",
            " 0.30619399 0.30276445 0.31328846 0.32782768 0.33746285 0.33705346\n",
            " 0.34382354 0.34216663 0.35372841 0.35365436 0.35787406 0.35098849\n",
            " 0.35948869 0.36376161 0.35987641 0.37023212 0.3681149  0.37745955\n",
            " 0.39100012 0.38124099 0.37248418 0.36231768 0.35221395 0.34268966\n",
            " 0.33368742 0.32500106 0.3164444  0.30791271 0.29938003 0.29087111\n",
            " 0.28243256 0.27411178 0.26594606 0.25795856]\n",
            "15day output [[0.2501598]]\n",
            "16day input[0.3944713  0.38265328 0.381731   0.37460918 0.39320779 0.38377374\n",
            " 0.38952476 0.36139658 0.34095718 0.34861672 0.36645631 0.37290893\n",
            " 0.37647583 0.37019972 0.37516562 0.37451114 0.36993885 0.36785446\n",
            " 0.38380677 0.38374092 0.40010641 0.3956696  0.40568366 0.41094282\n",
            " 0.40533128 0.40030689 0.40060794 0.40090878 0.395037   0.4070107\n",
            " 0.38628225 0.38136915 0.3746584  0.38833277 0.35545959 0.35240116\n",
            " 0.36532554 0.36453032 0.33854166 0.3303789  0.33930384 0.33777989\n",
            " 0.34063888 0.35246532 0.35387946 0.34238941 0.33587789 0.33205117\n",
            " 0.32405839 0.32114554 0.32587877 0.32130185 0.31792765 0.31511704\n",
            " 0.31864545 0.30758477 0.31235671 0.30913208 0.30277055 0.30523678\n",
            " 0.31108415 0.30338674 0.30638248 0.31213918 0.3228359  0.30619399\n",
            " 0.30276445 0.31328846 0.32782768 0.33746285 0.33705346 0.34382354\n",
            " 0.34216663 0.35372841 0.35365436 0.35787406 0.35098849 0.35948869\n",
            " 0.36376161 0.35987641 0.37023212 0.3681149  0.37745955 0.39100012\n",
            " 0.38124099 0.37248418 0.36231768 0.35221395 0.34268966 0.33368742\n",
            " 0.32500106 0.3164444  0.30791271 0.29938003 0.29087111 0.28243256\n",
            " 0.27411178 0.26594606 0.25795856 0.2501598 ]\n",
            "16day output [[0.2425506]]\n",
            "17day input[0.38265328 0.381731   0.37460918 0.39320779 0.38377374 0.38952476\n",
            " 0.36139658 0.34095718 0.34861672 0.36645631 0.37290893 0.37647583\n",
            " 0.37019972 0.37516562 0.37451114 0.36993885 0.36785446 0.38380677\n",
            " 0.38374092 0.40010641 0.3956696  0.40568366 0.41094282 0.40533128\n",
            " 0.40030689 0.40060794 0.40090878 0.395037   0.4070107  0.38628225\n",
            " 0.38136915 0.3746584  0.38833277 0.35545959 0.35240116 0.36532554\n",
            " 0.36453032 0.33854166 0.3303789  0.33930384 0.33777989 0.34063888\n",
            " 0.35246532 0.35387946 0.34238941 0.33587789 0.33205117 0.32405839\n",
            " 0.32114554 0.32587877 0.32130185 0.31792765 0.31511704 0.31864545\n",
            " 0.30758477 0.31235671 0.30913208 0.30277055 0.30523678 0.31108415\n",
            " 0.30338674 0.30638248 0.31213918 0.3228359  0.30619399 0.30276445\n",
            " 0.31328846 0.32782768 0.33746285 0.33705346 0.34382354 0.34216663\n",
            " 0.35372841 0.35365436 0.35787406 0.35098849 0.35948869 0.36376161\n",
            " 0.35987641 0.37023212 0.3681149  0.37745955 0.39100012 0.38124099\n",
            " 0.37248418 0.36231768 0.35221395 0.34268966 0.33368742 0.32500106\n",
            " 0.3164444  0.30791271 0.29938003 0.29087111 0.28243256 0.27411178\n",
            " 0.26594606 0.25795856 0.2501598  0.2425506 ]\n",
            "17day output [[0.23512627]]\n",
            "18day input[0.381731   0.37460918 0.39320779 0.38377374 0.38952476 0.36139658\n",
            " 0.34095718 0.34861672 0.36645631 0.37290893 0.37647583 0.37019972\n",
            " 0.37516562 0.37451114 0.36993885 0.36785446 0.38380677 0.38374092\n",
            " 0.40010641 0.3956696  0.40568366 0.41094282 0.40533128 0.40030689\n",
            " 0.40060794 0.40090878 0.395037   0.4070107  0.38628225 0.38136915\n",
            " 0.3746584  0.38833277 0.35545959 0.35240116 0.36532554 0.36453032\n",
            " 0.33854166 0.3303789  0.33930384 0.33777989 0.34063888 0.35246532\n",
            " 0.35387946 0.34238941 0.33587789 0.33205117 0.32405839 0.32114554\n",
            " 0.32587877 0.32130185 0.31792765 0.31511704 0.31864545 0.30758477\n",
            " 0.31235671 0.30913208 0.30277055 0.30523678 0.31108415 0.30338674\n",
            " 0.30638248 0.31213918 0.3228359  0.30619399 0.30276445 0.31328846\n",
            " 0.32782768 0.33746285 0.33705346 0.34382354 0.34216663 0.35372841\n",
            " 0.35365436 0.35787406 0.35098849 0.35948869 0.36376161 0.35987641\n",
            " 0.37023212 0.3681149  0.37745955 0.39100012 0.38124099 0.37248418\n",
            " 0.36231768 0.35221395 0.34268966 0.33368742 0.32500106 0.3164444\n",
            " 0.30791271 0.29938003 0.29087111 0.28243256 0.27411178 0.26594606\n",
            " 0.25795856 0.2501598  0.2425506  0.23512627]\n",
            "18day output [[0.227879]]\n",
            "19day input[0.37460918 0.39320779 0.38377374 0.38952476 0.36139658 0.34095718\n",
            " 0.34861672 0.36645631 0.37290893 0.37647583 0.37019972 0.37516562\n",
            " 0.37451114 0.36993885 0.36785446 0.38380677 0.38374092 0.40010641\n",
            " 0.3956696  0.40568366 0.41094282 0.40533128 0.40030689 0.40060794\n",
            " 0.40090878 0.395037   0.4070107  0.38628225 0.38136915 0.3746584\n",
            " 0.38833277 0.35545959 0.35240116 0.36532554 0.36453032 0.33854166\n",
            " 0.3303789  0.33930384 0.33777989 0.34063888 0.35246532 0.35387946\n",
            " 0.34238941 0.33587789 0.33205117 0.32405839 0.32114554 0.32587877\n",
            " 0.32130185 0.31792765 0.31511704 0.31864545 0.30758477 0.31235671\n",
            " 0.30913208 0.30277055 0.30523678 0.31108415 0.30338674 0.30638248\n",
            " 0.31213918 0.3228359  0.30619399 0.30276445 0.31328846 0.32782768\n",
            " 0.33746285 0.33705346 0.34382354 0.34216663 0.35372841 0.35365436\n",
            " 0.35787406 0.35098849 0.35948869 0.36376161 0.35987641 0.37023212\n",
            " 0.3681149  0.37745955 0.39100012 0.38124099 0.37248418 0.36231768\n",
            " 0.35221395 0.34268966 0.33368742 0.32500106 0.3164444  0.30791271\n",
            " 0.29938003 0.29087111 0.28243256 0.27411178 0.26594606 0.25795856\n",
            " 0.2501598  0.2425506  0.23512627 0.227879  ]\n",
            "19day output [[0.22080095]]\n",
            "20day input[0.39320779 0.38377374 0.38952476 0.36139658 0.34095718 0.34861672\n",
            " 0.36645631 0.37290893 0.37647583 0.37019972 0.37516562 0.37451114\n",
            " 0.36993885 0.36785446 0.38380677 0.38374092 0.40010641 0.3956696\n",
            " 0.40568366 0.41094282 0.40533128 0.40030689 0.40060794 0.40090878\n",
            " 0.395037   0.4070107  0.38628225 0.38136915 0.3746584  0.38833277\n",
            " 0.35545959 0.35240116 0.36532554 0.36453032 0.33854166 0.3303789\n",
            " 0.33930384 0.33777989 0.34063888 0.35246532 0.35387946 0.34238941\n",
            " 0.33587789 0.33205117 0.32405839 0.32114554 0.32587877 0.32130185\n",
            " 0.31792765 0.31511704 0.31864545 0.30758477 0.31235671 0.30913208\n",
            " 0.30277055 0.30523678 0.31108415 0.30338674 0.30638248 0.31213918\n",
            " 0.3228359  0.30619399 0.30276445 0.31328846 0.32782768 0.33746285\n",
            " 0.33705346 0.34382354 0.34216663 0.35372841 0.35365436 0.35787406\n",
            " 0.35098849 0.35948869 0.36376161 0.35987641 0.37023212 0.3681149\n",
            " 0.37745955 0.39100012 0.38124099 0.37248418 0.36231768 0.35221395\n",
            " 0.34268966 0.33368742 0.32500106 0.3164444  0.30791271 0.29938003\n",
            " 0.29087111 0.28243256 0.27411178 0.26594606 0.25795856 0.2501598\n",
            " 0.2425506  0.23512627 0.227879   0.22080095]\n",
            "20day output [[0.21388488]]\n",
            "21day input[0.38377374 0.38952476 0.36139658 0.34095718 0.34861672 0.36645631\n",
            " 0.37290893 0.37647583 0.37019972 0.37516562 0.37451114 0.36993885\n",
            " 0.36785446 0.38380677 0.38374092 0.40010641 0.3956696  0.40568366\n",
            " 0.41094282 0.40533128 0.40030689 0.40060794 0.40090878 0.395037\n",
            " 0.4070107  0.38628225 0.38136915 0.3746584  0.38833277 0.35545959\n",
            " 0.35240116 0.36532554 0.36453032 0.33854166 0.3303789  0.33930384\n",
            " 0.33777989 0.34063888 0.35246532 0.35387946 0.34238941 0.33587789\n",
            " 0.33205117 0.32405839 0.32114554 0.32587877 0.32130185 0.31792765\n",
            " 0.31511704 0.31864545 0.30758477 0.31235671 0.30913208 0.30277055\n",
            " 0.30523678 0.31108415 0.30338674 0.30638248 0.31213918 0.3228359\n",
            " 0.30619399 0.30276445 0.31328846 0.32782768 0.33746285 0.33705346\n",
            " 0.34382354 0.34216663 0.35372841 0.35365436 0.35787406 0.35098849\n",
            " 0.35948869 0.36376161 0.35987641 0.37023212 0.3681149  0.37745955\n",
            " 0.39100012 0.38124099 0.37248418 0.36231768 0.35221395 0.34268966\n",
            " 0.33368742 0.32500106 0.3164444  0.30791271 0.29938003 0.29087111\n",
            " 0.28243256 0.27411178 0.26594606 0.25795856 0.2501598  0.2425506\n",
            " 0.23512627 0.227879   0.22080095 0.21388488]\n",
            "21day output [[0.20712508]]\n",
            "22day input[0.38952476 0.36139658 0.34095718 0.34861672 0.36645631 0.37290893\n",
            " 0.37647583 0.37019972 0.37516562 0.37451114 0.36993885 0.36785446\n",
            " 0.38380677 0.38374092 0.40010641 0.3956696  0.40568366 0.41094282\n",
            " 0.40533128 0.40030689 0.40060794 0.40090878 0.395037   0.4070107\n",
            " 0.38628225 0.38136915 0.3746584  0.38833277 0.35545959 0.35240116\n",
            " 0.36532554 0.36453032 0.33854166 0.3303789  0.33930384 0.33777989\n",
            " 0.34063888 0.35246532 0.35387946 0.34238941 0.33587789 0.33205117\n",
            " 0.32405839 0.32114554 0.32587877 0.32130185 0.31792765 0.31511704\n",
            " 0.31864545 0.30758477 0.31235671 0.30913208 0.30277055 0.30523678\n",
            " 0.31108415 0.30338674 0.30638248 0.31213918 0.3228359  0.30619399\n",
            " 0.30276445 0.31328846 0.32782768 0.33746285 0.33705346 0.34382354\n",
            " 0.34216663 0.35372841 0.35365436 0.35787406 0.35098849 0.35948869\n",
            " 0.36376161 0.35987641 0.37023212 0.3681149  0.37745955 0.39100012\n",
            " 0.38124099 0.37248418 0.36231768 0.35221395 0.34268966 0.33368742\n",
            " 0.32500106 0.3164444  0.30791271 0.29938003 0.29087111 0.28243256\n",
            " 0.27411178 0.26594606 0.25795856 0.2501598  0.2425506  0.23512627\n",
            " 0.227879   0.22080095 0.21388488 0.20712508]\n",
            "22day output [[0.20051785]]\n",
            "23day input[0.36139658 0.34095718 0.34861672 0.36645631 0.37290893 0.37647583\n",
            " 0.37019972 0.37516562 0.37451114 0.36993885 0.36785446 0.38380677\n",
            " 0.38374092 0.40010641 0.3956696  0.40568366 0.41094282 0.40533128\n",
            " 0.40030689 0.40060794 0.40090878 0.395037   0.4070107  0.38628225\n",
            " 0.38136915 0.3746584  0.38833277 0.35545959 0.35240116 0.36532554\n",
            " 0.36453032 0.33854166 0.3303789  0.33930384 0.33777989 0.34063888\n",
            " 0.35246532 0.35387946 0.34238941 0.33587789 0.33205117 0.32405839\n",
            " 0.32114554 0.32587877 0.32130185 0.31792765 0.31511704 0.31864545\n",
            " 0.30758477 0.31235671 0.30913208 0.30277055 0.30523678 0.31108415\n",
            " 0.30338674 0.30638248 0.31213918 0.3228359  0.30619399 0.30276445\n",
            " 0.31328846 0.32782768 0.33746285 0.33705346 0.34382354 0.34216663\n",
            " 0.35372841 0.35365436 0.35787406 0.35098849 0.35948869 0.36376161\n",
            " 0.35987641 0.37023212 0.3681149  0.37745955 0.39100012 0.38124099\n",
            " 0.37248418 0.36231768 0.35221395 0.34268966 0.33368742 0.32500106\n",
            " 0.3164444  0.30791271 0.29938003 0.29087111 0.28243256 0.27411178\n",
            " 0.26594606 0.25795856 0.2501598  0.2425506  0.23512627 0.227879\n",
            " 0.22080095 0.21388488 0.20712508 0.20051785]\n",
            "23day output [[0.1940611]]\n",
            "24day input[0.34095718 0.34861672 0.36645631 0.37290893 0.37647583 0.37019972\n",
            " 0.37516562 0.37451114 0.36993885 0.36785446 0.38380677 0.38374092\n",
            " 0.40010641 0.3956696  0.40568366 0.41094282 0.40533128 0.40030689\n",
            " 0.40060794 0.40090878 0.395037   0.4070107  0.38628225 0.38136915\n",
            " 0.3746584  0.38833277 0.35545959 0.35240116 0.36532554 0.36453032\n",
            " 0.33854166 0.3303789  0.33930384 0.33777989 0.34063888 0.35246532\n",
            " 0.35387946 0.34238941 0.33587789 0.33205117 0.32405839 0.32114554\n",
            " 0.32587877 0.32130185 0.31792765 0.31511704 0.31864545 0.30758477\n",
            " 0.31235671 0.30913208 0.30277055 0.30523678 0.31108415 0.30338674\n",
            " 0.30638248 0.31213918 0.3228359  0.30619399 0.30276445 0.31328846\n",
            " 0.32782768 0.33746285 0.33705346 0.34382354 0.34216663 0.35372841\n",
            " 0.35365436 0.35787406 0.35098849 0.35948869 0.36376161 0.35987641\n",
            " 0.37023212 0.3681149  0.37745955 0.39100012 0.38124099 0.37248418\n",
            " 0.36231768 0.35221395 0.34268966 0.33368742 0.32500106 0.3164444\n",
            " 0.30791271 0.29938003 0.29087111 0.28243256 0.27411178 0.26594606\n",
            " 0.25795856 0.2501598  0.2425506  0.23512627 0.227879   0.22080095\n",
            " 0.21388488 0.20712508 0.20051785 0.1940611 ]\n",
            "24day output [[0.18775412]]\n",
            "25day input[0.34861672 0.36645631 0.37290893 0.37647583 0.37019972 0.37516562\n",
            " 0.37451114 0.36993885 0.36785446 0.38380677 0.38374092 0.40010641\n",
            " 0.3956696  0.40568366 0.41094282 0.40533128 0.40030689 0.40060794\n",
            " 0.40090878 0.395037   0.4070107  0.38628225 0.38136915 0.3746584\n",
            " 0.38833277 0.35545959 0.35240116 0.36532554 0.36453032 0.33854166\n",
            " 0.3303789  0.33930384 0.33777989 0.34063888 0.35246532 0.35387946\n",
            " 0.34238941 0.33587789 0.33205117 0.32405839 0.32114554 0.32587877\n",
            " 0.32130185 0.31792765 0.31511704 0.31864545 0.30758477 0.31235671\n",
            " 0.30913208 0.30277055 0.30523678 0.31108415 0.30338674 0.30638248\n",
            " 0.31213918 0.3228359  0.30619399 0.30276445 0.31328846 0.32782768\n",
            " 0.33746285 0.33705346 0.34382354 0.34216663 0.35372841 0.35365436\n",
            " 0.35787406 0.35098849 0.35948869 0.36376161 0.35987641 0.37023212\n",
            " 0.3681149  0.37745955 0.39100012 0.38124099 0.37248418 0.36231768\n",
            " 0.35221395 0.34268966 0.33368742 0.32500106 0.3164444  0.30791271\n",
            " 0.29938003 0.29087111 0.28243256 0.27411178 0.26594606 0.25795856\n",
            " 0.2501598  0.2425506  0.23512627 0.227879   0.22080095 0.21388488\n",
            " 0.20712508 0.20051785 0.1940611  0.18775412]\n",
            "25day output [[0.18159747]]\n",
            "26day input[0.36645631 0.37290893 0.37647583 0.37019972 0.37516562 0.37451114\n",
            " 0.36993885 0.36785446 0.38380677 0.38374092 0.40010641 0.3956696\n",
            " 0.40568366 0.41094282 0.40533128 0.40030689 0.40060794 0.40090878\n",
            " 0.395037   0.4070107  0.38628225 0.38136915 0.3746584  0.38833277\n",
            " 0.35545959 0.35240116 0.36532554 0.36453032 0.33854166 0.3303789\n",
            " 0.33930384 0.33777989 0.34063888 0.35246532 0.35387946 0.34238941\n",
            " 0.33587789 0.33205117 0.32405839 0.32114554 0.32587877 0.32130185\n",
            " 0.31792765 0.31511704 0.31864545 0.30758477 0.31235671 0.30913208\n",
            " 0.30277055 0.30523678 0.31108415 0.30338674 0.30638248 0.31213918\n",
            " 0.3228359  0.30619399 0.30276445 0.31328846 0.32782768 0.33746285\n",
            " 0.33705346 0.34382354 0.34216663 0.35372841 0.35365436 0.35787406\n",
            " 0.35098849 0.35948869 0.36376161 0.35987641 0.37023212 0.3681149\n",
            " 0.37745955 0.39100012 0.38124099 0.37248418 0.36231768 0.35221395\n",
            " 0.34268966 0.33368742 0.32500106 0.3164444  0.30791271 0.29938003\n",
            " 0.29087111 0.28243256 0.27411178 0.26594606 0.25795856 0.2501598\n",
            " 0.2425506  0.23512627 0.227879   0.22080095 0.21388488 0.20712508\n",
            " 0.20051785 0.1940611  0.18775412 0.18159747]\n",
            "26day output [[0.17559265]]\n",
            "27day input[0.37290893 0.37647583 0.37019972 0.37516562 0.37451114 0.36993885\n",
            " 0.36785446 0.38380677 0.38374092 0.40010641 0.3956696  0.40568366\n",
            " 0.41094282 0.40533128 0.40030689 0.40060794 0.40090878 0.395037\n",
            " 0.4070107  0.38628225 0.38136915 0.3746584  0.38833277 0.35545959\n",
            " 0.35240116 0.36532554 0.36453032 0.33854166 0.3303789  0.33930384\n",
            " 0.33777989 0.34063888 0.35246532 0.35387946 0.34238941 0.33587789\n",
            " 0.33205117 0.32405839 0.32114554 0.32587877 0.32130185 0.31792765\n",
            " 0.31511704 0.31864545 0.30758477 0.31235671 0.30913208 0.30277055\n",
            " 0.30523678 0.31108415 0.30338674 0.30638248 0.31213918 0.3228359\n",
            " 0.30619399 0.30276445 0.31328846 0.32782768 0.33746285 0.33705346\n",
            " 0.34382354 0.34216663 0.35372841 0.35365436 0.35787406 0.35098849\n",
            " 0.35948869 0.36376161 0.35987641 0.37023212 0.3681149  0.37745955\n",
            " 0.39100012 0.38124099 0.37248418 0.36231768 0.35221395 0.34268966\n",
            " 0.33368742 0.32500106 0.3164444  0.30791271 0.29938003 0.29087111\n",
            " 0.28243256 0.27411178 0.26594606 0.25795856 0.2501598  0.2425506\n",
            " 0.23512627 0.227879   0.22080095 0.21388488 0.20712508 0.20051785\n",
            " 0.1940611  0.18775412 0.18159747 0.17559265]\n",
            "27day output [[0.16974191]]\n",
            "28day input[0.37647583 0.37019972 0.37516562 0.37451114 0.36993885 0.36785446\n",
            " 0.38380677 0.38374092 0.40010641 0.3956696  0.40568366 0.41094282\n",
            " 0.40533128 0.40030689 0.40060794 0.40090878 0.395037   0.4070107\n",
            " 0.38628225 0.38136915 0.3746584  0.38833277 0.35545959 0.35240116\n",
            " 0.36532554 0.36453032 0.33854166 0.3303789  0.33930384 0.33777989\n",
            " 0.34063888 0.35246532 0.35387946 0.34238941 0.33587789 0.33205117\n",
            " 0.32405839 0.32114554 0.32587877 0.32130185 0.31792765 0.31511704\n",
            " 0.31864545 0.30758477 0.31235671 0.30913208 0.30277055 0.30523678\n",
            " 0.31108415 0.30338674 0.30638248 0.31213918 0.3228359  0.30619399\n",
            " 0.30276445 0.31328846 0.32782768 0.33746285 0.33705346 0.34382354\n",
            " 0.34216663 0.35372841 0.35365436 0.35787406 0.35098849 0.35948869\n",
            " 0.36376161 0.35987641 0.37023212 0.3681149  0.37745955 0.39100012\n",
            " 0.38124099 0.37248418 0.36231768 0.35221395 0.34268966 0.33368742\n",
            " 0.32500106 0.3164444  0.30791271 0.29938003 0.29087111 0.28243256\n",
            " 0.27411178 0.26594606 0.25795856 0.2501598  0.2425506  0.23512627\n",
            " 0.227879   0.22080095 0.21388488 0.20712508 0.20051785 0.1940611\n",
            " 0.18775412 0.18159747 0.17559265 0.16974191]\n",
            "28day output [[0.16404797]]\n",
            "29day input[0.37019972 0.37516562 0.37451114 0.36993885 0.36785446 0.38380677\n",
            " 0.38374092 0.40010641 0.3956696  0.40568366 0.41094282 0.40533128\n",
            " 0.40030689 0.40060794 0.40090878 0.395037   0.4070107  0.38628225\n",
            " 0.38136915 0.3746584  0.38833277 0.35545959 0.35240116 0.36532554\n",
            " 0.36453032 0.33854166 0.3303789  0.33930384 0.33777989 0.34063888\n",
            " 0.35246532 0.35387946 0.34238941 0.33587789 0.33205117 0.32405839\n",
            " 0.32114554 0.32587877 0.32130185 0.31792765 0.31511704 0.31864545\n",
            " 0.30758477 0.31235671 0.30913208 0.30277055 0.30523678 0.31108415\n",
            " 0.30338674 0.30638248 0.31213918 0.3228359  0.30619399 0.30276445\n",
            " 0.31328846 0.32782768 0.33746285 0.33705346 0.34382354 0.34216663\n",
            " 0.35372841 0.35365436 0.35787406 0.35098849 0.35948869 0.36376161\n",
            " 0.35987641 0.37023212 0.3681149  0.37745955 0.39100012 0.38124099\n",
            " 0.37248418 0.36231768 0.35221395 0.34268966 0.33368742 0.32500106\n",
            " 0.3164444  0.30791271 0.29938003 0.29087111 0.28243256 0.27411178\n",
            " 0.26594606 0.25795856 0.2501598  0.2425506  0.23512627 0.227879\n",
            " 0.22080095 0.21388488 0.20712508 0.20051785 0.1940611  0.18775412\n",
            " 0.18159747 0.17559265 0.16974191 0.16404797]\n",
            "29day output [[0.15851368]]\n",
            "[[0.38124099373817444], [0.3724841773509979], [0.36231768131256104], [0.35221394896507263], [0.3426896631717682], [0.333687424659729], [0.325001060962677], [0.31644439697265625], [0.3079127073287964], [0.29938003420829773], [0.29087111353874207], [0.28243255615234375], [0.2741117775440216], [0.26594606041908264], [0.2579585611820221], [0.2501598000526428], [0.24255059659481049], [0.23512627184391022], [0.22787900269031525], [0.2208009511232376], [0.2138848751783371], [0.20712508261203766], [0.20051784813404083], [0.19406110048294067], [0.18775412440299988], [0.18159747123718262], [0.17559264600276947], [0.1697419136762619], [0.164047971367836], [0.15851368010044098]]\n"
          ]
        }
      ]
    },
    {
      "cell_type": "code",
      "source": [
        "day_new=np.arange(1,101)\n",
        "day_pred=np.arange(101,131)#30days"
      ],
      "metadata": {
        "id": "2jJ78XixZHUn"
      },
      "execution_count": 320,
      "outputs": []
    },
    {
      "cell_type": "code",
      "source": [
        "len(df_close)"
      ],
      "metadata": {
        "colab": {
          "base_uri": "https://localhost:8080/"
        },
        "id": "obJoCfFUY__P",
        "outputId": "df3a6fbf-2357-48db-991c-26c562813a73"
      },
      "execution_count": 321,
      "outputs": [
        {
          "output_type": "execute_result",
          "data": {
            "text/plain": [
              "3127"
            ]
          },
          "metadata": {},
          "execution_count": 321
        }
      ]
    },
    {
      "cell_type": "code",
      "source": [
        "df3=df_close.tolist()\n",
        "df3.extend(lst_output)\n",
        "lst_output"
      ],
      "metadata": {
        "id": "SHq3nufoZr0F",
        "colab": {
          "base_uri": "https://localhost:8080/"
        },
        "outputId": "3ce26e78-0014-4a3d-fb1a-04d5c45d5349"
      },
      "execution_count": 322,
      "outputs": [
        {
          "output_type": "execute_result",
          "data": {
            "text/plain": [
              "[[0.38124099373817444],\n",
              " [0.3724841773509979],\n",
              " [0.36231768131256104],\n",
              " [0.35221394896507263],\n",
              " [0.3426896631717682],\n",
              " [0.333687424659729],\n",
              " [0.325001060962677],\n",
              " [0.31644439697265625],\n",
              " [0.3079127073287964],\n",
              " [0.29938003420829773],\n",
              " [0.29087111353874207],\n",
              " [0.28243255615234375],\n",
              " [0.2741117775440216],\n",
              " [0.26594606041908264],\n",
              " [0.2579585611820221],\n",
              " [0.2501598000526428],\n",
              " [0.24255059659481049],\n",
              " [0.23512627184391022],\n",
              " [0.22787900269031525],\n",
              " [0.2208009511232376],\n",
              " [0.2138848751783371],\n",
              " [0.20712508261203766],\n",
              " [0.20051784813404083],\n",
              " [0.19406110048294067],\n",
              " [0.18775412440299988],\n",
              " [0.18159747123718262],\n",
              " [0.17559264600276947],\n",
              " [0.1697419136762619],\n",
              " [0.164047971367836],\n",
              " [0.15851368010044098]]"
            ]
          },
          "metadata": {},
          "execution_count": 322
        }
      ]
    },
    {
      "cell_type": "code",
      "source": [
        "plt.figure(figsize=(13,7))\n",
        "plt.plot(day_new,scaler.inverse_transform(df_close[3027:]))\n",
        "plt.plot(day_pred,scaler.inverse_transform(lst_output))"
      ],
      "metadata": {
        "colab": {
          "base_uri": "https://localhost:8080/",
          "height": 445
        },
        "id": "CBqL_jGFZ95t",
        "outputId": "b80f2b06-d556-41e1-abfc-08a5b14b6ead"
      },
      "execution_count": 323,
      "outputs": [
        {
          "output_type": "execute_result",
          "data": {
            "text/plain": [
              "[<matplotlib.lines.Line2D at 0x7f3989152050>]"
            ]
          },
          "metadata": {},
          "execution_count": 323
        },
        {
          "output_type": "display_data",
          "data": {
            "text/plain": [
              "<Figure size 936x504 with 1 Axes>"
            ],
            "image/png": "[encoded data removed]"
          },
          "metadata": {
            "needs_background": "light"
          }
        }
      ]
    },
    {
      "cell_type": "code",
      "source": [
        "plt.figure(figsize=(10,7))\n",
        "df3=df_close.tolist()\n",
        "df3.extend(lst_output)\n",
        "plt.plot(df3[400:])\n"
      ],
      "metadata": {
        "colab": {
          "base_uri": "https://localhost:8080/",
          "height": 445
        },
        "id": "ftttDqrZa6cP",
        "outputId": "b45150e6-db28-4775-8f27-7fd750cd92e0"
      },
      "execution_count": 324,
      "outputs": [
        {
          "output_type": "execute_result",
          "data": {
            "text/plain": [
              "[<matplotlib.lines.Line2D at 0x7f398902a390>]"
            ]
          },
          "metadata": {},
          "execution_count": 324
        },
        {
          "output_type": "display_data",
          "data": {
            "text/plain": [
              "<Figure size 720x504 with 1 Axes>"
            ],
            "image/png": "[encoded data removed]"
          },
          "metadata": {
            "needs_background": "light"
          }
        }
      ]
    },
    {
      "cell_type": "code",
      "source": [
        ""
      ],
      "metadata": {
        "id": "e9zn4rZKFYqH"
      },
      "execution_count": null,
      "outputs": []
    },
    {
      "cell_type": "code",
      "source": [
        "bb=yf.download(\"GBPUSD=X\",start='2020-1-13',end='2022-3-12')\n",
        "bb_close=bb.reset_index()['Close']\n",
        "plt.figure(figsize=(13,7))\n",
        "plt.plot(bb_close)"
      ],
      "metadata": {
        "colab": {
          "base_uri": "https://localhost:8080/",
          "height": 463
        },
        "id": "QkUs4Qs_AzlR",
        "outputId": "38e88087-dc5e-46b9-9a82-5c2614a5b312"
      },
      "execution_count": 335,
      "outputs": [
        {
          "output_type": "stream",
          "name": "stdout",
          "text": [
            "\r[*********************100%***********************]  1 of 1 completed\n"
          ]
        },
        {
          "output_type": "execute_result",
          "data": {
            "text/plain": [
              "[<matplotlib.lines.Line2D at 0x7f398591ff10>]"
            ]
          },
          "metadata": {},
          "execution_count": 335
        },
        {
          "output_type": "display_data",
          "data": {
            "text/plain": [
              "<Figure size 936x504 with 1 Axes>"
            ],
            "image/png": "[encoded data removed]"
          },
          "metadata": {
            "needs_background": "light"
          }
        }
      ]
    },
    {
      "cell_type": "code",
      "source": [
        ""
      ],
      "metadata": {
        "id": "2hz1wMVpvj4L"
      },
      "execution_count": null,
      "outputs": []
    },
    {
      "cell_type": "code",
      "source": [
        ""
      ],
      "metadata": {
        "id": "TmA-ezjqvhjE"
      },
      "execution_count": null,
      "outputs": []
    },
    {
      "cell_type": "code",
      "source": [
        ""
      ],
      "metadata": {
        "id": "hZz8uYafvZ_D"
      },
      "execution_count": null,
      "outputs": []
    },
    {
      "cell_type": "code",
      "source": [
        ""
      ],
      "metadata": {
        "id": "w3aP6trVu7R9"
      },
      "execution_count": null,
      "outputs": []
    },
    {
      "cell_type": "code",
      "source": [
        ""
      ],
      "metadata": {
        "id": "hP6tmaJ5u3pU"
      },
      "execution_count": null,
      "outputs": []
    },
    {
      "cell_type": "code",
      "source": [
        ""
      ],
      "metadata": {
        "id": "HCtHW-Igu0UE"
      },
      "execution_count": null,
      "outputs": []
    }
  ]
}